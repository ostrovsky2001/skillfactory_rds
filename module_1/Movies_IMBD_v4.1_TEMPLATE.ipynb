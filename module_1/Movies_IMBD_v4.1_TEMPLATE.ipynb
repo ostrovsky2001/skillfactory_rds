{
 "cells": [
  {
   "cell_type": "code",
   "execution_count": 1,
   "metadata": {
    "_cell_guid": "b1076dfc-b9ad-4769-8c92-a6c4dae69d19",
    "_uuid": "8f2839f25d086af736a60e9eeb907d3b93b6e0e5",
    "colab": {},
    "colab_type": "code",
    "id": "U2D2gTdJVp90"
   },
   "outputs": [],
   "source": [
    "import re\n",
    "import numpy as np\n",
    "import pandas as pd\n",
    "import seaborn as sns\n",
    "import matplotlib.pyplot as plt\n",
    "import collections\n",
    "from itertools import combinations"
   ]
  },
  {
   "cell_type": "code",
   "execution_count": 2,
   "metadata": {
    "_cell_guid": "79c7e3d0-c299-4dcb-8224-4455121ee9b0",
    "_uuid": "d629ff2d2480ee46fbb7e2d37f6b5fab8052498a",
    "colab": {},
    "colab_type": "code",
    "id": "oyGfxL3eVp9-"
   },
   "outputs": [
    {
     "data": {
      "text/html": [
       "<div>\n",
       "<style scoped>\n",
       "    .dataframe tbody tr th:only-of-type {\n",
       "        vertical-align: middle;\n",
       "    }\n",
       "\n",
       "    .dataframe tbody tr th {\n",
       "        vertical-align: top;\n",
       "    }\n",
       "\n",
       "    .dataframe thead th {\n",
       "        text-align: right;\n",
       "    }\n",
       "</style>\n",
       "<table border=\"1\" class=\"dataframe\">\n",
       "  <thead>\n",
       "    <tr style=\"text-align: right;\">\n",
       "      <th></th>\n",
       "      <th>imdb_id</th>\n",
       "      <th>budget</th>\n",
       "      <th>revenue</th>\n",
       "      <th>original_title</th>\n",
       "      <th>cast</th>\n",
       "      <th>director</th>\n",
       "      <th>tagline</th>\n",
       "      <th>overview</th>\n",
       "      <th>runtime</th>\n",
       "      <th>genres</th>\n",
       "      <th>production_companies</th>\n",
       "      <th>release_date</th>\n",
       "      <th>vote_average</th>\n",
       "      <th>release_year</th>\n",
       "    </tr>\n",
       "  </thead>\n",
       "  <tbody>\n",
       "    <tr>\n",
       "      <th>1854</th>\n",
       "      <td>tt0158622</td>\n",
       "      <td>83000000</td>\n",
       "      <td>59468275</td>\n",
       "      <td>The Flintstones in Viva Rock Vegas</td>\n",
       "      <td>Mark Addy|Stephen Baldwin|Kristen Johnston|Jan...</td>\n",
       "      <td>Brian Levant</td>\n",
       "      <td>Get ready to rock!</td>\n",
       "      <td>The Flintstones are at it again. The Flintston...</td>\n",
       "      <td>90</td>\n",
       "      <td>Science Fiction|Comedy|Family|Romance</td>\n",
       "      <td>Universal Pictures|Amblin Entertainment</td>\n",
       "      <td>4/28/2000</td>\n",
       "      <td>4.4</td>\n",
       "      <td>2000</td>\n",
       "    </tr>\n",
       "    <tr>\n",
       "      <th>944</th>\n",
       "      <td>tt0240510</td>\n",
       "      <td>35000000</td>\n",
       "      <td>29882645</td>\n",
       "      <td>The Four Feathers</td>\n",
       "      <td>Heath Ledger|Wes Bentley|Kate Hudson|Djimon Ho...</td>\n",
       "      <td>Shekhar Kapur</td>\n",
       "      <td>Freedom. Country. Honor. Passion. To save his ...</td>\n",
       "      <td>The story, set in 1875, follows a British offi...</td>\n",
       "      <td>132</td>\n",
       "      <td>War|Adventure|Drama|Romance</td>\n",
       "      <td>Paramount Pictures|Miramax Films|Marty Katz Pr...</td>\n",
       "      <td>9/8/2002</td>\n",
       "      <td>6.4</td>\n",
       "      <td>2002</td>\n",
       "    </tr>\n",
       "    <tr>\n",
       "      <th>580</th>\n",
       "      <td>tt0255798</td>\n",
       "      <td>22000000</td>\n",
       "      <td>84772742</td>\n",
       "      <td>The Animal</td>\n",
       "      <td>Rob Schneider|Colleen Haskell|John C. McGinley...</td>\n",
       "      <td>Luke Greenfield</td>\n",
       "      <td>He wasn't much of a man... Now he's not much o...</td>\n",
       "      <td>When loser Marvin Mange is involved in a horri...</td>\n",
       "      <td>84</td>\n",
       "      <td>Action|Comedy</td>\n",
       "      <td>Revolution Studios|Happy Madison Productions</td>\n",
       "      <td>6/1/2001</td>\n",
       "      <td>4.5</td>\n",
       "      <td>2001</td>\n",
       "    </tr>\n",
       "    <tr>\n",
       "      <th>969</th>\n",
       "      <td>tt0279493</td>\n",
       "      <td>25000000</td>\n",
       "      <td>41604473</td>\n",
       "      <td>Undercover Brother</td>\n",
       "      <td>Eddie Griffin|Chris Kattan|Denise Richards|Aun...</td>\n",
       "      <td>Malcolm D. Lee</td>\n",
       "      <td>He's All Action</td>\n",
       "      <td>An Afro-American organization, the B.R.O.T.H.E...</td>\n",
       "      <td>86</td>\n",
       "      <td>Action|Comedy</td>\n",
       "      <td>Universal Pictures</td>\n",
       "      <td>5/31/2002</td>\n",
       "      <td>5.4</td>\n",
       "      <td>2002</td>\n",
       "    </tr>\n",
       "    <tr>\n",
       "      <th>383</th>\n",
       "      <td>tt1542344</td>\n",
       "      <td>18000000</td>\n",
       "      <td>35692920</td>\n",
       "      <td>127 Hours</td>\n",
       "      <td>James Franco|Kate Mara|Amber Tamblyn|ClÃ©mence...</td>\n",
       "      <td>Danny Boyle</td>\n",
       "      <td>There is no force more powerful than the will ...</td>\n",
       "      <td>127 Hours is the true story of mountain climbe...</td>\n",
       "      <td>94</td>\n",
       "      <td>Adventure|Drama|Thriller</td>\n",
       "      <td>Fox Searchlight Pictures|Dune Entertainment|Da...</td>\n",
       "      <td>11/5/2010</td>\n",
       "      <td>6.9</td>\n",
       "      <td>2010</td>\n",
       "    </tr>\n",
       "  </tbody>\n",
       "</table>\n",
       "</div>"
      ],
      "text/plain": [
       "        imdb_id    budget   revenue                      original_title  \\\n",
       "1854  tt0158622  83000000  59468275  The Flintstones in Viva Rock Vegas   \n",
       "944   tt0240510  35000000  29882645                   The Four Feathers   \n",
       "580   tt0255798  22000000  84772742                          The Animal   \n",
       "969   tt0279493  25000000  41604473                  Undercover Brother   \n",
       "383   tt1542344  18000000  35692920                           127 Hours   \n",
       "\n",
       "                                                   cast         director  \\\n",
       "1854  Mark Addy|Stephen Baldwin|Kristen Johnston|Jan...     Brian Levant   \n",
       "944   Heath Ledger|Wes Bentley|Kate Hudson|Djimon Ho...    Shekhar Kapur   \n",
       "580   Rob Schneider|Colleen Haskell|John C. McGinley...  Luke Greenfield   \n",
       "969   Eddie Griffin|Chris Kattan|Denise Richards|Aun...   Malcolm D. Lee   \n",
       "383   James Franco|Kate Mara|Amber Tamblyn|ClÃ©mence...      Danny Boyle   \n",
       "\n",
       "                                                tagline  \\\n",
       "1854                                 Get ready to rock!   \n",
       "944   Freedom. Country. Honor. Passion. To save his ...   \n",
       "580   He wasn't much of a man... Now he's not much o...   \n",
       "969                                     He's All Action   \n",
       "383   There is no force more powerful than the will ...   \n",
       "\n",
       "                                               overview  runtime  \\\n",
       "1854  The Flintstones are at it again. The Flintston...       90   \n",
       "944   The story, set in 1875, follows a British offi...      132   \n",
       "580   When loser Marvin Mange is involved in a horri...       84   \n",
       "969   An Afro-American organization, the B.R.O.T.H.E...       86   \n",
       "383   127 Hours is the true story of mountain climbe...       94   \n",
       "\n",
       "                                     genres  \\\n",
       "1854  Science Fiction|Comedy|Family|Romance   \n",
       "944             War|Adventure|Drama|Romance   \n",
       "580                           Action|Comedy   \n",
       "969                           Action|Comedy   \n",
       "383                Adventure|Drama|Thriller   \n",
       "\n",
       "                                   production_companies release_date  \\\n",
       "1854            Universal Pictures|Amblin Entertainment    4/28/2000   \n",
       "944   Paramount Pictures|Miramax Films|Marty Katz Pr...     9/8/2002   \n",
       "580        Revolution Studios|Happy Madison Productions     6/1/2001   \n",
       "969                                  Universal Pictures    5/31/2002   \n",
       "383   Fox Searchlight Pictures|Dune Entertainment|Da...    11/5/2010   \n",
       "\n",
       "      vote_average  release_year  \n",
       "1854           4.4          2000  \n",
       "944            6.4          2002  \n",
       "580            4.5          2001  \n",
       "969            5.4          2002  \n",
       "383            6.9          2010  "
      ]
     },
     "execution_count": 2,
     "metadata": {},
     "output_type": "execute_result"
    }
   ],
   "source": [
    "data = pd.read_csv('movie_bd_v5.csv', parse_dates=True)\n",
    "data.sample(5)"
   ]
  },
  {
   "cell_type": "code",
   "execution_count": 3,
   "metadata": {
    "colab": {},
    "colab_type": "code",
    "id": "CoYUnagMVp-C"
   },
   "outputs": [
    {
     "data": {
      "text/html": [
       "<div>\n",
       "<style scoped>\n",
       "    .dataframe tbody tr th:only-of-type {\n",
       "        vertical-align: middle;\n",
       "    }\n",
       "\n",
       "    .dataframe tbody tr th {\n",
       "        vertical-align: top;\n",
       "    }\n",
       "\n",
       "    .dataframe thead th {\n",
       "        text-align: right;\n",
       "    }\n",
       "</style>\n",
       "<table border=\"1\" class=\"dataframe\">\n",
       "  <thead>\n",
       "    <tr style=\"text-align: right;\">\n",
       "      <th></th>\n",
       "      <th>budget</th>\n",
       "      <th>revenue</th>\n",
       "      <th>runtime</th>\n",
       "      <th>vote_average</th>\n",
       "      <th>release_year</th>\n",
       "    </tr>\n",
       "  </thead>\n",
       "  <tbody>\n",
       "    <tr>\n",
       "      <th>count</th>\n",
       "      <td>1.889000e+03</td>\n",
       "      <td>1.889000e+03</td>\n",
       "      <td>1889.000000</td>\n",
       "      <td>1889.000000</td>\n",
       "      <td>1889.000000</td>\n",
       "    </tr>\n",
       "    <tr>\n",
       "      <th>mean</th>\n",
       "      <td>5.431083e+07</td>\n",
       "      <td>1.553653e+08</td>\n",
       "      <td>109.658549</td>\n",
       "      <td>6.140762</td>\n",
       "      <td>2007.860773</td>\n",
       "    </tr>\n",
       "    <tr>\n",
       "      <th>std</th>\n",
       "      <td>4.858721e+07</td>\n",
       "      <td>2.146698e+08</td>\n",
       "      <td>18.017041</td>\n",
       "      <td>0.764763</td>\n",
       "      <td>4.468841</td>\n",
       "    </tr>\n",
       "    <tr>\n",
       "      <th>min</th>\n",
       "      <td>5.000000e+06</td>\n",
       "      <td>2.033165e+06</td>\n",
       "      <td>63.000000</td>\n",
       "      <td>3.300000</td>\n",
       "      <td>2000.000000</td>\n",
       "    </tr>\n",
       "    <tr>\n",
       "      <th>25%</th>\n",
       "      <td>2.000000e+07</td>\n",
       "      <td>3.456058e+07</td>\n",
       "      <td>97.000000</td>\n",
       "      <td>5.600000</td>\n",
       "      <td>2004.000000</td>\n",
       "    </tr>\n",
       "    <tr>\n",
       "      <th>50%</th>\n",
       "      <td>3.800000e+07</td>\n",
       "      <td>8.361541e+07</td>\n",
       "      <td>107.000000</td>\n",
       "      <td>6.100000</td>\n",
       "      <td>2008.000000</td>\n",
       "    </tr>\n",
       "    <tr>\n",
       "      <th>75%</th>\n",
       "      <td>7.200000e+07</td>\n",
       "      <td>1.782626e+08</td>\n",
       "      <td>120.000000</td>\n",
       "      <td>6.600000</td>\n",
       "      <td>2012.000000</td>\n",
       "    </tr>\n",
       "    <tr>\n",
       "      <th>max</th>\n",
       "      <td>3.800000e+08</td>\n",
       "      <td>2.781506e+09</td>\n",
       "      <td>214.000000</td>\n",
       "      <td>8.100000</td>\n",
       "      <td>2015.000000</td>\n",
       "    </tr>\n",
       "  </tbody>\n",
       "</table>\n",
       "</div>"
      ],
      "text/plain": [
       "             budget       revenue      runtime  vote_average  release_year\n",
       "count  1.889000e+03  1.889000e+03  1889.000000   1889.000000   1889.000000\n",
       "mean   5.431083e+07  1.553653e+08   109.658549      6.140762   2007.860773\n",
       "std    4.858721e+07  2.146698e+08    18.017041      0.764763      4.468841\n",
       "min    5.000000e+06  2.033165e+06    63.000000      3.300000   2000.000000\n",
       "25%    2.000000e+07  3.456058e+07    97.000000      5.600000   2004.000000\n",
       "50%    3.800000e+07  8.361541e+07   107.000000      6.100000   2008.000000\n",
       "75%    7.200000e+07  1.782626e+08   120.000000      6.600000   2012.000000\n",
       "max    3.800000e+08  2.781506e+09   214.000000      8.100000   2015.000000"
      ]
     },
     "execution_count": 3,
     "metadata": {},
     "output_type": "execute_result"
    }
   ],
   "source": [
    "data.describe()"
   ]
  },
  {
   "cell_type": "markdown",
   "metadata": {
    "colab_type": "text",
    "id": "DTIt7ezGVp-G"
   },
   "source": [
    "# Предобработка"
   ]
  },
  {
   "cell_type": "code",
   "execution_count": 4,
   "metadata": {
    "colab": {},
    "colab_type": "code",
    "id": "jNb40DwKVp-H"
   },
   "outputs": [],
   "source": [
    "\n",
    "answers = {} # создадим словарь для ответов\n",
    "\n",
    "# тут другие ваши предобработки колонок например:\n",
    "data['profit'] = data.revenue - data.budget\n",
    "\n",
    "\n",
    "def print_title(data_index):\n",
    "    '''Функция, которая красиво выводит ответ.'''\n",
    "    title = data.original_title.values[data_index][0]\n",
    "    imdb = data.imdb_id[data_index[0]]\n",
    "    \n",
    "    print('{} ({})'.format(title,imdb))\n",
    "    \n",
    "    \n",
    "def found_genres(s):\n",
    "    '''Функция, которая создаёт список всех совпадений с pattern\n",
    "и возвращает саму строку, чтобы не изменять DataFrame'''\n",
    "    pattern = re.compile('[A-z]+')\n",
    "    new_list.append(pattern.findall(s))\n",
    "    \n",
    "    return s\n",
    "\n",
    "\n",
    "def count_genres(s):\n",
    "    '''Функция, которая создаёт словарь со всеми жанрами и их кол-вом\n",
    "и возвращает саму строку, чтобы не изменять DataFrame'''\n",
    "    for i in s:\n",
    "        if i in dict_genres:\n",
    "            dict_genres[i]+=1\n",
    "        else:\n",
    "            dict_genres[i]=1\n",
    "            \n",
    "    return s\n",
    "\n",
    "\n",
    "def found_action(s):\n",
    "    '''Возвращает строку с Action или без.'''\n",
    "    k='Action'\n",
    "    if k in s:\n",
    "        return k\n",
    "    else:\n",
    "        return s\n",
    "    \n",
    "    \n",
    "def release_month(s):\n",
    "    '''Находит в колонке все десятичные числа или цифры список из (месяца,дня,года),\n",
    "выводит название месяца соответсвующего числу.'''\n",
    "    pattern = re.compile('\\d+')\n",
    "    data_dict = {'1': 'Январь','2': 'Февраль','3': 'Март',\n",
    "                 '4': 'Апрель','5': 'Май','6': 'Июнь',\n",
    "                 '7': 'Июль','8': 'Август','9': 'Сентябрь',\n",
    "                 '10': 'Октябрь','11': 'Ноябрь','12': 'Декабрь'\n",
    "    }\n",
    "    \n",
    "    return data_dict[pattern.findall(s)[0]]\n",
    "\n",
    "\n",
    "def release_season(s):\n",
    "    '''Находит всё тоже что и в ф-ии release_month,\n",
    "только выводит времена года'''\n",
    "    pattern = re.compile('\\d+')\n",
    "    data_dict = {'1': 'Зима','2': 'Зима','3': 'Весна',\n",
    "                 '4': 'Весна','5': 'Весна','6': 'Лето',\n",
    "                 '7': 'Лето','8': 'Лето','9': 'Осень',\n",
    "                 '10': 'Осень','11': 'Осень','12': 'Зима'\n",
    "    }\n",
    "    \n",
    "    return data_dict[pattern.findall(s)[0]]"
   ]
  },
  {
   "cell_type": "markdown",
   "metadata": {
    "colab_type": "text",
    "id": "YxZaH-nPVp-L"
   },
   "source": [
    "# 1. У какого фильма из списка самый большой бюджет?"
   ]
  },
  {
   "cell_type": "markdown",
   "metadata": {
    "colab_type": "text",
    "id": "Nd-G5gX6Vp-M"
   },
   "source": [
    "Использовать варианты ответов в коде решения запрещено.    \n",
    "Вы думаете и в жизни у вас будут варианты ответов?)"
   ]
  },
  {
   "cell_type": "code",
   "execution_count": 7,
   "metadata": {},
   "outputs": [],
   "source": [
    "answers['1'] = 'Pirates of the Caribbean: On Stranger Tides (tt1298650)' # +"
   ]
  },
  {
   "cell_type": "code",
   "execution_count": 8,
   "metadata": {
    "colab": {},
    "colab_type": "code",
    "id": "dZwb3m28Vp-S",
    "scrolled": true
   },
   "outputs": [
    {
     "name": "stdout",
     "output_type": "stream",
     "text": [
      "Pirates of the Caribbean: On Stranger Tides (tt1298650)\n"
     ]
    }
   ],
   "source": [
    "data_index = data.loc[data.budget == data.budget.max()].index\n",
    "print_title(data_index)"
   ]
  },
  {
   "cell_type": "markdown",
   "metadata": {
    "colab_type": "text",
    "id": "K7L3nbRXVp-X"
   },
   "source": [
    "ВАРИАНТ 2"
   ]
  },
  {
   "cell_type": "code",
   "execution_count": 9,
   "metadata": {
    "colab": {},
    "colab_type": "code",
    "id": "OGaoQI7rVp-X"
   },
   "outputs": [
    {
     "name": "stdout",
     "output_type": "stream",
     "text": [
      "Pirates of the Caribbean: On Stranger Tides (tt1298650)\n"
     ]
    }
   ],
   "source": [
    "# решение с помощью .query\n",
    "data_index = data.query('budget == budget.max()').index\n",
    "print_title(data_index)"
   ]
  },
  {
   "cell_type": "markdown",
   "metadata": {
    "colab_type": "text",
    "id": "FNRbbI3vVp-c"
   },
   "source": [
    "# 2. Какой из фильмов самый длительный (в минутах)?"
   ]
  },
  {
   "cell_type": "code",
   "execution_count": 10,
   "metadata": {
    "colab": {},
    "colab_type": "code",
    "id": "vHAoEXNTVp-d"
   },
   "outputs": [],
   "source": [
    "answers['2'] = 'Gods and Generals (tt0279111)' # +"
   ]
  },
  {
   "cell_type": "code",
   "execution_count": 11,
   "metadata": {
    "colab": {},
    "colab_type": "code",
    "id": "ot-VX2XrVp-g"
   },
   "outputs": [
    {
     "name": "stdout",
     "output_type": "stream",
     "text": [
      "Gods and Generals (tt0279111)\n"
     ]
    }
   ],
   "source": [
    "data_index = data.query('runtime == runtime.max()').index\n",
    "print_title(data_index)"
   ]
  },
  {
   "cell_type": "markdown",
   "metadata": {
    "colab_type": "text",
    "id": "bapLlpW8Vp-k"
   },
   "source": [
    "# 3. Какой из фильмов самый короткий (в минутах)?\n",
    "\n",
    "\n",
    "\n"
   ]
  },
  {
   "cell_type": "code",
   "execution_count": 12,
   "metadata": {
    "colab": {},
    "colab_type": "code",
    "id": "YBxaSHuAVp-l"
   },
   "outputs": [],
   "source": [
    "answers['3'] = 'Winnie the Pooh (tt1449283)' # +"
   ]
  },
  {
   "cell_type": "code",
   "execution_count": 13,
   "metadata": {},
   "outputs": [
    {
     "name": "stdout",
     "output_type": "stream",
     "text": [
      "Winnie the Pooh (tt1449283)\n"
     ]
    }
   ],
   "source": [
    "data_index = data.runtime.sort_values().index[0]\n",
    "title = data.original_title[data_index]\n",
    "imdb = data.imdb_id[data_index]\n",
    "print('{} ({})'.format(title,imdb))"
   ]
  },
  {
   "cell_type": "code",
   "execution_count": 14,
   "metadata": {},
   "outputs": [
    {
     "name": "stdout",
     "output_type": "stream",
     "text": [
      "Winnie the Pooh (tt1449283)\n"
     ]
    }
   ],
   "source": [
    "#2 способ решения\n",
    "data_index = data.query('runtime == runtime.min()').index\n",
    "print_title(data_index)"
   ]
  },
  {
   "cell_type": "markdown",
   "metadata": {
    "colab_type": "text",
    "id": "TfQbxbfNVp-p"
   },
   "source": [
    "# 4. Какова средняя длительность фильмов?\n"
   ]
  },
  {
   "cell_type": "code",
   "execution_count": 15,
   "metadata": {},
   "outputs": [
    {
     "data": {
      "text/plain": [
       "110"
      ]
     },
     "execution_count": 15,
     "metadata": {},
     "output_type": "execute_result"
    }
   ],
   "source": [
    "# round - округляет значение,в данном случае до целого числа.\n",
    "round(data.runtime.mean())"
   ]
  },
  {
   "cell_type": "code",
   "execution_count": 16,
   "metadata": {},
   "outputs": [],
   "source": [
    "answers['4'] = 110 # +"
   ]
  },
  {
   "cell_type": "markdown",
   "metadata": {
    "colab_type": "text",
    "id": "r5TvbnT_Vp-u"
   },
   "source": [
    "# 5. Каково медианное значение длительности фильмов? "
   ]
  },
  {
   "cell_type": "code",
   "execution_count": 17,
   "metadata": {},
   "outputs": [
    {
     "data": {
      "text/plain": [
       "107.0"
      ]
     },
     "execution_count": 17,
     "metadata": {},
     "output_type": "execute_result"
    }
   ],
   "source": [
    "data.runtime.median()"
   ]
  },
  {
   "cell_type": "code",
   "execution_count": 18,
   "metadata": {},
   "outputs": [],
   "source": [
    "answers['5'] = 107 # +"
   ]
  },
  {
   "cell_type": "markdown",
   "metadata": {
    "colab_type": "text",
    "id": "39P-deDSVp-y"
   },
   "source": [
    "# 6. Какой самый прибыльный фильм?\n",
    "#### Внимание! Здесь и далее под «прибылью» или «убытками» понимается разность между сборами и бюджетом фильма. (прибыль = сборы - бюджет) в нашем датасете это будет (profit = revenue - budget) "
   ]
  },
  {
   "cell_type": "code",
   "execution_count": 19,
   "metadata": {
    "colab": {},
    "colab_type": "code",
    "id": "UYZh4T9WVp-y"
   },
   "outputs": [],
   "source": [
    "# data = pd.read_csv('movie_bd_v5.csv', parse_dates=True)\n",
    "# прочитали данный csv файл с чтением дат."
   ]
  },
  {
   "cell_type": "code",
   "execution_count": 20,
   "metadata": {},
   "outputs": [
    {
     "name": "stdout",
     "output_type": "stream",
     "text": [
      "Avatar (tt0499549)\n"
     ]
    }
   ],
   "source": [
    "data_index = data.query('(profit == profit.max()) & (profit > 0)').index\n",
    "print_title(data_index)"
   ]
  },
  {
   "cell_type": "code",
   "execution_count": 21,
   "metadata": {},
   "outputs": [],
   "source": [
    "answers['6'] = 'Avatar (tt0499549)' # +"
   ]
  },
  {
   "cell_type": "markdown",
   "metadata": {
    "colab_type": "text",
    "id": "M99JmIX4Vp-2"
   },
   "source": [
    "# 7. Какой фильм самый убыточный? "
   ]
  },
  {
   "cell_type": "code",
   "execution_count": 22,
   "metadata": {
    "colab": {},
    "colab_type": "code",
    "id": "w-D2m4XPVp-3"
   },
   "outputs": [
    {
     "name": "stdout",
     "output_type": "stream",
     "text": [
      "The Lone Ranger (tt1210819)\n"
     ]
    }
   ],
   "source": [
    "data_index = data.query('(profit == profit.min()) & (profit < 0)').index\n",
    "print_title(data_index)"
   ]
  },
  {
   "cell_type": "code",
   "execution_count": 23,
   "metadata": {},
   "outputs": [],
   "source": [
    "answers['7'] = 'The Lone Ranger (tt1210819)' # +"
   ]
  },
  {
   "cell_type": "markdown",
   "metadata": {
    "colab_type": "text",
    "id": "wEOM5ERVVp-6"
   },
   "source": [
    "# 8. У скольких фильмов из датасета объем сборов оказался выше бюджета?"
   ]
  },
  {
   "cell_type": "code",
   "execution_count": 24,
   "metadata": {
    "colab": {},
    "colab_type": "code",
    "id": "y00_7HD6Vp-7",
    "scrolled": true
   },
   "outputs": [
    {
     "data": {
      "text/plain": [
       "1478"
      ]
     },
     "execution_count": 24,
     "metadata": {},
     "output_type": "execute_result"
    }
   ],
   "source": [
    "data.query('revenue > budget').original_title.count()"
   ]
  },
  {
   "cell_type": "code",
   "execution_count": 25,
   "metadata": {},
   "outputs": [],
   "source": [
    "answers['8'] = 1478 # +"
   ]
  },
  {
   "cell_type": "markdown",
   "metadata": {
    "colab_type": "text",
    "id": "xhpspA9KVp_A"
   },
   "source": [
    "# 9. Какой фильм оказался самым кассовым в 2008 году?"
   ]
  },
  {
   "cell_type": "code",
   "execution_count": 26,
   "metadata": {
    "colab": {},
    "colab_type": "code",
    "id": "MoUyQr9RVp_B"
   },
   "outputs": [
    {
     "name": "stdout",
     "output_type": "stream",
     "text": [
      "The Dark Knight (tt0468569)\n"
     ]
    }
   ],
   "source": [
    "# Программа находит самый максимальный кассовый сбор за 2008 год.\n",
    "# Далее находит номер этой строки.\n",
    "max_revenue = data[data.release_date.str.contains('2008')].revenue.max()\n",
    "data_index = data[data.revenue == max_revenue].index\n",
    "print_title(data_index)"
   ]
  },
  {
   "cell_type": "code",
   "execution_count": 27,
   "metadata": {},
   "outputs": [],
   "source": [
    "answers['9'] = 'The Dark Knight (tt0468569)' # +"
   ]
  },
  {
   "cell_type": "markdown",
   "metadata": {
    "colab_type": "text",
    "id": "Zi4hDKidVp_F"
   },
   "source": [
    "# 10. Самый убыточный фильм за период с 2012 по 2014 г. (включительно)?\n"
   ]
  },
  {
   "cell_type": "code",
   "execution_count": 28,
   "metadata": {
    "colab": {},
    "colab_type": "code",
    "id": "XqyRmufJVp_F",
    "scrolled": true
   },
   "outputs": [],
   "source": [
    "# записываем даты(data.release_date) в корректной форме\n",
    "data.release_date = pd.to_datetime(data.release_date, yearfirst=True)"
   ]
  },
  {
   "cell_type": "code",
   "execution_count": 29,
   "metadata": {
    "scrolled": true
   },
   "outputs": [
    {
     "name": "stdout",
     "output_type": "stream",
     "text": [
      "The Lone Ranger (tt1210819)\n"
     ]
    }
   ],
   "source": [
    "data_index = data.query(\"(release_date >= '2012-01-01')&\\\n",
    "                    (release_date <= '2014-12-31')&\\\n",
    "                    (profit == profit.min())&\\\n",
    "                    (profit < 0)\").index\n",
    "print_title(data_index)"
   ]
  },
  {
   "cell_type": "code",
   "execution_count": 30,
   "metadata": {},
   "outputs": [],
   "source": [
    "answers['10'] = 'The Lone Ranger (tt1210819)' # +"
   ]
  },
  {
   "cell_type": "markdown",
   "metadata": {
    "colab_type": "text",
    "id": "EA7Sa9dkVp_I"
   },
   "source": [
    "# 11. Какого жанра фильмов больше всего?"
   ]
  },
  {
   "cell_type": "code",
   "execution_count": 31,
   "metadata": {
    "scrolled": false
   },
   "outputs": [
    {
     "data": {
      "text/plain": [
       "[('Drama', 782)]"
      ]
     },
     "execution_count": 31,
     "metadata": {},
     "output_type": "execute_result"
    }
   ],
   "source": [
    "# 1 способ\n",
    "# С помощью .apply() и collections.Counter()\n",
    "new_list = []\n",
    "c = collections.Counter()\n",
    "data.genres.apply(found_genres) # применяем функцию 'found_genres' ко всем data.genres\n",
    "\n",
    "for i in new_list:\n",
    "    #цикл подсчёта количеств одинаковых жанров\n",
    "    for k in i:\n",
    "        c[k]+=1\n",
    "        \n",
    "c.most_common(1)"
   ]
  },
  {
   "cell_type": "markdown",
   "metadata": {
    "colab_type": "text",
    "id": "Ax6g2C8SVp_M"
   },
   "source": [
    "ВАРИАНТ 2"
   ]
  },
  {
   "cell_type": "code",
   "execution_count": 32,
   "metadata": {},
   "outputs": [],
   "source": [
    "# записываем в data.genres список жанров,\n",
    "# который мы разделили с помощью .split('|')\n",
    "data.genres = data.genres.apply(lambda x:x.split('|'))"
   ]
  },
  {
   "cell_type": "code",
   "execution_count": 33,
   "metadata": {
    "scrolled": false
   },
   "outputs": [
    {
     "data": {
      "text/plain": [
       "'Drama'"
      ]
     },
     "execution_count": 33,
     "metadata": {},
     "output_type": "execute_result"
    }
   ],
   "source": [
    "dict_genres = {}\n",
    "\n",
    "data.genres.apply(count_genres) # применяем функцию 'count_genres' ко всем data.genres\n",
    "\n",
    "df_genres = pd.Series(dict_genres) # создаём Series из словаря, чтобы можно было использовать .max()\n",
    "df_genres[df_genres == df_genres.max()].index[0]"
   ]
  },
  {
   "cell_type": "code",
   "execution_count": 34,
   "metadata": {},
   "outputs": [],
   "source": [
    "answers['11'] = 'Drama' # +"
   ]
  },
  {
   "cell_type": "markdown",
   "metadata": {
    "colab_type": "text",
    "id": "T9_bPWpkVp_Q"
   },
   "source": [
    "# 12. Фильмы какого жанра чаще всего становятся прибыльными? "
   ]
  },
  {
   "cell_type": "code",
   "execution_count": 35,
   "metadata": {
    "colab": {},
    "colab_type": "code",
    "id": "Tmt8MaK1Vp_R"
   },
   "outputs": [
    {
     "data": {
      "text/plain": [
       "'Drama'"
      ]
     },
     "execution_count": 35,
     "metadata": {},
     "output_type": "execute_result"
    }
   ],
   "source": [
    "dict_genres = {}\n",
    "\n",
    "df_profit = data.query('revenue - budget > 0')\n",
    "\n",
    "df_profit.genres.apply(count_genres) # применяем функцию 'count_genres' ко всем df_profit.genres\n",
    "\n",
    "df_genres = pd.Series(dict_genres)\n",
    "df_genres.sort_values(ascending=False).index[0] # сортируем Series по убыванию"
   ]
  },
  {
   "cell_type": "code",
   "execution_count": 36,
   "metadata": {},
   "outputs": [],
   "source": [
    "answers['12'] = 'Drama' # +"
   ]
  },
  {
   "cell_type": "markdown",
   "metadata": {
    "colab_type": "text",
    "id": "0F23bgsDVp_U"
   },
   "source": [
    "# 13. У какого режиссера самые большие суммарные кассовые сбооры?"
   ]
  },
  {
   "cell_type": "code",
   "execution_count": 37,
   "metadata": {},
   "outputs": [],
   "source": [
    "# записываем в data.director список режиссёров,\n",
    "# который мы разделили с помощью .split('|')\n",
    "data.director = data.director.apply(lambda x:x.split('|'))"
   ]
  },
  {
   "cell_type": "code",
   "execution_count": 38,
   "metadata": {},
   "outputs": [
    {
     "data": {
      "text/plain": [
       "'Данный алгоритм выполняется не совсем быстро, потому что в этот момент\\nя не знал о существовании .explode. \\n    По сути я сам написал алгоритм, который приводит к такому же результату,\\nпросто не так быстро.'"
      ]
     },
     "execution_count": 38,
     "metadata": {},
     "output_type": "execute_result"
    }
   ],
   "source": [
    "'''Данный алгоритм выполняется не совсем быстро, потому что в этот момент\n",
    "я не знал о существовании .explode. \n",
    "    По сути я сам написал алгоритм, который приводит к такому же результату,\n",
    "просто не так быстро.'''"
   ]
  },
  {
   "cell_type": "code",
   "execution_count": 39,
   "metadata": {
    "scrolled": true
   },
   "outputs": [
    {
     "name": "stderr",
     "output_type": "stream",
     "text": [
      "C:\\Users\\User\\anaconda3\\lib\\site-packages\\pandas\\core\\indexing.py:671: SettingWithCopyWarning: \n",
      "A value is trying to be set on a copy of a slice from a DataFrame\n",
      "\n",
      "See the caveats in the documentation: https://pandas.pydata.org/pandas-docs/stable/user_guide/indexing.html#returning-a-view-versus-a-copy\n",
      "  self._setitem_with_indexer(indexer, value)\n"
     ]
    },
    {
     "data": {
      "text/html": [
       "<div>\n",
       "<style scoped>\n",
       "    .dataframe tbody tr th:only-of-type {\n",
       "        vertical-align: middle;\n",
       "    }\n",
       "\n",
       "    .dataframe tbody tr th {\n",
       "        vertical-align: top;\n",
       "    }\n",
       "\n",
       "    .dataframe thead th {\n",
       "        text-align: right;\n",
       "    }\n",
       "</style>\n",
       "<table border=\"1\" class=\"dataframe\">\n",
       "  <thead>\n",
       "    <tr style=\"text-align: right;\">\n",
       "      <th></th>\n",
       "      <th>director</th>\n",
       "      <th>revenue</th>\n",
       "    </tr>\n",
       "  </thead>\n",
       "  <tbody>\n",
       "    <tr>\n",
       "      <th>727</th>\n",
       "      <td>Peter Jackson</td>\n",
       "      <td>6490593685</td>\n",
       "    </tr>\n",
       "  </tbody>\n",
       "</table>\n",
       "</div>"
      ],
      "text/plain": [
       "          director     revenue\n",
       "727  Peter Jackson  6490593685"
      ]
     },
     "execution_count": 39,
     "metadata": {},
     "output_type": "execute_result"
    }
   ],
   "source": [
    "# Мой алгоритм, т.к. режиссёров может быть несколько,\n",
    "# то пришлось их разделить и сохранить для них остальные элементы в строке\n",
    "data2 = pd.DataFrame(columns=data.columns) # создаём новый dataframe с такими же колонками\n",
    "\n",
    "for i in range(0,len(data)):\n",
    "    # перебираем индексы строки\n",
    "    for k in data.director.iloc[i]:\n",
    "        # перебираем элементы списка data.director каждой строки\n",
    "        data2.loc[len(data2)] = data.loc[i] # для нового data2 сохраняем все те же значения в строке\n",
    "        data2.director.loc[len(data2)-1] = k # для колонки с режиссёрами, сохраняем только одного режиссёра\n",
    "                                             # и так для всех режиссёров одного фильма\n",
    "\n",
    "# группируем колонку director по revenue.sum()\n",
    "# создаём dataframe, чтобы применить поиск максимального            \n",
    "revenue_sum2 = data2.groupby(['director']).revenue.sum().reset_index()\n",
    "revenue_sum2.query('revenue == revenue.max()')"
   ]
  },
  {
   "cell_type": "code",
   "execution_count": 40,
   "metadata": {},
   "outputs": [
    {
     "data": {
      "text/html": [
       "<div>\n",
       "<style scoped>\n",
       "    .dataframe tbody tr th:only-of-type {\n",
       "        vertical-align: middle;\n",
       "    }\n",
       "\n",
       "    .dataframe tbody tr th {\n",
       "        vertical-align: top;\n",
       "    }\n",
       "\n",
       "    .dataframe thead th {\n",
       "        text-align: right;\n",
       "    }\n",
       "</style>\n",
       "<table border=\"1\" class=\"dataframe\">\n",
       "  <thead>\n",
       "    <tr style=\"text-align: right;\">\n",
       "      <th></th>\n",
       "      <th>director</th>\n",
       "      <th>revenue</th>\n",
       "    </tr>\n",
       "  </thead>\n",
       "  <tbody>\n",
       "    <tr>\n",
       "      <th>727</th>\n",
       "      <td>Peter Jackson</td>\n",
       "      <td>6490593685</td>\n",
       "    </tr>\n",
       "  </tbody>\n",
       "</table>\n",
       "</div>"
      ],
      "text/plain": [
       "          director     revenue\n",
       "727  Peter Jackson  6490593685"
      ]
     },
     "execution_count": 40,
     "metadata": {},
     "output_type": "execute_result"
    }
   ],
   "source": [
    "# 2 способ \n",
    "# с помощью '.explode()'\n",
    "data2 = pd.DataFrame(columns=data.columns)\n",
    "data2 = data.explode('director')\n",
    "revenue_sum2 = data2.groupby(['director']).revenue.sum().reset_index()\n",
    "revenue_sum2.query('revenue == revenue.max()')"
   ]
  },
  {
   "cell_type": "code",
   "execution_count": 41,
   "metadata": {},
   "outputs": [],
   "source": [
    "answers['13'] = 'Peter Jackson' # +"
   ]
  },
  {
   "cell_type": "markdown",
   "metadata": {
    "colab_type": "text",
    "id": "PsYC9FgRVp_a"
   },
   "source": [
    "# 14. Какой режисер снял больше всего фильмов в стиле Action?"
   ]
  },
  {
   "cell_type": "code",
   "execution_count": 42,
   "metadata": {
    "scrolled": true
   },
   "outputs": [
    {
     "name": "stderr",
     "output_type": "stream",
     "text": [
      "C:\\Users\\User\\anaconda3\\lib\\site-packages\\pandas\\core\\indexing.py:671: SettingWithCopyWarning: \n",
      "A value is trying to be set on a copy of a slice from a DataFrame\n",
      "\n",
      "See the caveats in the documentation: https://pandas.pydata.org/pandas-docs/stable/user_guide/indexing.html#returning-a-view-versus-a-copy\n",
      "  self._setitem_with_indexer(indexer, value)\n"
     ]
    },
    {
     "data": {
      "text/plain": [
       "'Robert Rodriguez'"
      ]
     },
     "execution_count": 42,
     "metadata": {},
     "output_type": "execute_result"
    }
   ],
   "source": [
    "# Алгоритм как в задание 13\n",
    "new_df = pd.DataFrame(columns=data.columns)\n",
    "\n",
    "for i in range(0,len(data)):\n",
    "    for k in data.director.iloc[i]:\n",
    "        new_df.loc[len(new_df)] = data.loc[i]\n",
    "        new_df.director.loc[len(new_df)-1] = k\n",
    "\n",
    "new_df.genres = new_df.genres.apply(found_action)\n",
    "\n",
    "new_df[new_df.genres == 'Action'].director\\\n",
    "                            .value_counts()\\\n",
    "                            .sort_values(ascending=False).index[0]"
   ]
  },
  {
   "cell_type": "code",
   "execution_count": 43,
   "metadata": {},
   "outputs": [
    {
     "data": {
      "text/plain": [
       "[('Robert Rodriguez', 9)]"
      ]
     },
     "execution_count": 43,
     "metadata": {},
     "output_type": "execute_result"
    }
   ],
   "source": [
    "# 2 способ\n",
    "data = pd.read_csv('movie_bd_v5.csv')\n",
    "data2 = data[data.genres.str.contains('Action', na = False)] # выбираем только строки с жанром 'Action'\n",
    "\n",
    "# создаём список со всеми режиссёрами,считает кол-во повторений\n",
    "collections.Counter(data2['director'].str.cat(sep = '|')\\\n",
    "                                    .split('|')).most_common(1)"
   ]
  },
  {
   "cell_type": "code",
   "execution_count": 44,
   "metadata": {},
   "outputs": [],
   "source": [
    "answers['14'] = 'Robert Rodriguez' # +"
   ]
  },
  {
   "cell_type": "markdown",
   "metadata": {
    "colab_type": "text",
    "id": "PQ0KciD7Vp_f"
   },
   "source": [
    "# 15. Фильмы с каким актером принесли самые высокие кассовые сборы в 2012 году? "
   ]
  },
  {
   "cell_type": "code",
   "execution_count": 45,
   "metadata": {
    "colab": {},
    "colab_type": "code",
    "id": "aga62oeKVp_g",
    "scrolled": true
   },
   "outputs": [
    {
     "data": {
      "text/html": [
       "<div>\n",
       "<style scoped>\n",
       "    .dataframe tbody tr th:only-of-type {\n",
       "        vertical-align: middle;\n",
       "    }\n",
       "\n",
       "    .dataframe tbody tr th {\n",
       "        vertical-align: top;\n",
       "    }\n",
       "\n",
       "    .dataframe thead th {\n",
       "        text-align: right;\n",
       "    }\n",
       "</style>\n",
       "<table border=\"1\" class=\"dataframe\">\n",
       "  <thead>\n",
       "    <tr style=\"text-align: right;\">\n",
       "      <th></th>\n",
       "      <th>cast</th>\n",
       "      <th>profit</th>\n",
       "    </tr>\n",
       "  </thead>\n",
       "  <tbody>\n",
       "    <tr>\n",
       "      <th>68</th>\n",
       "      <td>Chris Hemsworth</td>\n",
       "      <td>1562643990</td>\n",
       "    </tr>\n",
       "  </tbody>\n",
       "</table>\n",
       "</div>"
      ],
      "text/plain": [
       "               cast      profit\n",
       "68  Chris Hemsworth  1562643990"
      ]
     },
     "execution_count": 45,
     "metadata": {},
     "output_type": "execute_result"
    }
   ],
   "source": [
    "# Медленная программа \n",
    "data = pd.read_csv('movie_bd_v5.csv',parse_dates=True)\n",
    "data.release_date = pd.to_datetime(data.release_date)\n",
    "\n",
    "data['profit'] = data.revenue - data.budget\n",
    "df=pd.DataFrame(columns = ['cast','profit'])\n",
    "\n",
    "new_df = data.query('(release_date >= \"2012-01-01\") &\\\n",
    "        (release_date <= \"2012-12-31\") & profit > 0') # создаём dataframe с фильмами 2012 года\n",
    "\n",
    "# создаём новый dataframe с ['cast'] ['profit'].max()\n",
    "df_cast = new_df.groupby(['cast']).profit.max()\n",
    "df_cast = df_cast.reset_index()\n",
    "\n",
    "df_cast.cast = df_cast.cast.apply(lambda x:x.split('|'))\n",
    "\n",
    "# старый цикл, который использовался ранее\n",
    "# в колонке cast все актёры будут написаны раздельно\n",
    "for i in range(0,len(df_cast)):\n",
    "    for k in df_cast.cast.iloc[i]:\n",
    "        df.loc[len(df)] = df_cast.loc[i]\n",
    "        df.cast.loc[len(df)-1] = k\n",
    "        \n",
    "#находим ответ на вопрос        \n",
    "df = df.groupby(['cast']).profit.sum().reset_index()\n",
    "df[df.profit == df.profit.max()]"
   ]
  },
  {
   "cell_type": "code",
   "execution_count": 46,
   "metadata": {},
   "outputs": [
    {
     "data": {
      "text/html": [
       "<div>\n",
       "<style scoped>\n",
       "    .dataframe tbody tr th:only-of-type {\n",
       "        vertical-align: middle;\n",
       "    }\n",
       "\n",
       "    .dataframe tbody tr th {\n",
       "        vertical-align: top;\n",
       "    }\n",
       "\n",
       "    .dataframe thead th {\n",
       "        text-align: right;\n",
       "    }\n",
       "</style>\n",
       "<table border=\"1\" class=\"dataframe\">\n",
       "  <thead>\n",
       "    <tr style=\"text-align: right;\">\n",
       "      <th></th>\n",
       "      <th>cast</th>\n",
       "      <th>profit</th>\n",
       "    </tr>\n",
       "  </thead>\n",
       "  <tbody>\n",
       "    <tr>\n",
       "      <th>68</th>\n",
       "      <td>Chris Hemsworth</td>\n",
       "      <td>1562643990</td>\n",
       "    </tr>\n",
       "  </tbody>\n",
       "</table>\n",
       "</div>"
      ],
      "text/plain": [
       "               cast      profit\n",
       "68  Chris Hemsworth  1562643990"
      ]
     },
     "execution_count": 46,
     "metadata": {},
     "output_type": "execute_result"
    }
   ],
   "source": [
    "# решение с помощью .explode\n",
    "data = pd.read_csv('movie_bd_v5.csv',parse_dates=True)\n",
    "data.release_date = pd.to_datetime(data.release_date)\n",
    "\n",
    "data['profit'] = data.revenue - data.budget\n",
    "df=pd.DataFrame(columns = ['cast','profit'])\n",
    "\n",
    "new_df = data.query('(release_date >= \"2012-01-01\") &\\\n",
    "        (release_date <= \"2012-12-31\") & profit > 0') # создаём dataframe с фильмами 2012 года\n",
    "\n",
    "new_df = new_df.groupby(['cast']).profit.max().reset_index()\n",
    "new_df.cast = new_df.cast.apply(lambda x:x.split('|'))\n",
    "new_df = new_df.explode('cast')\n",
    "new_df = new_df.groupby(['cast']).profit.sum().reset_index()\n",
    "new_df[new_df.profit == new_df.profit.max()]"
   ]
  },
  {
   "cell_type": "code",
   "execution_count": 47,
   "metadata": {},
   "outputs": [],
   "source": [
    "answers['15'] = 'Chris Hemsworth' # +"
   ]
  },
  {
   "cell_type": "markdown",
   "metadata": {
    "colab_type": "text",
    "id": "mWHyyL7QVp_j"
   },
   "source": [
    "# 16. Какой актер снялся в большем количестве высокобюджетных фильмов?"
   ]
  },
  {
   "cell_type": "code",
   "execution_count": 48,
   "metadata": {
    "colab": {},
    "colab_type": "code",
    "id": "qQtmHKTFVp_k"
   },
   "outputs": [
    {
     "data": {
      "text/plain": [
       "'Matt Damon'"
      ]
     },
     "execution_count": 48,
     "metadata": {},
     "output_type": "execute_result"
    }
   ],
   "source": [
    "data = pd.read_csv('movie_bd_v5.csv')\n",
    "\n",
    "data_top = data[data.budget > data.budget.mean()] # оставляем только высокобюджетные фильмы\n",
    "data_cast = data_top.cast.apply(lambda x:x.split('|')).reset_index() # создаём dataframe с разделёнными актёрами\n",
    "\n",
    "# подсчитываем кол-во вхождений в series в колонке cast и находим макс.\n",
    "pd.Series(data_cast.cast.sum()).value_counts().index[0]"
   ]
  },
  {
   "cell_type": "code",
   "execution_count": 49,
   "metadata": {},
   "outputs": [],
   "source": [
    "answers['16'] = 'Matt Damon' # +"
   ]
  },
  {
   "cell_type": "markdown",
   "metadata": {
    "colab_type": "text",
    "id": "NIh6AaW5Vp_n"
   },
   "source": [
    "# 17. В фильмах какого жанра больше всего снимался Nicolas Cage? "
   ]
  },
  {
   "cell_type": "code",
   "execution_count": 50,
   "metadata": {},
   "outputs": [
    {
     "data": {
      "text/plain": [
       "[('Action', 17)]"
      ]
     },
     "execution_count": 50,
     "metadata": {},
     "output_type": "execute_result"
    }
   ],
   "source": [
    "data = pd.read_csv('movie_bd_v5.csv')\n",
    "data2 = data[data.cast.str.contains('Nicolas Cage')]\n",
    "data_genres = data2.genres.apply(lambda x:x.split('|')).reset_index()\n",
    "\n",
    "# считаем кол-во вхождений в список 'data_genres.genres.sum()'\n",
    "collections.Counter(data_genres.genres.sum()).most_common(1)"
   ]
  },
  {
   "cell_type": "code",
   "execution_count": 51,
   "metadata": {},
   "outputs": [],
   "source": [
    "answers['17'] = 'Action' # +"
   ]
  },
  {
   "cell_type": "markdown",
   "metadata": {
    "colab_type": "text",
    "id": "RqOmPRfWVp_q"
   },
   "source": [
    "# 18. Самый убыточный фильм от Paramount Pictures"
   ]
  },
  {
   "cell_type": "code",
   "execution_count": 52,
   "metadata": {
    "colab": {},
    "colab_type": "code",
    "id": "9E_B0Y96Vp_r",
    "scrolled": true
   },
   "outputs": [
    {
     "data": {
      "text/plain": [
       "925    K-19: The Widowmaker\n",
       "Name: original_title, dtype: object"
      ]
     },
     "execution_count": 52,
     "metadata": {},
     "output_type": "execute_result"
    }
   ],
   "source": [
    "data = pd.read_csv('movie_bd_v5.csv')\n",
    "data['profit'] = data.revenue - data.budget\n",
    "\n",
    "# создаём dataframe с строками в которых есть компания 'Paramount Pictures'\n",
    "data_company = data.loc[data.production_companies.str\\\n",
    "             .contains('Paramount Pictures', na=False)]\n",
    "\n",
    "data_company.query('profit == profit.min()').original_title # находим мин. прибыль"
   ]
  },
  {
   "cell_type": "code",
   "execution_count": 53,
   "metadata": {},
   "outputs": [],
   "source": [
    "answers['18'] = 'K-19: The Widowmaker' # +"
   ]
  },
  {
   "cell_type": "markdown",
   "metadata": {
    "colab_type": "text",
    "id": "vS8Ur6ddVp_u"
   },
   "source": [
    "# 19. Какой год стал самым успешным по суммарным кассовым сборам?"
   ]
  },
  {
   "cell_type": "code",
   "execution_count": 54,
   "metadata": {
    "colab": {},
    "colab_type": "code",
    "id": "Dnbt4GdIVp_v",
    "scrolled": false
   },
   "outputs": [
    {
     "data": {
      "text/plain": [
       "2015"
      ]
     },
     "execution_count": 54,
     "metadata": {},
     "output_type": "execute_result"
    }
   ],
   "source": [
    "data.groupby(['release_year']).revenue.sum().\\\n",
    "        sort_values(ascending=False).index[0]"
   ]
  },
  {
   "cell_type": "code",
   "execution_count": 55,
   "metadata": {},
   "outputs": [],
   "source": [
    "answers['19'] = '2015' # +"
   ]
  },
  {
   "cell_type": "markdown",
   "metadata": {
    "colab_type": "text",
    "id": "JAzJh4QAVp_z"
   },
   "source": [
    "# 20. Какой самый прибыльный год для студии Warner Bros?"
   ]
  },
  {
   "cell_type": "code",
   "execution_count": 56,
   "metadata": {
    "scrolled": true
   },
   "outputs": [
    {
     "data": {
      "text/plain": [
       "2014"
      ]
     },
     "execution_count": 56,
     "metadata": {},
     "output_type": "execute_result"
    }
   ],
   "source": [
    "# находим строки с компание 'Warner Bros', группируем по году релиза,\n",
    "# считаем сумму прибыли и сортируем по ней(по возрастанию) и находим последний элемент.\n",
    "data[data.production_companies.str.contains('Warner Bros', na=False)]\\\n",
    "                                .groupby(['release_year']).profit.sum()\\\n",
    "                                .sort_values().index[-1]"
   ]
  },
  {
   "cell_type": "code",
   "execution_count": 57,
   "metadata": {},
   "outputs": [],
   "source": [
    "answers['20'] = '2014' # +"
   ]
  },
  {
   "cell_type": "markdown",
   "metadata": {
    "colab_type": "text",
    "id": "8Im1S2HRVp_4"
   },
   "source": [
    "# 21. В каком месяце за все годы суммарно вышло больше всего фильмов?"
   ]
  },
  {
   "cell_type": "code",
   "execution_count": 58,
   "metadata": {
    "colab": {},
    "colab_type": "code",
    "id": "lev6TH7gVp_4",
    "scrolled": false
   },
   "outputs": [
    {
     "data": {
      "text/html": [
       "<div>\n",
       "<style scoped>\n",
       "    .dataframe tbody tr th:only-of-type {\n",
       "        vertical-align: middle;\n",
       "    }\n",
       "\n",
       "    .dataframe tbody tr th {\n",
       "        vertical-align: top;\n",
       "    }\n",
       "\n",
       "    .dataframe thead th {\n",
       "        text-align: right;\n",
       "    }\n",
       "</style>\n",
       "<table border=\"1\" class=\"dataframe\">\n",
       "  <thead>\n",
       "    <tr style=\"text-align: right;\">\n",
       "      <th></th>\n",
       "      <th>imdb_id</th>\n",
       "    </tr>\n",
       "    <tr>\n",
       "      <th>release_month</th>\n",
       "      <th></th>\n",
       "    </tr>\n",
       "  </thead>\n",
       "  <tbody>\n",
       "    <tr>\n",
       "      <th>Сентябрь</th>\n",
       "      <td>227</td>\n",
       "    </tr>\n",
       "  </tbody>\n",
       "</table>\n",
       "</div>"
      ],
      "text/plain": [
       "               imdb_id\n",
       "release_month         \n",
       "Сентябрь           227"
      ]
     },
     "execution_count": 58,
     "metadata": {},
     "output_type": "execute_result"
    }
   ],
   "source": [
    "data['release_month'] = data.release_date.apply(release_month) # применяем к release_date ф-ию release_month\n",
    "data2 = data.groupby(['release_month'])[['imdb_id']].count()\n",
    "data2.query('imdb_id == imdb_id.max()')"
   ]
  },
  {
   "cell_type": "code",
   "execution_count": 59,
   "metadata": {},
   "outputs": [],
   "source": [
    "answers['21'] = 'Сентябрь' # +"
   ]
  },
  {
   "cell_type": "markdown",
   "metadata": {
    "colab_type": "text",
    "id": "uAJsZ_NeVp_7"
   },
   "source": [
    "# 22. Сколько суммарно вышло фильмов летом? (за июнь, июль, август)"
   ]
  },
  {
   "cell_type": "code",
   "execution_count": 60,
   "metadata": {
    "colab": {},
    "colab_type": "code",
    "id": "Aa-hEREoVp_8"
   },
   "outputs": [
    {
     "data": {
      "text/plain": [
       "450"
      ]
     },
     "execution_count": 60,
     "metadata": {},
     "output_type": "execute_result"
    }
   ],
   "source": [
    "data['release_month'] = data.release_date.apply(release_month)\n",
    "data2 = data.groupby(['release_month'])[['imdb_id']].count()\n",
    "\n",
    "# суммируем кол-во фильмов за нужные месяца\n",
    "x = (data2.loc['Август'].values[0]\n",
    "    + data2.loc['Июль'].values[0]\n",
    "    + data2.loc['Июнь'].values[0])\n",
    "x"
   ]
  },
  {
   "cell_type": "code",
   "execution_count": 61,
   "metadata": {},
   "outputs": [],
   "source": [
    "answers['22'] = '450' # +"
   ]
  },
  {
   "cell_type": "markdown",
   "metadata": {
    "colab_type": "text",
    "id": "G94ppOY1VqAA"
   },
   "source": [
    "# 23. Для какого режиссера зима – самое продуктивное время года? "
   ]
  },
  {
   "cell_type": "code",
   "execution_count": 62,
   "metadata": {},
   "outputs": [
    {
     "data": {
      "text/plain": [
       "'Peter Jackson'"
      ]
     },
     "execution_count": 62,
     "metadata": {},
     "output_type": "execute_result"
    }
   ],
   "source": [
    "data['release_season'] = data.release_date.apply(release_season)\n",
    "data.director = data.director.apply(lambda x:x.split('|'))\n",
    "\n",
    "data2 = data[data.release_season == 'Зима']\n",
    "pd.Series(data2.director.sum()).value_counts().sort_values().index[-1]"
   ]
  },
  {
   "cell_type": "code",
   "execution_count": 63,
   "metadata": {},
   "outputs": [],
   "source": [
    "answers['23'] = 'Peter Jackson' # +"
   ]
  },
  {
   "cell_type": "markdown",
   "metadata": {
    "colab_type": "text",
    "id": "RBo0JVjVVqAF"
   },
   "source": [
    "# 24. Какая студия дает самые длинные названия своим фильмам по количеству символов?"
   ]
  },
  {
   "cell_type": "code",
   "execution_count": 64,
   "metadata": {},
   "outputs": [
    {
     "data": {
      "text/plain": [
       "'Twentieth Century Fox Film Corporation|Four By Two Productions'"
      ]
     },
     "execution_count": 64,
     "metadata": {},
     "output_type": "execute_result"
    }
   ],
   "source": [
    "new_df = data.explode('production_companies') # создаём dataframe с разделёнными студиями\n",
    "\n",
    "# в новую колонку записываем длину названий фильмов\n",
    "new_df['len_title'] = new_df.original_title.apply(lambda x: len(x))\n",
    "\n",
    "# считаем среднее и выводим студию с самыми длинными названиями\n",
    "new_df.groupby(['production_companies']).len_title.mean()\\\n",
    "                                    .sort_values().index[-1]"
   ]
  },
  {
   "cell_type": "code",
   "execution_count": 65,
   "metadata": {},
   "outputs": [],
   "source": [
    "answers['24'] = 'Four By Two Productions' # +"
   ]
  },
  {
   "cell_type": "markdown",
   "metadata": {
    "colab_type": "text",
    "id": "9G0hbvR7VqAK"
   },
   "source": [
    "# 25. Описание фильмов какой студии в среднем самые длинные по количеству слов?"
   ]
  },
  {
   "cell_type": "code",
   "execution_count": 66,
   "metadata": {},
   "outputs": [
    {
     "data": {
      "text/plain": [
       "'Lions Gate Films|Lakeshore Entertainment|GreeneStreet Films|Midnight Picture Show'"
      ]
     },
     "execution_count": 66,
     "metadata": {},
     "output_type": "execute_result"
    }
   ],
   "source": [
    "new_df = data.explode('production_companies')\n",
    "new_df.overview = new_df.overview.apply(lambda x: len(x))\n",
    "new_df.groupby(['production_companies']).overview.mean()\\\n",
    "                                    .sort_values().index[-1]"
   ]
  },
  {
   "cell_type": "code",
   "execution_count": 67,
   "metadata": {},
   "outputs": [],
   "source": [
    "answers['25'] = 'Midnight Picture Show' # +"
   ]
  },
  {
   "cell_type": "markdown",
   "metadata": {
    "colab_type": "text",
    "id": "FJ1AFt90VqAP"
   },
   "source": [
    "# 26. Какие фильмы входят в 1 процент лучших по рейтингу? \n",
    "по vote_average"
   ]
  },
  {
   "cell_type": "code",
   "execution_count": 68,
   "metadata": {
    "scrolled": false
   },
   "outputs": [
    {
     "data": {
      "text/plain": [
       "array(['Inside Out', 'Spotlight', 'Room', 'Interstellar',\n",
       "       'Guardians of the Galaxy', 'Big Hero 6', 'The Imitation Game',\n",
       "       'Gone Girl', 'The Grand Budapest Hotel',\n",
       "       'The Theory of Everything', 'The Fault in Our Stars', 'Mr. Nobody',\n",
       "       '3 Idiots', 'Inception',\n",
       "       'The Lord of the Rings: The Fellowship of the Ring',\n",
       "       'The Dark Knight', 'The Lord of the Rings: The Two Towers',\n",
       "       'The Pianist', 'The Lord of the Rings: The Return of the King',\n",
       "       'The Wolf of Wall Street', 'Her', '12 Years a Slave', 'Prisoners',\n",
       "       'Dallas Buyers Club', 'The Prestige',\n",
       "       'Eternal Sunshine of the Spotless Mind', 'There Will Be Blood',\n",
       "       'Memento'], dtype=object)"
      ]
     },
     "execution_count": 68,
     "metadata": {},
     "output_type": "execute_result"
    }
   ],
   "source": [
    "vote_1_per = data.vote_average.quantile(.99) # .quantile возвращает число(квантиль последовательности)\n",
    "x = data[data.vote_average >= vote_1_per] # если рейтинг выше этого числа, то удовлетворяет\n",
    "x.original_title.values"
   ]
  },
  {
   "cell_type": "code",
   "execution_count": 69,
   "metadata": {},
   "outputs": [],
   "source": [
    "# не знаю, что записать в ответ, поэтому внесу весь список, удовл. усл.\n",
    "answers['26'] = ('Inside Out', 'Spotlight', 'Room', 'Interstellar',\n",
    "       'Guardians of the Galaxy', 'Big Hero 6', 'The Imitation Game',\n",
    "       'Gone Girl', 'The Grand Budapest Hotel',\n",
    "       'The Theory of Everything', 'The Fault in Our Stars', 'Mr. Nobody',\n",
    "       '3 Idiots', 'Inception',\n",
    "       'The Lord of the Rings: The Fellowship of the Ring',\n",
    "       'The Dark Knight', 'The Lord of the Rings: The Two Towers',\n",
    "       'The Pianist', 'The Lord of the Rings: The Return of the King',\n",
    "       'The Wolf of Wall Street', 'Her', '12 Years a Slave', 'Prisoners',\n",
    "       'Dallas Buyers Club', 'The Prestige',\n",
    "       'Eternal Sunshine of the Spotless Mind', 'There Will Be Blood',\n",
    "       'Memento') # +"
   ]
  },
  {
   "cell_type": "markdown",
   "metadata": {
    "colab_type": "text",
    "id": "MdXsUXbCVqAV"
   },
   "source": [
    "# 27. Какие актеры чаще всего снимаются в одном фильме вместе?\n"
   ]
  },
  {
   "cell_type": "code",
   "execution_count": 70,
   "metadata": {
    "scrolled": true
   },
   "outputs": [
    {
     "data": {
      "text/plain": [
       "[(('Daniel Radcliffe', 'Rupert Grint'), 8),\n",
       " (('Daniel Radcliffe', 'Emma Watson'), 8),\n",
       " (('Rupert Grint', 'Emma Watson'), 7),\n",
       " (('Ben Stiller', 'Owen Wilson'), 6),\n",
       " (('Johnny Depp', 'Helena Bonham Carter'), 6),\n",
       " (('Adam Sandler', 'Kevin James'), 5),\n",
       " (('Hugh Jackman', 'Ian McKellen'), 5),\n",
       " (('Kristen Stewart', 'Robert Pattinson'), 5),\n",
       " (('Kristen Stewart', 'Taylor Lautner'), 5),\n",
       " (('Robert Pattinson', 'Taylor Lautner'), 5)]"
      ]
     },
     "execution_count": 70,
     "metadata": {},
     "output_type": "execute_result"
    }
   ],
   "source": [
    "data = pd.read_csv('movie_bd_v5.csv')\n",
    "data.cast = data.cast.apply(lambda x: x.split('|'))\n",
    "c_list = []\n",
    "\n",
    "for caster in data.cast:\n",
    "    # добавляет в список все сочетания актёров,\n",
    "    # которые снимались в одном фильме.\n",
    "    c_list += list(combinations(caster,2))\n",
    "    \n",
    "collections.Counter(c_list).most_common(10) # выводит 10 наиболее часто встречающихся сочетаний"
   ]
  },
  {
   "cell_type": "markdown",
   "metadata": {
    "colab_type": "text",
    "id": "4ymnxEVoVqAW"
   },
   "source": [
    "ВАРИАНТ 2"
   ]
  },
  {
   "cell_type": "code",
   "execution_count": 71,
   "metadata": {
    "scrolled": false
   },
   "outputs": [
    {
     "data": {
      "text/plain": [
       "(Daniel Radcliffe, Rupert Grint)       8\n",
       "(Daniel Radcliffe, Emma Watson)        8\n",
       "(Rupert Grint, Emma Watson)            7\n",
       "(Ben Stiller, Owen Wilson)             6\n",
       "(Johnny Depp, Helena Bonham Carter)    6\n",
       "                                      ..\n",
       "(Max Martini, Chris Mulkey)            1\n",
       "(Nicholas Tse, Wu Jing)                1\n",
       "(Katherine Heigl, Alex Borstein)       1\n",
       "(Ossie Davis, Max Casella)             1\n",
       "(Rosie Shaw, Adrienne Shaw)            1\n",
       "Name: combinations, Length: 18121, dtype: int64"
      ]
     },
     "execution_count": 71,
     "metadata": {},
     "output_type": "execute_result"
    }
   ],
   "source": [
    "data = pd.read_csv('movie_bd_v5.csv')\n",
    "data.cast = data.cast.apply(lambda x: x.split('|'))\n",
    "c_list = []\n",
    "combinations_df = pd.DataFrame()\n",
    "\n",
    "for caster in data.cast:\n",
    "    c_list += list(combinations(caster,2))\n",
    "\n",
    "# в колонку combinations записываем комбинации \n",
    "combinations_df['combinations'] = c_list\n",
    "combinations_df.combinations.value_counts() # считаем кол-во этих комбинаций"
   ]
  },
  {
   "cell_type": "code",
   "execution_count": 72,
   "metadata": {},
   "outputs": [],
   "source": [
    "answers['27'] = \"('Daniel Radcliffe', 'Emma Watson'), ('Daniel Radcliffe', 'Rupert Grint')\" # +"
   ]
  },
  {
   "cell_type": "markdown",
   "metadata": {
    "colab_type": "text",
    "id": "U0nONFnGVqAX"
   },
   "source": [
    "# Submission"
   ]
  },
  {
   "cell_type": "code",
   "execution_count": 73,
   "metadata": {
    "colab": {},
    "colab_type": "code",
    "id": "IfcaRO9-VqAX",
    "outputId": "0f132912-32bb-4196-c98c-abfbc4ad5a5f",
    "scrolled": true
   },
   "outputs": [
    {
     "data": {
      "text/plain": [
       "{'1': 'Pirates of the Caribbean: On Stranger Tides (tt1298650)',\n",
       " '2': 'Gods and Generals (tt0279111)',\n",
       " '3': 'Winnie the Pooh (tt1449283)',\n",
       " '4': 110,\n",
       " '5': 107,\n",
       " '6': 'Avatar (tt0499549)',\n",
       " '7': 'The Lone Ranger (tt1210819)',\n",
       " '8': 1478,\n",
       " '9': 'The Dark Knight (tt0468569)',\n",
       " '10': 'The Lone Ranger (tt1210819)',\n",
       " '11': 'Drama',\n",
       " '12': 'Drama',\n",
       " '13': 'Peter Jackson',\n",
       " '14': 'Robert Rodriguez',\n",
       " '15': 'Chris Hemsworth',\n",
       " '16': 'Matt Damon',\n",
       " '17': 'Action',\n",
       " '18': 'K-19: The Widowmaker',\n",
       " '19': '2015',\n",
       " '20': '2014',\n",
       " '21': 'Сентябрь',\n",
       " '22': '450',\n",
       " '23': 'Peter Jackson',\n",
       " '24': 'Four By Two Productions',\n",
       " '25': 'Midnight Picture Show',\n",
       " '26': ('Inside Out',\n",
       "  'Spotlight',\n",
       "  'Room',\n",
       "  'Interstellar',\n",
       "  'Guardians of the Galaxy',\n",
       "  'Big Hero 6',\n",
       "  'The Imitation Game',\n",
       "  'Gone Girl',\n",
       "  'The Grand Budapest Hotel',\n",
       "  'The Theory of Everything',\n",
       "  'The Fault in Our Stars',\n",
       "  'Mr. Nobody',\n",
       "  '3 Idiots',\n",
       "  'Inception',\n",
       "  'The Lord of the Rings: The Fellowship of the Ring',\n",
       "  'The Dark Knight',\n",
       "  'The Lord of the Rings: The Two Towers',\n",
       "  'The Pianist',\n",
       "  'The Lord of the Rings: The Return of the King',\n",
       "  'The Wolf of Wall Street',\n",
       "  'Her',\n",
       "  '12 Years a Slave',\n",
       "  'Prisoners',\n",
       "  'Dallas Buyers Club',\n",
       "  'The Prestige',\n",
       "  'Eternal Sunshine of the Spotless Mind',\n",
       "  'There Will Be Blood',\n",
       "  'Memento'),\n",
       " '27': \"('Daniel Radcliffe', 'Emma Watson'), ('Daniel Radcliffe', 'Rupert Grint')\"}"
      ]
     },
     "execution_count": 73,
     "metadata": {},
     "output_type": "execute_result"
    }
   ],
   "source": [
    "# в конце можно посмотреть свои ответы к каждому вопросу\n",
    "answers"
   ]
  },
  {
   "cell_type": "code",
   "execution_count": 74,
   "metadata": {
    "colab": {},
    "colab_type": "code",
    "id": "SiRmHPl8VqAd"
   },
   "outputs": [
    {
     "data": {
      "text/plain": [
       "27"
      ]
     },
     "execution_count": 74,
     "metadata": {},
     "output_type": "execute_result"
    }
   ],
   "source": [
    "# и убедиться что ни чего не пропустил)\n",
    "len(answers)"
   ]
  },
  {
   "cell_type": "code",
   "execution_count": null,
   "metadata": {},
   "outputs": [],
   "source": []
  }
 ],
 "metadata": {
  "colab": {
   "name": "Copy of [SF-DST] Movies IMBD v4.1 TEMPLATE.ipynb",
   "provenance": []
  },
  "kernelspec": {
   "display_name": "Python 3",
   "language": "python",
   "name": "python3"
  },
  "language_info": {
   "codemirror_mode": {
    "name": "ipython",
    "version": 3
   },
   "file_extension": ".py",
   "mimetype": "text/x-python",
   "name": "python",
   "nbconvert_exporter": "python",
   "pygments_lexer": "ipython3",
   "version": "3.8.3"
  }
 },
 "nbformat": 4,
 "nbformat_minor": 1
}
