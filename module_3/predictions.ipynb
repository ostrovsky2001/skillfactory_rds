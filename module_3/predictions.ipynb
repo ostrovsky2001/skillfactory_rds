{
 "cells": [
  {
   "cell_type": "code",
   "execution_count": 1,
   "metadata": {
    "scrolled": true
   },
   "outputs": [
    {
     "data": {
      "text/plain": [
       "'Mozilla/5.0 (Windows NT 6.2; WOW64) AppleWebKit/537.36 (KHTML, like Gecko) Chrome/27.0.1500.55 Safari/537.36'"
      ]
     },
     "execution_count": 1,
     "metadata": {},
     "output_type": "execute_result"
    }
   ],
   "source": [
    "import pandas as pd\n",
    "from sklearn.model_selection import train_test_split\n",
    "from sklearn.ensemble import RandomForestRegressor\n",
    "from sklearn import metrics\n",
    "import numpy as np\n",
    "from datetime import datetime as dt\n",
    "import re\n",
    "from math import nan\n",
    "import requests\n",
    "from bs4 import BeautifulSoup as Bs\n",
    "from fake_useragent import UserAgent\n",
    "import seaborn as sns\n",
    "import matplotlib.pyplot as plt\n",
    "import geopy.distance\n",
    "import geopy\n",
    "from geopy.geocoders import Nominatim\n",
    "from multiprocessing.dummy import Pool as ThreadPool\n",
    "UserAgent().chrome"
   ]
  },
  {
   "cell_type": "code",
   "execution_count": 4,
   "metadata": {},
   "outputs": [],
   "source": [
    "df = pd.read_csv('main_task.csv')"
   ]
  },
  {
   "cell_type": "code",
   "execution_count": null,
   "metadata": {},
   "outputs": [],
   "source": []
  },
  {
   "cell_type": "code",
   "execution_count": 5,
   "metadata": {
    "scrolled": true
   },
   "outputs": [
    {
     "name": "stdout",
     "output_type": "stream",
     "text": [
      "<class 'pandas.core.frame.DataFrame'>\n",
      "RangeIndex: 40000 entries, 0 to 39999\n",
      "Data columns (total 10 columns):\n",
      " #   Column             Non-Null Count  Dtype  \n",
      "---  ------             --------------  -----  \n",
      " 0   Restaurant_id      40000 non-null  object \n",
      " 1   City               40000 non-null  object \n",
      " 2   Cuisine Style      30717 non-null  object \n",
      " 3   Ranking            40000 non-null  float64\n",
      " 4   Rating             40000 non-null  float64\n",
      " 5   Price Range        26114 non-null  object \n",
      " 6   Number of Reviews  37457 non-null  float64\n",
      " 7   Reviews            40000 non-null  object \n",
      " 8   URL_TA             40000 non-null  object \n",
      " 9   ID_TA              40000 non-null  object \n",
      "dtypes: float64(3), object(7)\n",
      "memory usage: 3.1+ MB\n"
     ]
    }
   ],
   "source": [
    "df.info()"
   ]
  },
  {
   "cell_type": "code",
   "execution_count": 6,
   "metadata": {
    "scrolled": true
   },
   "outputs": [
    {
     "data": {
      "text/html": [
       "<div>\n",
       "<style scoped>\n",
       "    .dataframe tbody tr th:only-of-type {\n",
       "        vertical-align: middle;\n",
       "    }\n",
       "\n",
       "    .dataframe tbody tr th {\n",
       "        vertical-align: top;\n",
       "    }\n",
       "\n",
       "    .dataframe thead th {\n",
       "        text-align: right;\n",
       "    }\n",
       "</style>\n",
       "<table border=\"1\" class=\"dataframe\">\n",
       "  <thead>\n",
       "    <tr style=\"text-align: right;\">\n",
       "      <th></th>\n",
       "      <th>Restaurant_id</th>\n",
       "      <th>City</th>\n",
       "      <th>Cuisine Style</th>\n",
       "      <th>Ranking</th>\n",
       "      <th>Rating</th>\n",
       "      <th>Price Range</th>\n",
       "      <th>Number of Reviews</th>\n",
       "      <th>Reviews</th>\n",
       "      <th>URL_TA</th>\n",
       "      <th>ID_TA</th>\n",
       "    </tr>\n",
       "  </thead>\n",
       "  <tbody>\n",
       "    <tr>\n",
       "      <th>0</th>\n",
       "      <td>id_5569</td>\n",
       "      <td>Paris</td>\n",
       "      <td>['European', 'French', 'International']</td>\n",
       "      <td>5570.0</td>\n",
       "      <td>3.5</td>\n",
       "      <td>$$ - $$$</td>\n",
       "      <td>194.0</td>\n",
       "      <td>[['Good food at your doorstep', 'A good hotel ...</td>\n",
       "      <td>/Restaurant_Review-g187147-d1912643-Reviews-R_...</td>\n",
       "      <td>d1912643</td>\n",
       "    </tr>\n",
       "    <tr>\n",
       "      <th>1</th>\n",
       "      <td>id_1535</td>\n",
       "      <td>Stockholm</td>\n",
       "      <td>NaN</td>\n",
       "      <td>1537.0</td>\n",
       "      <td>4.0</td>\n",
       "      <td>NaN</td>\n",
       "      <td>10.0</td>\n",
       "      <td>[['Unique cuisine', 'Delicious Nepalese food']...</td>\n",
       "      <td>/Restaurant_Review-g189852-d7992032-Reviews-Bu...</td>\n",
       "      <td>d7992032</td>\n",
       "    </tr>\n",
       "    <tr>\n",
       "      <th>2</th>\n",
       "      <td>id_352</td>\n",
       "      <td>London</td>\n",
       "      <td>['Japanese', 'Sushi', 'Asian', 'Grill', 'Veget...</td>\n",
       "      <td>353.0</td>\n",
       "      <td>4.5</td>\n",
       "      <td>$$$$</td>\n",
       "      <td>688.0</td>\n",
       "      <td>[['Catch up with friends', 'Not exceptional'],...</td>\n",
       "      <td>/Restaurant_Review-g186338-d8632781-Reviews-RO...</td>\n",
       "      <td>d8632781</td>\n",
       "    </tr>\n",
       "    <tr>\n",
       "      <th>3</th>\n",
       "      <td>id_3456</td>\n",
       "      <td>Berlin</td>\n",
       "      <td>NaN</td>\n",
       "      <td>3458.0</td>\n",
       "      <td>5.0</td>\n",
       "      <td>NaN</td>\n",
       "      <td>3.0</td>\n",
       "      <td>[[], []]</td>\n",
       "      <td>/Restaurant_Review-g187323-d1358776-Reviews-Es...</td>\n",
       "      <td>d1358776</td>\n",
       "    </tr>\n",
       "    <tr>\n",
       "      <th>4</th>\n",
       "      <td>id_615</td>\n",
       "      <td>Munich</td>\n",
       "      <td>['German', 'Central European', 'Vegetarian Fri...</td>\n",
       "      <td>621.0</td>\n",
       "      <td>4.0</td>\n",
       "      <td>$$ - $$$</td>\n",
       "      <td>84.0</td>\n",
       "      <td>[['Best place to try a Bavarian food', 'Nice b...</td>\n",
       "      <td>/Restaurant_Review-g187309-d6864963-Reviews-Au...</td>\n",
       "      <td>d6864963</td>\n",
       "    </tr>\n",
       "  </tbody>\n",
       "</table>\n",
       "</div>"
      ],
      "text/plain": [
       "  Restaurant_id       City                                      Cuisine Style  \\\n",
       "0       id_5569      Paris            ['European', 'French', 'International']   \n",
       "1       id_1535  Stockholm                                                NaN   \n",
       "2        id_352     London  ['Japanese', 'Sushi', 'Asian', 'Grill', 'Veget...   \n",
       "3       id_3456     Berlin                                                NaN   \n",
       "4        id_615     Munich  ['German', 'Central European', 'Vegetarian Fri...   \n",
       "\n",
       "   Ranking  Rating Price Range  Number of Reviews  \\\n",
       "0   5570.0     3.5    $$ - $$$              194.0   \n",
       "1   1537.0     4.0         NaN               10.0   \n",
       "2    353.0     4.5        $$$$              688.0   \n",
       "3   3458.0     5.0         NaN                3.0   \n",
       "4    621.0     4.0    $$ - $$$               84.0   \n",
       "\n",
       "                                             Reviews  \\\n",
       "0  [['Good food at your doorstep', 'A good hotel ...   \n",
       "1  [['Unique cuisine', 'Delicious Nepalese food']...   \n",
       "2  [['Catch up with friends', 'Not exceptional'],...   \n",
       "3                                           [[], []]   \n",
       "4  [['Best place to try a Bavarian food', 'Nice b...   \n",
       "\n",
       "                                              URL_TA     ID_TA  \n",
       "0  /Restaurant_Review-g187147-d1912643-Reviews-R_...  d1912643  \n",
       "1  /Restaurant_Review-g189852-d7992032-Reviews-Bu...  d7992032  \n",
       "2  /Restaurant_Review-g186338-d8632781-Reviews-RO...  d8632781  \n",
       "3  /Restaurant_Review-g187323-d1358776-Reviews-Es...  d1358776  \n",
       "4  /Restaurant_Review-g187309-d6864963-Reviews-Au...  d6864963  "
      ]
     },
     "execution_count": 6,
     "metadata": {},
     "output_type": "execute_result"
    }
   ],
   "source": [
    "df.head(5)"
   ]
  },
  {
   "cell_type": "code",
   "execution_count": 7,
   "metadata": {},
   "outputs": [
    {
     "data": {
      "text/plain": [
       "Restaurant_id            0\n",
       "City                     0\n",
       "Cuisine Style         9283\n",
       "Ranking                  0\n",
       "Rating                   0\n",
       "Price Range          13886\n",
       "Number of Reviews     2543\n",
       "Reviews                  0\n",
       "URL_TA                   0\n",
       "ID_TA                    0\n",
       "dtype: int64"
      ]
     },
     "execution_count": 7,
     "metadata": {},
     "output_type": "execute_result"
    }
   ],
   "source": [
    "df.isna().sum()"
   ]
  },
  {
   "cell_type": "markdown",
   "metadata": {},
   "source": [
    "В датасете содержится только 3 числовых признака. Остальные 7 признаков\n",
    "номинативные. Что в этих признаках посмотрим дальше. В некоторых признаках много пропусков, которые нужно будет как-то заполнить или сделать с ними ещё что-нибудь."
   ]
  },
  {
   "cell_type": "markdown",
   "metadata": {},
   "source": [
    "Корреляция между Ranking и id ресторана, имеет корреляционную зависимость, в будущем один из признаком нужно будет удалить, а пока что попытаемся понять, что здесь не так."
   ]
  },
  {
   "cell_type": "code",
   "execution_count": 8,
   "metadata": {},
   "outputs": [],
   "source": [
    "df['Restaurant_id'] = df['Restaurant_id'].apply(lambda x: float(x[3:]))"
   ]
  },
  {
   "cell_type": "code",
   "execution_count": 9,
   "metadata": {
    "scrolled": false
   },
   "outputs": [
    {
     "data": {
      "text/html": [
       "<div>\n",
       "<style scoped>\n",
       "    .dataframe tbody tr th:only-of-type {\n",
       "        vertical-align: middle;\n",
       "    }\n",
       "\n",
       "    .dataframe tbody tr th {\n",
       "        vertical-align: top;\n",
       "    }\n",
       "\n",
       "    .dataframe thead th {\n",
       "        text-align: right;\n",
       "    }\n",
       "</style>\n",
       "<table border=\"1\" class=\"dataframe\">\n",
       "  <thead>\n",
       "    <tr style=\"text-align: right;\">\n",
       "      <th></th>\n",
       "      <th>Restaurant_id</th>\n",
       "      <th>Ranking</th>\n",
       "    </tr>\n",
       "  </thead>\n",
       "  <tbody>\n",
       "    <tr>\n",
       "      <th>Restaurant_id</th>\n",
       "      <td>1.0</td>\n",
       "      <td>1.0</td>\n",
       "    </tr>\n",
       "    <tr>\n",
       "      <th>Ranking</th>\n",
       "      <td>1.0</td>\n",
       "      <td>1.0</td>\n",
       "    </tr>\n",
       "  </tbody>\n",
       "</table>\n",
       "</div>"
      ],
      "text/plain": [
       "               Restaurant_id  Ranking\n",
       "Restaurant_id            1.0      1.0\n",
       "Ranking                  1.0      1.0"
      ]
     },
     "execution_count": 9,
     "metadata": {},
     "output_type": "execute_result"
    }
   ],
   "source": [
    "df[['Restaurant_id', 'Ranking']].corr()"
   ]
  },
  {
   "cell_type": "markdown",
   "metadata": {},
   "source": [
    "'City'"
   ]
  },
  {
   "cell_type": "code",
   "execution_count": 10,
   "metadata": {
    "scrolled": true
   },
   "outputs": [
    {
     "data": {
      "text/plain": [
       "count      40000\n",
       "unique        31\n",
       "top       London\n",
       "freq        5757\n",
       "Name: City, dtype: object"
      ]
     },
     "execution_count": 10,
     "metadata": {},
     "output_type": "execute_result"
    }
   ],
   "source": [
    "df.City.describe()"
   ]
  },
  {
   "cell_type": "markdown",
   "metadata": {},
   "source": [
    "У этого признака нет пропусков. Когда будем создавать новые признаки, сделаем из этого столбца pd.get_dummies()"
   ]
  },
  {
   "cell_type": "markdown",
   "metadata": {},
   "source": [
    "'Number of Reviews'"
   ]
  },
  {
   "cell_type": "code",
   "execution_count": 11,
   "metadata": {
    "scrolled": true
   },
   "outputs": [
    {
     "data": {
      "text/plain": [
       "count    37457.000000\n",
       "mean       124.825480\n",
       "std        295.666352\n",
       "min          2.000000\n",
       "25%          9.000000\n",
       "50%         33.000000\n",
       "75%        115.000000\n",
       "max       9660.000000\n",
       "Name: Number of Reviews, dtype: float64"
      ]
     },
     "execution_count": 11,
     "metadata": {},
     "output_type": "execute_result"
    }
   ],
   "source": [
    "df['Number of Reviews'].describe()"
   ]
  },
  {
   "cell_type": "code",
   "execution_count": 12,
   "metadata": {},
   "outputs": [
    {
     "data": {
      "text/plain": [
       "2543"
      ]
     },
     "execution_count": 12,
     "metadata": {},
     "output_type": "execute_result"
    }
   ],
   "source": [
    "df['Number of Reviews'].isna().sum()"
   ]
  },
  {
   "cell_type": "markdown",
   "metadata": {},
   "source": [
    "В столбце есть пропуски. Вынесем все пропуски в отдельный признак. И заменим их на 0 в 'Number of Reviews'"
   ]
  },
  {
   "cell_type": "code",
   "execution_count": 13,
   "metadata": {},
   "outputs": [],
   "source": [
    "df['Number of Reviews NAN'] = (pd.isna(df['Number of Reviews']).astype('uint8'))"
   ]
  },
  {
   "cell_type": "code",
   "execution_count": 14,
   "metadata": {},
   "outputs": [],
   "source": [
    "df['Number of Reviews'].fillna(0, inplace = True)"
   ]
  },
  {
   "cell_type": "markdown",
   "metadata": {},
   "source": [
    "Напишем функцию для поиска выбросов"
   ]
  },
  {
   "cell_type": "code",
   "execution_count": 15,
   "metadata": {},
   "outputs": [],
   "source": [
    "def find_outliers(column):\n",
    "    Q1,Q3 = df[column].quantile([.25,.75], interpolation=\"midpoint\")\n",
    "    IQR = Q3-Q1\n",
    "    return [Q1-1.5*IQR,Q3+1.5*IQR]"
   ]
  },
  {
   "cell_type": "markdown",
   "metadata": {},
   "source": [
    "Посмотрим сколько значений выходит за верхнюю границу"
   ]
  },
  {
   "cell_type": "code",
   "execution_count": 16,
   "metadata": {},
   "outputs": [
    {
     "data": {
      "text/plain": [
       "4758"
      ]
     },
     "execution_count": 16,
     "metadata": {},
     "output_type": "execute_result"
    }
   ],
   "source": [
    "upper_outlier = find_outliers('Number of Reviews')[1]\n",
    "sum(df['Number of Reviews']>upper_outlier)"
   ]
  },
  {
   "cell_type": "markdown",
   "metadata": {},
   "source": [
    "Таких значений много, поэтому посмотрим на распределение по гистограмме."
   ]
  },
  {
   "cell_type": "code",
   "execution_count": 17,
   "metadata": {
    "scrolled": false
   },
   "outputs": [
    {
     "data": {
      "text/plain": [
       "<matplotlib.axes._subplots.AxesSubplot at 0x271deebe130>"
      ]
     },
     "execution_count": 17,
     "metadata": {},
     "output_type": "execute_result"
    },
    {
     "data": {
      "image/png": "[encoded data removed]",
      "text/plain": [
       "<Figure size 1080x720 with 1 Axes>"
      ]
     },
     "metadata": {},
     "output_type": "display_data"
    }
   ],
   "source": [
    "sns.set(rc={'figure.figsize':(15, 10)})\n",
    "sns.distplot(df['Number of Reviews'])"
   ]
  },
  {
   "cell_type": "markdown",
   "metadata": {},
   "source": [
    "Видно что гистограмма сильно смещена, давайте посмотрим сколько значений больше 1000, и заменим их на 1000"
   ]
  },
  {
   "cell_type": "code",
   "execution_count": 18,
   "metadata": {},
   "outputs": [
    {
     "data": {
      "text/plain": [
       "673"
      ]
     },
     "execution_count": 18,
     "metadata": {},
     "output_type": "execute_result"
    }
   ],
   "source": [
    "sum(df['Number of Reviews']>1000)"
   ]
  },
  {
   "cell_type": "code",
   "execution_count": 19,
   "metadata": {},
   "outputs": [],
   "source": [
    "df['Number of Reviews'] = df['Number of Reviews']\\\n",
    "            .apply(lambda x: 1000 if x>1000 else x)\n"
   ]
  },
  {
   "cell_type": "code",
   "execution_count": 20,
   "metadata": {
    "scrolled": false
   },
   "outputs": [
    {
     "data": {
      "text/plain": [
       "count    40000.000000\n",
       "mean       104.971000\n",
       "std        191.352218\n",
       "min          0.000000\n",
       "25%          7.000000\n",
       "50%         28.000000\n",
       "75%        105.000000\n",
       "max       1000.000000\n",
       "Name: Number of Reviews, dtype: float64"
      ]
     },
     "execution_count": 20,
     "metadata": {},
     "output_type": "execute_result"
    }
   ],
   "source": [
    "df['Number of Reviews'].describe()"
   ]
  },
  {
   "cell_type": "markdown",
   "metadata": {},
   "source": [
    "Видно что, среднее значение уменьшилось, давайте посмотрим теперь какие выбросы будут для этого признака"
   ]
  },
  {
   "cell_type": "code",
   "execution_count": 21,
   "metadata": {
    "scrolled": true
   },
   "outputs": [
    {
     "data": {
      "text/plain": [
       "[-140.0, 252.0]"
      ]
     },
     "execution_count": 21,
     "metadata": {},
     "output_type": "execute_result"
    }
   ],
   "source": [
    "find_outliers('Number of Reviews')"
   ]
  },
  {
   "cell_type": "markdown",
   "metadata": {},
   "source": [
    "Границы остались такие же, значит мы впринципе почти не изменили данные, и они всё ещё могут строить правдивую модель"
   ]
  },
  {
   "cell_type": "markdown",
   "metadata": {},
   "source": [
    "'Price Range'"
   ]
  },
  {
   "cell_type": "code",
   "execution_count": 22,
   "metadata": {
    "scrolled": false
   },
   "outputs": [
    {
     "data": {
      "text/plain": [
       "13886"
      ]
     },
     "execution_count": 22,
     "metadata": {},
     "output_type": "execute_result"
    }
   ],
   "source": [
    "df['Price Range'].isna().sum()"
   ]
  },
  {
   "cell_type": "code",
   "execution_count": 23,
   "metadata": {},
   "outputs": [
    {
     "data": {
      "text/plain": [
       "array(['$$ - $$$', nan, '$$$$', '$'], dtype=object)"
      ]
     },
     "execution_count": 23,
     "metadata": {},
     "output_type": "execute_result"
    }
   ],
   "source": [
    "df['Price Range'].unique()"
   ]
  },
  {
   "cell_type": "markdown",
   "metadata": {},
   "source": [
    "В этом столбце очень много пропусков, поэтому присвоим значениям определенные числа, а пропуски заменим на 0"
   ]
  },
  {
   "cell_type": "code",
   "execution_count": 24,
   "metadata": {},
   "outputs": [],
   "source": [
    "price_dict = {'$$ - $$$': 2,'$$$$': 3, '$': 1}\n",
    "df['Price Range'] = df['Price Range'].map(price_dict)"
   ]
  },
  {
   "cell_type": "markdown",
   "metadata": {},
   "source": [
    "Создадим отдельный признак с пропущенными значениями"
   ]
  },
  {
   "cell_type": "code",
   "execution_count": 25,
   "metadata": {
    "scrolled": true
   },
   "outputs": [],
   "source": [
    "df['Price Range NAN'] = pd.isna(df['Price Range']).astype('uint8')"
   ]
  },
  {
   "cell_type": "code",
   "execution_count": 26,
   "metadata": {},
   "outputs": [],
   "source": [
    "df['Price Range'].fillna(0, inplace=True)"
   ]
  },
  {
   "cell_type": "code",
   "execution_count": 27,
   "metadata": {
    "scrolled": true
   },
   "outputs": [
    {
     "data": {
      "text/plain": [
       "array([2., 0., 3., 1.])"
      ]
     },
     "execution_count": 27,
     "metadata": {},
     "output_type": "execute_result"
    }
   ],
   "source": [
    "df['Price Range'].unique()"
   ]
  },
  {
   "cell_type": "markdown",
   "metadata": {},
   "source": [
    "'ID_TA'"
   ]
  },
  {
   "cell_type": "code",
   "execution_count": 28,
   "metadata": {
    "scrolled": true
   },
   "outputs": [
    {
     "data": {
      "text/plain": [
       "d9802625     2\n",
       "d987900      2\n",
       "d7337366     2\n",
       "d11999956    2\n",
       "d2477531     2\n",
       "            ..\n",
       "d10717093    1\n",
       "d1067164     1\n",
       "d2017215     1\n",
       "d7051515     1\n",
       "d5980819     1\n",
       "Name: ID_TA, Length: 39980, dtype: int64"
      ]
     },
     "execution_count": 28,
     "metadata": {},
     "output_type": "execute_result"
    }
   ],
   "source": [
    "df['ID_TA'].value_counts()"
   ]
  },
  {
   "cell_type": "code",
   "execution_count": 29,
   "metadata": {},
   "outputs": [
    {
     "data": {
      "text/plain": [
       "0"
      ]
     },
     "execution_count": 29,
     "metadata": {},
     "output_type": "execute_result"
    }
   ],
   "source": [
    "df['ID_TA'].isna().sum()"
   ]
  },
  {
   "cell_type": "markdown",
   "metadata": {},
   "source": [
    "В данном признаке повторяются идентификаторы. Этих значений мало, однако они присутствуют, давайте посмотрим на них поближе"
   ]
  },
  {
   "cell_type": "code",
   "execution_count": 30,
   "metadata": {
    "scrolled": false
   },
   "outputs": [
    {
     "data": {
      "text/plain": [
       "20"
      ]
     },
     "execution_count": 30,
     "metadata": {},
     "output_type": "execute_result"
    }
   ],
   "source": [
    "sum(df['ID_TA'].value_counts()>1)"
   ]
  },
  {
   "cell_type": "markdown",
   "metadata": {},
   "source": [
    "Вернёмся к Restaurant_id, посмотрим сколько там повторяющихся элементов"
   ]
  },
  {
   "cell_type": "code",
   "execution_count": 31,
   "metadata": {
    "scrolled": true
   },
   "outputs": [
    {
     "data": {
      "text/plain": [
       "7204"
      ]
     },
     "execution_count": 31,
     "metadata": {},
     "output_type": "execute_result"
    }
   ],
   "source": [
    "sum(df['Restaurant_id'].value_counts()>1)"
   ]
  },
  {
   "cell_type": "markdown",
   "metadata": {},
   "source": [
    "Очень много одинаковых заведений в датасете."
   ]
  },
  {
   "cell_type": "code",
   "execution_count": 32,
   "metadata": {
    "scrolled": true
   },
   "outputs": [],
   "source": [
    "df_TA_ID_ununique = df[df['ID_TA'].map(df['ID_TA'].value_counts()>1)]"
   ]
  },
  {
   "cell_type": "code",
   "execution_count": 33,
   "metadata": {},
   "outputs": [
    {
     "data": {
      "text/plain": [
       "d987900      2\n",
       "d9877640     2\n",
       "d4600226     2\n",
       "d11921719    2\n",
       "d9802625     2\n",
       "d11698990    2\n",
       "d7342803     2\n",
       "d3685055     2\n",
       "d7809594     2\n",
       "d1315077     2\n",
       "d2477531     2\n",
       "d11999956    2\n",
       "d3161682     2\n",
       "d8753348     2\n",
       "d11674463    2\n",
       "d697406      2\n",
       "d13002276    2\n",
       "d10047799    2\n",
       "d7337366     2\n",
       "d793170      2\n",
       "Name: ID_TA, dtype: int64"
      ]
     },
     "execution_count": 33,
     "metadata": {},
     "output_type": "execute_result"
    }
   ],
   "source": [
    "df_TA_ID_ununique['ID_TA'].value_counts()"
   ]
  },
  {
   "cell_type": "markdown",
   "metadata": {},
   "source": [
    "У таких строк совпадают все значения кроме Restaurant_id и Ranking, Ranking и Restaurant_id линейно зависимы(corr-->1)."
   ]
  },
  {
   "cell_type": "code",
   "execution_count": 34,
   "metadata": {
    "scrolled": true
   },
   "outputs": [
    {
     "data": {
      "text/html": [
       "<div>\n",
       "<style scoped>\n",
       "    .dataframe tbody tr th:only-of-type {\n",
       "        vertical-align: middle;\n",
       "    }\n",
       "\n",
       "    .dataframe tbody tr th {\n",
       "        vertical-align: top;\n",
       "    }\n",
       "\n",
       "    .dataframe thead th {\n",
       "        text-align: right;\n",
       "    }\n",
       "</style>\n",
       "<table border=\"1\" class=\"dataframe\">\n",
       "  <thead>\n",
       "    <tr style=\"text-align: right;\">\n",
       "      <th></th>\n",
       "      <th>Restaurant_id</th>\n",
       "      <th>City</th>\n",
       "      <th>Cuisine Style</th>\n",
       "      <th>Ranking</th>\n",
       "      <th>Rating</th>\n",
       "      <th>Price Range</th>\n",
       "      <th>Number of Reviews</th>\n",
       "      <th>Reviews</th>\n",
       "      <th>URL_TA</th>\n",
       "      <th>ID_TA</th>\n",
       "      <th>Number of Reviews NAN</th>\n",
       "      <th>Price Range NAN</th>\n",
       "    </tr>\n",
       "  </thead>\n",
       "  <tbody>\n",
       "    <tr>\n",
       "      <th>8019</th>\n",
       "      <td>2361.0</td>\n",
       "      <td>Madrid</td>\n",
       "      <td>['Seafood', 'Mediterranean', 'European', 'Span...</td>\n",
       "      <td>2363.0</td>\n",
       "      <td>4.0</td>\n",
       "      <td>2.0</td>\n",
       "      <td>190.0</td>\n",
       "      <td>[['Nice restaurant in Madrid', 'Highly reccome...</td>\n",
       "      <td>/Restaurant_Review-g187514-d987900-Reviews-Com...</td>\n",
       "      <td>d987900</td>\n",
       "      <td>0</td>\n",
       "      <td>0</td>\n",
       "    </tr>\n",
       "    <tr>\n",
       "      <th>22998</th>\n",
       "      <td>2312.0</td>\n",
       "      <td>Madrid</td>\n",
       "      <td>['Seafood', 'Mediterranean', 'European', 'Span...</td>\n",
       "      <td>2314.0</td>\n",
       "      <td>4.0</td>\n",
       "      <td>2.0</td>\n",
       "      <td>190.0</td>\n",
       "      <td>[['Nice restaurant in Madrid', 'Highly reccome...</td>\n",
       "      <td>/Restaurant_Review-g187514-d987900-Reviews-Com...</td>\n",
       "      <td>d987900</td>\n",
       "      <td>0</td>\n",
       "      <td>0</td>\n",
       "    </tr>\n",
       "  </tbody>\n",
       "</table>\n",
       "</div>"
      ],
      "text/plain": [
       "       Restaurant_id    City  \\\n",
       "8019          2361.0  Madrid   \n",
       "22998         2312.0  Madrid   \n",
       "\n",
       "                                           Cuisine Style  Ranking  Rating  \\\n",
       "8019   ['Seafood', 'Mediterranean', 'European', 'Span...   2363.0     4.0   \n",
       "22998  ['Seafood', 'Mediterranean', 'European', 'Span...   2314.0     4.0   \n",
       "\n",
       "       Price Range  Number of Reviews  \\\n",
       "8019           2.0              190.0   \n",
       "22998          2.0              190.0   \n",
       "\n",
       "                                                 Reviews  \\\n",
       "8019   [['Nice restaurant in Madrid', 'Highly reccome...   \n",
       "22998  [['Nice restaurant in Madrid', 'Highly reccome...   \n",
       "\n",
       "                                                  URL_TA    ID_TA  \\\n",
       "8019   /Restaurant_Review-g187514-d987900-Reviews-Com...  d987900   \n",
       "22998  /Restaurant_Review-g187514-d987900-Reviews-Com...  d987900   \n",
       "\n",
       "       Number of Reviews NAN  Price Range NAN  \n",
       "8019                       0                0  \n",
       "22998                      0                0  "
      ]
     },
     "metadata": {},
     "output_type": "display_data"
    },
    {
     "data": {
      "text/html": [
       "<div>\n",
       "<style scoped>\n",
       "    .dataframe tbody tr th:only-of-type {\n",
       "        vertical-align: middle;\n",
       "    }\n",
       "\n",
       "    .dataframe tbody tr th {\n",
       "        vertical-align: top;\n",
       "    }\n",
       "\n",
       "    .dataframe thead th {\n",
       "        text-align: right;\n",
       "    }\n",
       "</style>\n",
       "<table border=\"1\" class=\"dataframe\">\n",
       "  <thead>\n",
       "    <tr style=\"text-align: right;\">\n",
       "      <th></th>\n",
       "      <th>Restaurant_id</th>\n",
       "      <th>City</th>\n",
       "      <th>Cuisine Style</th>\n",
       "      <th>Ranking</th>\n",
       "      <th>Rating</th>\n",
       "      <th>Price Range</th>\n",
       "      <th>Number of Reviews</th>\n",
       "      <th>Reviews</th>\n",
       "      <th>URL_TA</th>\n",
       "      <th>ID_TA</th>\n",
       "      <th>Number of Reviews NAN</th>\n",
       "      <th>Price Range NAN</th>\n",
       "    </tr>\n",
       "  </thead>\n",
       "  <tbody>\n",
       "    <tr>\n",
       "      <th>15295</th>\n",
       "      <td>475.0</td>\n",
       "      <td>Madrid</td>\n",
       "      <td>['Japanese', 'Vegetarian Friendly', 'Vegan Opt...</td>\n",
       "      <td>476.0</td>\n",
       "      <td>4.5</td>\n",
       "      <td>2.0</td>\n",
       "      <td>67.0</td>\n",
       "      <td>[['Whenever in Madrid, we never miss this gem....</td>\n",
       "      <td>/Restaurant_Review-g187514-d9877640-Reviews-Ra...</td>\n",
       "      <td>d9877640</td>\n",
       "      <td>0</td>\n",
       "      <td>0</td>\n",
       "    </tr>\n",
       "    <tr>\n",
       "      <th>15565</th>\n",
       "      <td>530.0</td>\n",
       "      <td>Madrid</td>\n",
       "      <td>['Japanese', 'Vegetarian Friendly', 'Vegan Opt...</td>\n",
       "      <td>531.0</td>\n",
       "      <td>4.5</td>\n",
       "      <td>2.0</td>\n",
       "      <td>67.0</td>\n",
       "      <td>[['Whenever in Madrid, we never miss this gem....</td>\n",
       "      <td>/Restaurant_Review-g187514-d9877640-Reviews-Ra...</td>\n",
       "      <td>d9877640</td>\n",
       "      <td>0</td>\n",
       "      <td>0</td>\n",
       "    </tr>\n",
       "  </tbody>\n",
       "</table>\n",
       "</div>"
      ],
      "text/plain": [
       "       Restaurant_id    City  \\\n",
       "15295          475.0  Madrid   \n",
       "15565          530.0  Madrid   \n",
       "\n",
       "                                           Cuisine Style  Ranking  Rating  \\\n",
       "15295  ['Japanese', 'Vegetarian Friendly', 'Vegan Opt...    476.0     4.5   \n",
       "15565  ['Japanese', 'Vegetarian Friendly', 'Vegan Opt...    531.0     4.5   \n",
       "\n",
       "       Price Range  Number of Reviews  \\\n",
       "15295          2.0               67.0   \n",
       "15565          2.0               67.0   \n",
       "\n",
       "                                                 Reviews  \\\n",
       "15295  [['Whenever in Madrid, we never miss this gem....   \n",
       "15565  [['Whenever in Madrid, we never miss this gem....   \n",
       "\n",
       "                                                  URL_TA     ID_TA  \\\n",
       "15295  /Restaurant_Review-g187514-d9877640-Reviews-Ra...  d9877640   \n",
       "15565  /Restaurant_Review-g187514-d9877640-Reviews-Ra...  d9877640   \n",
       "\n",
       "       Number of Reviews NAN  Price Range NAN  \n",
       "15295                      0                0  \n",
       "15565                      0                0  "
      ]
     },
     "metadata": {},
     "output_type": "display_data"
    },
    {
     "data": {
      "text/html": [
       "<div>\n",
       "<style scoped>\n",
       "    .dataframe tbody tr th:only-of-type {\n",
       "        vertical-align: middle;\n",
       "    }\n",
       "\n",
       "    .dataframe tbody tr th {\n",
       "        vertical-align: top;\n",
       "    }\n",
       "\n",
       "    .dataframe thead th {\n",
       "        text-align: right;\n",
       "    }\n",
       "</style>\n",
       "<table border=\"1\" class=\"dataframe\">\n",
       "  <thead>\n",
       "    <tr style=\"text-align: right;\">\n",
       "      <th></th>\n",
       "      <th>Restaurant_id</th>\n",
       "      <th>City</th>\n",
       "      <th>Cuisine Style</th>\n",
       "      <th>Ranking</th>\n",
       "      <th>Rating</th>\n",
       "      <th>Price Range</th>\n",
       "      <th>Number of Reviews</th>\n",
       "      <th>Reviews</th>\n",
       "      <th>URL_TA</th>\n",
       "      <th>ID_TA</th>\n",
       "      <th>Number of Reviews NAN</th>\n",
       "      <th>Price Range NAN</th>\n",
       "    </tr>\n",
       "  </thead>\n",
       "  <tbody>\n",
       "    <tr>\n",
       "      <th>147</th>\n",
       "      <td>4110.0</td>\n",
       "      <td>Madrid</td>\n",
       "      <td>['Spanish']</td>\n",
       "      <td>4112.0</td>\n",
       "      <td>5.0</td>\n",
       "      <td>0.0</td>\n",
       "      <td>2.0</td>\n",
       "      <td>[[], []]</td>\n",
       "      <td>/Restaurant_Review-g187514-d4600226-Reviews-Ca...</td>\n",
       "      <td>d4600226</td>\n",
       "      <td>0</td>\n",
       "      <td>1</td>\n",
       "    </tr>\n",
       "    <tr>\n",
       "      <th>9446</th>\n",
       "      <td>4104.0</td>\n",
       "      <td>Madrid</td>\n",
       "      <td>['Spanish']</td>\n",
       "      <td>4106.0</td>\n",
       "      <td>5.0</td>\n",
       "      <td>0.0</td>\n",
       "      <td>2.0</td>\n",
       "      <td>[[], []]</td>\n",
       "      <td>/Restaurant_Review-g187514-d4600226-Reviews-Ca...</td>\n",
       "      <td>d4600226</td>\n",
       "      <td>0</td>\n",
       "      <td>1</td>\n",
       "    </tr>\n",
       "  </tbody>\n",
       "</table>\n",
       "</div>"
      ],
      "text/plain": [
       "      Restaurant_id    City Cuisine Style  Ranking  Rating  Price Range  \\\n",
       "147          4110.0  Madrid   ['Spanish']   4112.0     5.0          0.0   \n",
       "9446         4104.0  Madrid   ['Spanish']   4106.0     5.0          0.0   \n",
       "\n",
       "      Number of Reviews   Reviews  \\\n",
       "147                 2.0  [[], []]   \n",
       "9446                2.0  [[], []]   \n",
       "\n",
       "                                                 URL_TA     ID_TA  \\\n",
       "147   /Restaurant_Review-g187514-d4600226-Reviews-Ca...  d4600226   \n",
       "9446  /Restaurant_Review-g187514-d4600226-Reviews-Ca...  d4600226   \n",
       "\n",
       "      Number of Reviews NAN  Price Range NAN  \n",
       "147                       0                1  \n",
       "9446                      0                1  "
      ]
     },
     "metadata": {},
     "output_type": "display_data"
    }
   ],
   "source": [
    "for i in df_TA_ID_ununique['ID_TA'].value_counts().index[:3]:\n",
    "    display(df[df['ID_TA']==i])"
   ]
  },
  {
   "cell_type": "markdown",
   "metadata": {},
   "source": [
    "Получается, что рестораны с абсолютно одинаковыми признаки, имеют разный Ranking, поэтому нужно присвоить одно значение для такого заведения."
   ]
  },
  {
   "cell_type": "code",
   "execution_count": 35,
   "metadata": {},
   "outputs": [],
   "source": [
    "for i in df_TA_ID_ununique['ID_TA'].value_counts().index:\n",
    "    min_df = df[df['ID_TA']==i].Ranking\n",
    "    min_rang = min_df.values.min()\n",
    "    id_ = min_df.index.values\n",
    "    df.loc[id_,'Ranking'] = min_rang"
   ]
  },
  {
   "cell_type": "markdown",
   "metadata": {},
   "source": [
    "В колонке ID_TA уберём первый символ 'd' и преобразуем строку в int"
   ]
  },
  {
   "cell_type": "code",
   "execution_count": 36,
   "metadata": {},
   "outputs": [],
   "source": [
    "df.ID_TA = df.ID_TA.apply(lambda x: int(x[1:]))"
   ]
  },
  {
   "cell_type": "code",
   "execution_count": 37,
   "metadata": {
    "scrolled": true
   },
   "outputs": [
    {
     "data": {
      "text/plain": [
       "Restaurant_id               0\n",
       "City                        0\n",
       "Cuisine Style            9283\n",
       "Ranking                     0\n",
       "Rating                      0\n",
       "Price Range                 0\n",
       "Number of Reviews           0\n",
       "Reviews                     0\n",
       "URL_TA                      0\n",
       "ID_TA                       0\n",
       "Number of Reviews NAN       0\n",
       "Price Range NAN             0\n",
       "dtype: int64"
      ]
     },
     "execution_count": 37,
     "metadata": {},
     "output_type": "execute_result"
    }
   ],
   "source": [
    "df.isna().sum()"
   ]
  },
  {
   "cell_type": "markdown",
   "metadata": {},
   "source": [
    "'URL_TA'"
   ]
  },
  {
   "cell_type": "markdown",
   "metadata": {},
   "source": [
    "Возьмём координаты ресторана, и расстояние его от центра города. Так же для пропущенных строк в 'Cuisine Style' впишем туда кухни, которые запарсим"
   ]
  },
  {
   "cell_type": "code",
   "execution_count": 38,
   "metadata": {},
   "outputs": [
    {
     "data": {
      "text/plain": [
       "'/Restaurant_Review-g187147-d1912643-Reviews-R_Yves-Paris_Ile_de_France.html'"
      ]
     },
     "execution_count": 38,
     "metadata": {},
     "output_type": "execute_result"
    }
   ],
   "source": [
    "df['URL_TA'][0]"
   ]
  },
  {
   "cell_type": "markdown",
   "metadata": {},
   "source": [
    "URL состоит из двух частей: 1)число,которое идёт после буквы 'g' - это город\n",
    "2)число, которе идёт после буквы 'd' - совпадает со значением в столбце ID_TA\n",
    "Отделим код города и запишем в новый столбец, т.к. этот ещё нам пригодится."
   ]
  },
  {
   "cell_type": "code",
   "execution_count": 39,
   "metadata": {
    "scrolled": true
   },
   "outputs": [],
   "source": [
    "df['code_city'] = df['URL_TA'].apply(lambda x: float(x[20:26]))"
   ]
  },
  {
   "cell_type": "code",
   "execution_count": null,
   "metadata": {},
   "outputs": [],
   "source": []
  },
  {
   "cell_type": "markdown",
   "metadata": {},
   "source": [
    "'Cuisine Style'"
   ]
  },
  {
   "cell_type": "code",
   "execution_count": 40,
   "metadata": {
    "scrolled": true
   },
   "outputs": [
    {
     "data": {
      "text/plain": [
       "str"
      ]
     },
     "execution_count": 40,
     "metadata": {},
     "output_type": "execute_result"
    }
   ],
   "source": [
    "type(df['Cuisine Style'][0])"
   ]
  },
  {
   "cell_type": "markdown",
   "metadata": {},
   "source": [
    "В столбце много пропусков, вынесем их в отдельный признак, затем возьмём с сайта для каждого ресторана тип кухни,чтобы заполнить пропуски, если таковые останутся, то решим. Так же нужно сделать список кухонь, а не строку с кухнями"
   ]
  },
  {
   "cell_type": "code",
   "execution_count": 41,
   "metadata": {},
   "outputs": [],
   "source": [
    "def create_list(item):\n",
    "    \"\"\"Создаёт список из строки.\"\"\"\n",
    "    \n",
    "    if type(item) == str:\n",
    "        return item.replace('[','').replace(']','').replace(\" '\",'').replace(\"'\",'').split(',')\n",
    "        \n",
    "    else: return item"
   ]
  },
  {
   "cell_type": "code",
   "execution_count": 42,
   "metadata": {},
   "outputs": [],
   "source": [
    "df['Cuisine Style NAN'] = df['Cuisine Style'].isna().astype('uint8')"
   ]
  },
  {
   "cell_type": "code",
   "execution_count": 43,
   "metadata": {},
   "outputs": [],
   "source": [
    "df['Cuisine Style'] = df['Cuisine Style'].apply(create_list)"
   ]
  },
  {
   "cell_type": "markdown",
   "metadata": {},
   "source": [
    "Возьмём список из уникальные значений кухонь для парсинга"
   ]
  },
  {
   "cell_type": "code",
   "execution_count": 44,
   "metadata": {},
   "outputs": [],
   "source": [
    "new_list = []\n",
    "for i in df['Cuisine Style']:\n",
    "    if type(i)==list:\n",
    "        new_list+=i\n",
    "unique_cuisine = set(new_list)"
   ]
  },
  {
   "cell_type": "code",
   "execution_count": 45,
   "metadata": {},
   "outputs": [],
   "source": [
    "# Здесь мы создаем список из значений типов кухни, которые мы взяли из unique_cuisine, и которые \n",
    "# нашлись на самих сайтах. Сделаем так, чтобы все слова начинались с заглавных букв.\n",
    "eng_cuisines =['American', 'Irish', 'Italian', 'Bangladeshi', 'International', 'Native', 'Egyptian', \n",
    "'Vegan Options', 'Persian', 'Venezuelan', 'Delicatessen', 'South American',  'Spanish', 'Latin', 'Ecuadorean', \n",
    "'Ukrainian', 'Israeli','Mongolian', 'Azerbaijani', 'Danish', 'Peruvian', 'Sri Lankan', 'Latvian', \n",
    "'Scottish', 'Swiss', \"Central Asian\", 'Chilean', 'Brazilian', 'Pub', 'Armenian', 'Singaporean', 'Canadian', \n",
    "'New Zealand', 'Contemporary',  'Central European', 'Nepali', 'Greek', 'Fujian', 'Vietnamese', 'Thai', \n",
    "'Hawaiian', 'Polish', 'Cuban', 'Diner', 'Jamaican', 'Mexican', 'European', 'Caribbean', 'Caucasian', 'Asian', \n",
    "               'Indian', 'Czech', 'Hungarian', 'Welsh', 'Norwegian', 'Chinese', 'Romanian', 'Japanese', 'Tunisian',\n",
    "               'Dutch', 'Halal', 'Cambodian', 'Portuguese', \"Central American\", 'Brew Pub', 'Arabic', 'Scandinavian',\n",
    "               'Fusion', 'Argentinean', 'Russian', 'Burmese', 'Afghani', 'Belgian', 'Eastern European',\n",
    "               'Gluten Free Options', 'Salvadoran', 'Turkish', 'Taiwanese', 'Pakistani', 'Yunnan', 'Austrian',\n",
    "               'Southwestern', 'Filipino', 'Australian', 'Swedish', 'Colombian', 'Croatian', 'Healthy',\n",
    "               'Malaysian', 'Pizza', 'Albanian', 'Balti', 'Kosher', 'Grill', 'Uzbek', 'Gastropub', 'Xinjiang',\n",
    "               'Cafe', 'Polynesian', 'Mediterranean', 'Moroccan', 'Sushi', 'Georgian', 'Steakhouse', 'German',\n",
    "               'Barbecue', 'Korean', \"Street Food\", 'Lebanese', \"Vegetarian Friendly\", 'Slovenian', 'Bar', \n",
    "               'African', 'Indonesian', 'Tibetan', 'Ethiopian', 'Seafood', \"Fast Food\", 'British', \n",
    "               'Cajun & Creole', 'Soups', 'French', 'Middle Eastern']\n",
    "\n",
    "for k,i in enumerate(eng_cuisines):\n",
    "    eng_cuisines[k] = i.title()"
   ]
  },
  {
   "cell_type": "code",
   "execution_count": 46,
   "metadata": {},
   "outputs": [],
   "source": [
    "# Список с такими же словами только на русском языке, делаем так из-за того, что я не смог собрать данные на английском языке\n",
    "# не получилось в requests.get() передать параметр headers со значением Accept-Language: en. Ошибки не было, но данные\n",
    "# приходили на русском языке, пришлось заморочиться и сделать вот такой список.\n",
    "rus_cuisines = ['Американская', 'Ирландская', 'Итальянская', 'Бангладешская', 'Международная', 'Индейская', 'Египетская',\n",
    "\"Для веганов\", 'Персидская', 'Венесуэльская', 'Гастроном', 'Южноамериканская', 'Испанская', 'Латинская', 'Эквадорская',\n",
    "'Украинская', 'Израильская', 'Монгольская', 'Азербайджанская', 'Датская', 'Перуанская', 'Шриланкийская', 'Латышская', \n",
    "'Шотландская', 'Швейцарская', 'Среднеазиатская', 'Чилийская','Бразильская', 'Паб', 'Армянская', 'Сингапурская', 'Канадская',\n",
    "'Новозеландская', 'Современная', 'Центральноевропейская', 'Непальская', 'Греческая', 'Фуцзянь', 'вьетнамская', 'Тайская', \n",
    "'Гавайская', 'Польская', 'Кубинская', 'Закусочная', 'Ямайская', 'Мексиканская', 'Европейская', 'Карибская', 'Кавказская', 'Азиатская', \n",
    "'Индийская', 'Чешская', 'Венгерская', 'валлийская', 'Норвежская',  'Китайская', 'румынская', 'Японская',\n",
    "'Тунисская', 'Голландская', 'Халяль', 'Камбоджийская', 'португальская', 'Центральноамериканская', 'Паб с пивоварней', \n",
    "'арабская', 'Скандинавская', 'Фьюжн', 'Аргентинская', 'русская', 'Бирманская', 'Афганская', 'бельгийская',\n",
    "'Восточноевропейская', 'Безглютеновые блюда', 'Сальвадорская', 'турецкая','Тайваньская', 'Пакистанская', 'Юньнаая', \n",
    "'Австрийская', 'Югозападная', 'Филиппинская', 'Австралийская', 'Шведская', 'Колумбийская', 'хорватская', 'Здоровая',\n",
    "                'Малазийская', 'Пицца', 'албанская', 'Балти', 'Кошерная', 'Гриль', 'Узбекская', 'Гастропаб', 'Синьцзян', \n",
    "                'Кафе', 'Полинезийская', 'Средиземноморская', 'Марокканская', 'Суши', 'Грузинская', 'Стейк-хаус',\n",
    "                'Немецкая', 'Барбекю', 'Корейская', \"Уличная еда\",  'Ливанская', \"Подходит для вегетарианцев\", \n",
    "                'словенская', 'Бар', 'Африканская', 'индонезийская', 'тибетская', 'Эфиопская', 'Морепродукты',\n",
    "                'Фастфуд','Британская', \"Каджунская и креольская\", 'Супы', 'Французская', 'Ближневосточная']\n",
    "\n",
    "\n",
    "for k,i in enumerate(rus_cuisines):\n",
    "    rus_cuisines[k] = i.title()"
   ]
  },
  {
   "cell_type": "code",
   "execution_count": 47,
   "metadata": {},
   "outputs": [],
   "source": [
    "# Создаём словарь с ключами rus_cuisines и соответствующими значениями из eng_cuisines\n",
    "dict_cuisines = dict.fromkeys(rus_cuisines)\n",
    "for k,i in enumerate(dict_cuisines):\n",
    "    dict_cuisines[i] = eng_cuisines[k]"
   ]
  },
  {
   "cell_type": "code",
   "execution_count": 48,
   "metadata": {},
   "outputs": [],
   "source": [
    "# Эти функции я оставлю здесь но выполню их в другом ноутбуке, а сюда вставлю только результат выполнения.\n",
    "\n",
    "def get_html(item):\n",
    "    '''Функция выводит список из типов кухни для url из URL_TA.\n",
    "    Т.к. сайт очень объемный, он долго считывает инфу, для ~1/4 данных датасета\n",
    "    придётся подождать примерно 5 часов.'''\n",
    "    url = 'https://www.tripadvisor.ru' + item\n",
    "    response = requests.get(url, headers={\"Accept-Language\": \"en\",'User-Agent': UserAgent().chrome}).text\n",
    "    page = Bs(response,'html.parser')\n",
    "    list_of_names = page.find_all('div', class_ = '_14zKtJkz')\n",
    "    if len(list_of_names)>0:\n",
    "        for ind,i in enumerate(list_of_names):\n",
    "            if i.text=='ТИП КУХНИ':\n",
    "                return page.find_all(class_='_1XLfiSsv')[ind].text.replace(' ','').split(',')\n",
    "            \n",
    "            \n",
    "def rus_to_eng(item):\n",
    "    '''Заменяет русские слова на английские'''\n",
    "    item2 = []\n",
    "    if type(item)==float:\n",
    "        return nan\n",
    "    elif type(item)==list:\n",
    "        for k in range(0,len(item)):\n",
    "            if item[k] in dict_cuisines:\n",
    "                item2.append(dict_cuisines[item[k]])\n",
    "        return item2"
   ]
  },
  {
   "cell_type": "code",
   "execution_count": 49,
   "metadata": {
    "scrolled": true
   },
   "outputs": [
    {
     "name": "stdout",
     "output_type": "stream",
     "text": [
      "Wall time: 9.58 s\n"
     ]
    },
    {
     "data": {
      "text/plain": [
       "1             [Азиатская, Непальская]\n",
       "3                                None\n",
       "5     [Португальская, Бар, Винныйбар]\n",
       "8                 [Кафе, Европейская]\n",
       "10     [Испанская, Средиземноморская]\n",
       "Name: URL_TA, dtype: object"
      ]
     },
     "execution_count": 49,
     "metadata": {},
     "output_type": "execute_result"
    }
   ],
   "source": [
    "%%time\n",
    "# Чтобы убедиться, что функция работает, выполню её для 5 строк.\n",
    "df[df['Cuisine Style'].isna()]['URL_TA'][0:5].apply(get_html)"
   ]
  },
  {
   "cell_type": "code",
   "execution_count": 50,
   "metadata": {},
   "outputs": [],
   "source": [
    "# Открываем эту таблицу, в которую записали результат работы по сбору данных с сайта\n",
    "parsing_cuisines = pd.read_csv('parsing_cuisine.csv',encoding='windows-1251').Cuisine"
   ]
  },
  {
   "cell_type": "code",
   "execution_count": 51,
   "metadata": {
    "scrolled": true
   },
   "outputs": [],
   "source": [
    "# Возьмём список индексов пропущенных значений в Cuisine Style, т.к. в parsing_cuisines индексы идут по порядку.\n",
    "indexies = df[df['Cuisine Style'].isna()].index.tolist()\n",
    "parsing_cuisines.index = indexies\n"
   ]
  },
  {
   "cell_type": "markdown",
   "metadata": {},
   "source": [
    "Приведём строку к списку"
   ]
  },
  {
   "cell_type": "code",
   "execution_count": 52,
   "metadata": {},
   "outputs": [],
   "source": [
    "parsing_cuisines = parsing_cuisines.apply(create_list)"
   ]
  },
  {
   "cell_type": "markdown",
   "metadata": {},
   "source": [
    "Посмотрим на уликальные названия кухонь в типах кухонь, которые мы взяли с сайта.\n",
    "Сравним с кухнями, которых нет в исходном датасете, после этого попытаемся их преобразовать в нужный формат."
   ]
  },
  {
   "cell_type": "code",
   "execution_count": 53,
   "metadata": {},
   "outputs": [],
   "source": [
    "unique_list = []\n",
    "for i in parsing_cuisines:\n",
    "    if type(i)==list:\n",
    "        for k in i:\n",
    "            unique_list.append(k)\n",
    "unique_list = list(set(unique_list))"
   ]
  },
  {
   "cell_type": "code",
   "execution_count": 54,
   "metadata": {},
   "outputs": [
    {
     "name": "stdout",
     "output_type": "stream",
     "text": [
      "Центральноазиатская\n",
      "Романья\n",
      "Пивныерестораны\n",
      "Сицилийская\n",
      "Барысрестораном\n",
      "КухняЛомбардии\n",
      "Римская\n",
      "Латиноамериканская\n",
      "КухняЛацио\n",
      "Японскаякухня-фьюжн\n",
      "Тосканская\n",
      "Каталанская\n",
      "Уличнаяеда\n",
      "Центрально-итальянская\n",
      "Фруктовыесалоны\n",
      "Каджунскаяикреольская\n",
      "Пабспивоварней\n",
      "Неаполитанская\n",
      "Стейк-хаус\n",
      "Северно-итальянская\n",
      "Южно-итальянская\n",
      "КухняКампании\n",
      "Винныйбар\n",
      "Юговосточная\n",
      "КухняЭмилии-Романьи\n"
     ]
    }
   ],
   "source": [
    "# Кухни которых нет в исходном датасете.\n",
    "for i in unique_list:\n",
    "    if i not in dict_cuisines:\n",
    "        print(i)"
   ]
  },
  {
   "cell_type": "code",
   "execution_count": 55,
   "metadata": {},
   "outputs": [],
   "source": [
    "# Преобразуем кухни, которые немного не так были записаны на сайте.\n",
    "def replace_parsing_cuisine(item):\n",
    "    replace_dict = {'Стейк-хаус':'Стейк-Хаус',\n",
    "            'Винныйбар':'Бар',\n",
    "            'Уличнаяеда': 'Уличная Еда',\n",
    "            'Фруктовыесалоны': 'Фруктовые Салоны',\n",
    "            'КухняЛомбардии':'Итальянская',\n",
    "            'Центрально-итальянская': 'Итальянская',\n",
    "            'Романья':\"Итальянская\",\n",
    "            'Римская':\"Итальянская\",\n",
    "            'Северно-итальянская': 'Итальянская',\n",
    "            \"Пабспивоварней\": \"Паб С Пивоварней\",\n",
    "            \"Южно-итальянская\": \"Итальянская\",\n",
    "            \"Барысрестораном\": \"Бар\",\n",
    "            'Японскаякухня-фьюжн': \"Фьюжн\",\n",
    "            \"Каталанская\": 'Испанская',\n",
    "            \"КухняЛацио\": \"Итальянская\",\n",
    "            \"КухняЭмилии-Романьи\": \"Итальянская\",\n",
    "            \"Пивныерестораны\": \"Паб С Пивоварней\",\n",
    "            \"Каджунскаяикреольская\":\"Каджунская И Креольская\",\n",
    "            \"Юговосточная\":'Ближневосточная',\n",
    "            \"Неаполитанская\":\"Итальянская\",\n",
    "            \"Центральноазиатская\":\"Азиатская\"}\n",
    "    if type(item)==list:\n",
    "        for i in range(0,len(item)):\n",
    "            if item[i] in replace_dict:\n",
    "                item[i] = replace_dict[item[i]]\n",
    "    if type(item)==list:\n",
    "        return list(set(item))\n",
    "    else: return item"
   ]
  },
  {
   "cell_type": "code",
   "execution_count": 56,
   "metadata": {
    "scrolled": true
   },
   "outputs": [],
   "source": [
    "parsing_cuisines = parsing_cuisines.apply(replace_parsing_cuisine)"
   ]
  },
  {
   "cell_type": "code",
   "execution_count": 57,
   "metadata": {
    "scrolled": true
   },
   "outputs": [
    {
     "data": {
      "text/plain": [
       "1                      [Непальская, Азиатская]\n",
       "3                                          NaN\n",
       "5                         [Бар, Португальская]\n",
       "8                          [Европейская, Кафе]\n",
       "10              [Средиземноморская, Испанская]\n",
       "21                                         NaN\n",
       "26                            [Испанская, Бар]\n",
       "27                                         NaN\n",
       "28                                         NaN\n",
       "29    [Паб, Бар, Испанская, Средиземноморская]\n",
       "Name: Cuisine, dtype: object"
      ]
     },
     "execution_count": 57,
     "metadata": {},
     "output_type": "execute_result"
    }
   ],
   "source": [
    "parsing_cuisines[:10]"
   ]
  },
  {
   "cell_type": "code",
   "execution_count": 58,
   "metadata": {},
   "outputs": [],
   "source": [
    "# Заменим кухни с русского на аншл, как в исходном датасете\n",
    "parsing_cuisines = parsing_cuisines.apply(rus_to_eng)"
   ]
  },
  {
   "cell_type": "code",
   "execution_count": 59,
   "metadata": {
    "scrolled": true
   },
   "outputs": [
    {
     "data": {
      "text/plain": [
       "1                 [Nepali, Asian]\n",
       "3                             NaN\n",
       "5               [Bar, Portuguese]\n",
       "8                [European, Cafe]\n",
       "10       [Mediterranean, Spanish]\n",
       "                   ...           \n",
       "39981                         NaN\n",
       "39983                         NaN\n",
       "39986                         NaN\n",
       "39988                         NaN\n",
       "39993                         NaN\n",
       "Name: Cuisine, Length: 9283, dtype: object"
      ]
     },
     "execution_count": 59,
     "metadata": {},
     "output_type": "execute_result"
    }
   ],
   "source": [
    "parsing_cuisines"
   ]
  },
  {
   "cell_type": "code",
   "execution_count": null,
   "metadata": {},
   "outputs": [],
   "source": []
  },
  {
   "cell_type": "code",
   "execution_count": 60,
   "metadata": {},
   "outputs": [],
   "source": [
    "# соединим списки кухонь\n",
    "df['Cuisine Style'] = df['Cuisine Style'].combine_first(parsing_cuisines)"
   ]
  },
  {
   "cell_type": "code",
   "execution_count": 61,
   "metadata": {},
   "outputs": [],
   "source": [
    "# По итогу мы заполнили ~половину пропусков в этом признаке"
   ]
  },
  {
   "cell_type": "code",
   "execution_count": 62,
   "metadata": {},
   "outputs": [
    {
     "data": {
      "text/plain": [
       "4846"
      ]
     },
     "execution_count": 62,
     "metadata": {},
     "output_type": "execute_result"
    }
   ],
   "source": [
    "df['Cuisine Style'].isna().sum()"
   ]
  },
  {
   "cell_type": "code",
   "execution_count": 63,
   "metadata": {},
   "outputs": [],
   "source": [
    "# Выпешем пропуски в отдельный признак\n",
    "df['Cuisine Style NAN'] = pd.isna(df['Cuisine Style']).astype('uint8')"
   ]
  },
  {
   "cell_type": "code",
   "execution_count": 64,
   "metadata": {},
   "outputs": [],
   "source": [
    "# Заполним пропуски списком из слова Other\n",
    "x=[]\n",
    "for i in df['Cuisine Style']:\n",
    "    if type(i)==list:\n",
    "        x.append(i)\n",
    "    elif type(i)==float:\n",
    "        x.append(['Other'])\n",
    "df['Cuisine Style'] = x"
   ]
  },
  {
   "cell_type": "code",
   "execution_count": 65,
   "metadata": {},
   "outputs": [],
   "source": [
    "# Добавим признак кол-во кухонь в ресторане\n",
    "df['number_of_cuisines'] = df['Cuisine Style'].apply(lambda x: len(x))"
   ]
  },
  {
   "cell_type": "markdown",
   "metadata": {},
   "source": [
    "'Reviews'"
   ]
  },
  {
   "cell_type": "markdown",
   "metadata": {},
   "source": [
    "В колонке есть отзывы о заведении и время их отправки, давайте вытащим из данных время, а затем поработаем с самими отзывами"
   ]
  },
  {
   "cell_type": "code",
   "execution_count": 66,
   "metadata": {
    "scrolled": false
   },
   "outputs": [
    {
     "data": {
      "text/plain": [
       "[[], []]                                                                                                                              6471\n",
       "[['Sat night', 'Can\\'t even explain.. \"A\" place.. A \"100...'], ['10/22/2017', '05/11/2017']]                                             2\n",
       "[['Absolutely authentic and delicious!', 'Wonderful discovery'], ['09/30/2017', '08/04/2016']]                                           2\n",
       "[['Thursday snack', 'Good value for money & good food!'], ['03/13/2017', '06/20/2016']]                                                  2\n",
       "[['Nice restaurant in Madrid', 'Highly reccomended'], ['11/10/2017', '05/21/2017']]                                                      2\n",
       "[['Very good all around', 'Our first Madrid restaurant'], ['11/20/2017', '10/11/2017']]                                                  2\n",
       "[['Great Food! Wide Variety.', 'Dinner'], ['11/26/2017', '05/23/2017']]                                                                  2\n",
       "[['The real codido madrileño'], ['03/31/2017']]                                                                                          2\n",
       "[['Happened to drop in', 'Right for a quick bite'], ['11/30/2016', '06/20/2015']]                                                        2\n",
       "[['Whenever in Madrid, we never miss this gem...', 'Underrated sushi restaurant with very good...'], ['04/11/2017', '12/02/2016']]       2\n",
       "Name: Reviews, dtype: int64"
      ]
     },
     "execution_count": 66,
     "metadata": {},
     "output_type": "execute_result"
    }
   ],
   "source": [
    "# 6471 пустое значение\n",
    "df.Reviews.value_counts()[:10]"
   ]
  },
  {
   "cell_type": "code",
   "execution_count": 67,
   "metadata": {},
   "outputs": [],
   "source": [
    "df['date'] = df['Reviews'].apply(lambda x: [0] if pd.isna(x) else x[2:-2].\\\n",
    "                    split('], [')[1][1:-1].split(\"', '\"))"
   ]
  },
  {
   "cell_type": "markdown",
   "metadata": {},
   "source": [
    "Добавим признак, который обозначает разницу между отзывами"
   ]
  },
  {
   "cell_type": "code",
   "execution_count": 68,
   "metadata": {
    "scrolled": true
   },
   "outputs": [],
   "source": [
    "df['diff_date'] = df['date'].apply(lambda x: None if x == [] else pd.to_datetime(x).max() - pd.to_datetime(x).min())"
   ]
  },
  {
   "cell_type": "code",
   "execution_count": 69,
   "metadata": {
    "scrolled": false
   },
   "outputs": [],
   "source": [
    "df['diff_date'] = df[~df['diff_date'].isna()]['diff_date'].apply(lambda x: None if pd.isna(x) else int((str(x).split(' ')[0])))"
   ]
  },
  {
   "cell_type": "code",
   "execution_count": 70,
   "metadata": {
    "scrolled": true
   },
   "outputs": [
    {
     "data": {
      "text/plain": [
       "count    33529.000000\n",
       "mean       122.455993\n",
       "std        211.247868\n",
       "min          0.000000\n",
       "25%          8.000000\n",
       "50%         49.000000\n",
       "75%        147.000000\n",
       "max       3207.000000\n",
       "Name: diff_date, dtype: float64"
      ]
     },
     "execution_count": 70,
     "metadata": {},
     "output_type": "execute_result"
    }
   ],
   "source": [
    "df['diff_date'].describe()"
   ]
  },
  {
   "cell_type": "code",
   "execution_count": 71,
   "metadata": {},
   "outputs": [
    {
     "data": {
      "text/plain": [
       "355.5"
      ]
     },
     "execution_count": 71,
     "metadata": {},
     "output_type": "execute_result"
    }
   ],
   "source": [
    "# Находим верхнюю границу выбросов\n",
    "upper_outlier = find_outliers('diff_date')[1]\n",
    "upper_outlier"
   ]
  },
  {
   "cell_type": "code",
   "execution_count": 72,
   "metadata": {},
   "outputs": [
    {
     "data": {
      "text/plain": [
       "2779"
      ]
     },
     "execution_count": 72,
     "metadata": {},
     "output_type": "execute_result"
    }
   ],
   "source": [
    "# Кол-во элементов, которые выходят за эту границу\n",
    "len(df[df.diff_date>upper_outlier])"
   ]
  },
  {
   "cell_type": "code",
   "execution_count": 73,
   "metadata": {},
   "outputs": [
    {
     "data": {
      "text/plain": [
       "0          41.0\n",
       "1         382.0\n",
       "2           2.0\n",
       "3           NaN\n",
       "4         272.0\n",
       "          ...  \n",
       "39995      34.0\n",
       "39996       9.0\n",
       "39997    3127.0\n",
       "39998      23.0\n",
       "39999    1306.0\n",
       "Name: diff_date, Length: 40000, dtype: float64"
      ]
     },
     "execution_count": 73,
     "metadata": {},
     "output_type": "execute_result"
    }
   ],
   "source": [
    "df['diff_date']"
   ]
  },
  {
   "cell_type": "code",
   "execution_count": 74,
   "metadata": {
    "scrolled": false
   },
   "outputs": [
    {
     "data": {
      "text/plain": [
       "<matplotlib.axes._subplots.AxesSubplot at 0x271dbf7f400>"
      ]
     },
     "execution_count": 74,
     "metadata": {},
     "output_type": "execute_result"
    },
    {
     "data": {
      "image/png": "[encoded data removed]",
      "text/plain": [
       "<Figure size 1080x720 with 1 Axes>"
      ]
     },
     "metadata": {},
     "output_type": "display_data"
    }
   ],
   "source": [
    "sns.distplot(df['diff_date'])"
   ]
  },
  {
   "cell_type": "markdown",
   "metadata": {},
   "source": [
    "По графику видно, что много значений в районе 0, поэтому медиана сместилась ближе к этим значениям, можем считать что по графику выбросами будут значения, которые больше 1150, посмотрим сколько таких значений"
   ]
  },
  {
   "cell_type": "code",
   "execution_count": 2448,
   "metadata": {},
   "outputs": [
    {
     "data": {
      "text/plain": [
       "263"
      ]
     },
     "execution_count": 2448,
     "metadata": {},
     "output_type": "execute_result"
    }
   ],
   "source": [
    "len(df[df.diff_date>1150])"
   ]
  },
  {
   "cell_type": "markdown",
   "metadata": {},
   "source": [
    "Заменим все значения, которые больше 1150 на 1150"
   ]
  },
  {
   "cell_type": "code",
   "execution_count": 2449,
   "metadata": {
    "scrolled": true
   },
   "outputs": [
    {
     "name": "stderr",
     "output_type": "stream",
     "text": [
      "C:\\Users\\User\\anaconda3\\lib\\site-packages\\pandas\\core\\generic.py:5303: SettingWithCopyWarning: \n",
      "A value is trying to be set on a copy of a slice from a DataFrame.\n",
      "Try using .loc[row_indexer,col_indexer] = value instead\n",
      "\n",
      "See the caveats in the documentation: https://pandas.pydata.org/pandas-docs/stable/user_guide/indexing.html#returning-a-view-versus-a-copy\n",
      "  self[name] = value\n"
     ]
    }
   ],
   "source": [
    "df[~df.diff_date.isna()].diff_date = df[~df.diff_date.isna()].diff_date.apply(lambda x: 1150 if x>1150 else x)"
   ]
  },
  {
   "cell_type": "code",
   "execution_count": 2450,
   "metadata": {},
   "outputs": [
    {
     "data": {
      "text/plain": [
       "6471"
      ]
     },
     "execution_count": 2450,
     "metadata": {},
     "output_type": "execute_result"
    }
   ],
   "source": [
    "df.diff_date.isna().sum()"
   ]
  },
  {
   "cell_type": "markdown",
   "metadata": {},
   "source": [
    "В столбце много пропусков, поэтому заменим их на медиану."
   ]
  },
  {
   "cell_type": "code",
   "execution_count": 2451,
   "metadata": {},
   "outputs": [],
   "source": [
    "df.diff_date = df.diff_date.fillna(df.diff_date.median())"
   ]
  },
  {
   "cell_type": "markdown",
   "metadata": {},
   "source": [
    "Добавим признак: кол-во дней с настоящего момента до времени последнего комментария"
   ]
  },
  {
   "cell_type": "code",
   "execution_count": 2452,
   "metadata": {
    "scrolled": true
   },
   "outputs": [
    {
     "name": "stderr",
     "output_type": "stream",
     "text": [
      "<ipython-input-2452-9a025cbdc135>:1: FutureWarning: The pandas.datetime class is deprecated and will be removed from pandas in a future version. Import from datetime module instead.\n",
      "  df['days_from_now'] = df['date'].apply(lambda x: None if x==[] else pd.datetime.now() - pd.to_datetime(x).max())\n"
     ]
    }
   ],
   "source": [
    "df['days_from_now'] = df['date'].apply(lambda x: None if x==[] else pd.datetime.now() - pd.to_datetime(x).max())"
   ]
  },
  {
   "cell_type": "code",
   "execution_count": 2453,
   "metadata": {},
   "outputs": [],
   "source": [
    "df['days_from_now'] = df['days_from_now'].apply(lambda x: x.days)"
   ]
  },
  {
   "cell_type": "code",
   "execution_count": 2454,
   "metadata": {},
   "outputs": [
    {
     "data": {
      "text/plain": [
       "6471"
      ]
     },
     "execution_count": 2454,
     "metadata": {},
     "output_type": "execute_result"
    }
   ],
   "source": [
    "df['days_from_now'].isna().sum()"
   ]
  },
  {
   "cell_type": "markdown",
   "metadata": {},
   "source": [
    "Заполним пропуски средним значением"
   ]
  },
  {
   "cell_type": "code",
   "execution_count": 2455,
   "metadata": {},
   "outputs": [],
   "source": [
    "df['days_from_now'] = df['days_from_now'].fillna(df['days_from_now'].mean())"
   ]
  },
  {
   "cell_type": "markdown",
   "metadata": {},
   "source": [
    "В Reviews, оставим только отзывы, которые разделим по словам, чтобы создать новый признак, отличающий положительный комментарий от негативного"
   ]
  },
  {
   "cell_type": "code",
   "execution_count": 2456,
   "metadata": {},
   "outputs": [],
   "source": [
    "df['Reviews'] = df['Reviews'].apply(lambda x: x.split(']')[0].lower().replace('[','').replace(\"'\",'').replace(',','').split(' '))"
   ]
  },
  {
   "cell_type": "code",
   "execution_count": 76,
   "metadata": {},
   "outputs": [
    {
     "data": {
      "text/plain": [
       "0        [['Good food at your doorstep', 'A good hotel ...\n",
       "1        [['Unique cuisine', 'Delicious Nepalese food']...\n",
       "2        [['Catch up with friends', 'Not exceptional'],...\n",
       "3                                                 [[], []]\n",
       "4        [['Best place to try a Bavarian food', 'Nice b...\n",
       "                               ...                        \n",
       "39995    [['The real Italian experience!', 'Wonderful f...\n",
       "39996    [['Parisian atmosphere', 'Bit pricey but inter...\n",
       "39997    [['Good by swedish standards', 'A hidden jewel...\n",
       "39998    [['Underground restaurant', 'Oldest Restaurant...\n",
       "39999    [['Average', 'Nice an informal'], ['01/31/2016...\n",
       "Name: Reviews, Length: 40000, dtype: object"
      ]
     },
     "execution_count": 76,
     "metadata": {},
     "output_type": "execute_result"
    }
   ],
   "source": []
  },
  {
   "cell_type": "markdown",
   "metadata": {},
   "source": [
    "Выгрузим из .txt файлов положительные и негативные слова"
   ]
  },
  {
   "cell_type": "code",
   "execution_count": 2457,
   "metadata": {},
   "outputs": [],
   "source": [
    "bad_words = []\n",
    "f = open('end_neg_words.txt', 'r')\n",
    "for line in f:\n",
    "    line.replace(' ','')\n",
    "    bad_words.append(line[:-1])"
   ]
  },
  {
   "cell_type": "code",
   "execution_count": 2458,
   "metadata": {},
   "outputs": [],
   "source": [
    "good_words = []\n",
    "f = open('end_pos_words.txt', 'r')\n",
    "for line in f:\n",
    "    line.replace(' ','')\n",
    "    good_words.append(line[:-1])"
   ]
  },
  {
   "cell_type": "code",
   "execution_count": 2459,
   "metadata": {},
   "outputs": [],
   "source": [
    "def bad_review_score(item):\n",
    "    \"\"\"Считает кол-во отрицательных и положительных слов в отзыве.\"\"\"\n",
    "    k=0\n",
    "    for word in item:\n",
    "        if word in bad_words:\n",
    "            k+=1\n",
    "    return k\n",
    "\n",
    "def good_review_score(item):\n",
    "    k=0\n",
    "    for word in item:\n",
    "        if word in good_words:\n",
    "            k+=1\n",
    "    return k"
   ]
  },
  {
   "cell_type": "code",
   "execution_count": 2460,
   "metadata": {
    "scrolled": false
   },
   "outputs": [],
   "source": [
    "df['bad_review_score'] = df['Reviews'].apply(bad_review_score)\n",
    "df['good_review_score'] = df['Reviews'].apply(good_review_score)\n"
   ]
  },
  {
   "cell_type": "markdown",
   "metadata": {},
   "source": [
    "Визуализируем данные"
   ]
  },
  {
   "cell_type": "code",
   "execution_count": 2461,
   "metadata": {
    "scrolled": false
   },
   "outputs": [
    {
     "data": {
      "text/plain": [
       "<matplotlib.axes._subplots.AxesSubplot at 0x1da1ad5c220>"
      ]
     },
     "execution_count": 2461,
     "metadata": {},
     "output_type": "execute_result"
    },
    {
     "data": {
      "image/png": "[encoded data removed]",
      "text/plain": [
       "<Figure size 1080x720 with 1 Axes>"
      ]
     },
     "metadata": {},
     "output_type": "display_data"
    }
   ],
   "source": [
    "#Видно что большинство заведений смещены к наименьшему рейтингу,т.к. не везде есть так много рестаранов,\n",
    "# и может быть в сборе данных были допущены какие-то ошибки, и проставились не те числа\n",
    "sns.distplot(df['Ranking'], kde=False, bins=100)"
   ]
  },
  {
   "cell_type": "code",
   "execution_count": 2462,
   "metadata": {},
   "outputs": [
    {
     "data": {
      "text/plain": [
       "<matplotlib.axes._subplots.AxesSubplot at 0x1da07fb8850>"
      ]
     },
     "execution_count": 2462,
     "metadata": {},
     "output_type": "execute_result"
    },
    {
     "data": {
      "image/png": "[encoded data removed]",
      "text/plain": [
       "<Figure size 1080x720 with 1 Axes>"
      ]
     },
     "metadata": {},
     "output_type": "display_data"
    }
   ],
   "source": [
    "#Из графика видно, что очень мало заведений с низкой оценкой\n",
    "sns.distplot(df['Rating'], kde=False, bins=12)"
   ]
  },
  {
   "cell_type": "code",
   "execution_count": 2463,
   "metadata": {
    "scrolled": false
   },
   "outputs": [
    {
     "data": {
      "text/plain": [
       "<matplotlib.axes._subplots.AxesSubplot at 0x1da07f9bc40>"
      ]
     },
     "execution_count": 2463,
     "metadata": {},
     "output_type": "execute_result"
    },
    {
     "data": {
      "image/png": "[encoded data removed]",
      "text/plain": [
       "<Figure size 1080x720 with 1 Axes>"
      ]
     },
     "metadata": {},
     "output_type": "display_data"
    }
   ],
   "source": [
    "#Видно, что кол-во одинаковых городов в таблице меньше, чем самые большие числа в признаке Ranking,\n",
    "# скорее всего, взяли просто не все заведения, которые есть из городов,\n",
    "df['City'].value_counts(ascending=True).plot(kind='barh')"
   ]
  },
  {
   "cell_type": "markdown",
   "metadata": {},
   "source": [
    "Глянем подробнее на признак Ranking"
   ]
  },
  {
   "cell_type": "code",
   "execution_count": 2464,
   "metadata": {},
   "outputs": [
    {
     "data": {
      "image/png": "[encoded data removed]",
      "text/plain": [
       "<Figure size 1080x720 with 1 Axes>"
      ]
     },
     "metadata": {},
     "output_type": "display_data"
    }
   ],
   "source": [
    "for x in (df['City'].value_counts())[0:10].index:\n",
    "    df['Ranking'][df['City'] == x].hist(bins=100)\n"
   ]
  },
  {
   "cell_type": "markdown",
   "metadata": {},
   "source": [
    "Впринципе всё распределено нормально, чем больше одного города в датасете, тем больше Ranking."
   ]
  },
  {
   "cell_type": "code",
   "execution_count": 2465,
   "metadata": {
    "scrolled": false
   },
   "outputs": [
    {
     "data": {
      "text/plain": [
       "<matplotlib.axes._subplots.AxesSubplot at 0x1da08045a00>"
      ]
     },
     "execution_count": 2465,
     "metadata": {},
     "output_type": "execute_result"
    },
    {
     "data": {
      "image/png": "[encoded data removed]",
      "text/plain": [
       "<Figure size 1080x720 with 2 Axes>"
      ]
     },
     "metadata": {},
     "output_type": "display_data"
    }
   ],
   "source": [
    "sns.heatmap(df.corr())"
   ]
  },
  {
   "cell_type": "markdown",
   "metadata": {},
   "source": [
    "Из тепловой карты видно, сильнее всего выделяются признаки Price Range - Price Range NAN, number_of_cuisines - top_10_cuisines,\n",
    "Ranking-Restaurant_id"
   ]
  },
  {
   "cell_type": "markdown",
   "metadata": {},
   "source": [
    "Соберём координаты каждого заведения в датасете"
   ]
  },
  {
   "cell_type": "code",
   "execution_count": 2466,
   "metadata": {},
   "outputs": [],
   "source": [
    "from multiprocessing.dummy import Pool as ThreadPool # Чтобы использовать несколько потоков при парсинге.\n",
    "def get_coords(url):\n",
    "    '''Принимает html страницу, переводит в str и находит координаты,\n",
    "    затем выводит список из двух элементов [ширина,долгота]'''\n",
    "    print(url)\n",
    "    url = 'https://www.tripadvisor.ru' + url\n",
    "    pattern = re.compile('coords\".?.?\\d+.?\\d+.?.?\\d+.?\\d+')\n",
    "    response = requests.get(url, headers={'User-Agent': UserAgent().chrome}).text\n",
    "    page = Bs(response,'html.parser')\n",
    "    if len(page.find_all('div', id=\"RESTAURANT_SEARCH_BTN\"))==0:\n",
    "        try:\n",
    "            return pattern.findall(str(page))[0]\n",
    "        except indexError:\n",
    "            return url\n",
    "    else: \n",
    "        return nan"
   ]
  },
  {
   "cell_type": "code",
   "execution_count": 2467,
   "metadata": {},
   "outputs": [],
   "source": [
    "# Прочтём координаты из файла, который записали ранее в другом ноутбуке, запишем в список\n",
    "coords = []\n",
    "f = open('coords.txt', 'r')\n",
    "for line in f:\n",
    "    coords.append(line[:-1])\n",
    "f.close()"
   ]
  },
  {
   "cell_type": "code",
   "execution_count": 2468,
   "metadata": {},
   "outputs": [
    {
     "name": "stdout",
     "output_type": "stream",
     "text": [
      "Записали координаты: Paris\n",
      "Записали координаты: Stockholm\n",
      "Записали координаты: London\n",
      "Записали координаты: Berlin\n",
      "Записали координаты: Munich\n",
      "Записали координаты: Oporto\n",
      "Записали координаты: Milan\n",
      "Записали координаты: Bratislava\n",
      "Записали координаты: Vienna\n",
      "Записали координаты: Rome\n",
      "Записали координаты: Barcelona\n",
      "Записали координаты: Madrid\n",
      "Записали координаты: Dublin\n",
      "Записали координаты: Brussels\n",
      "Записали координаты: Zurich\n",
      "Записали координаты: Warsaw\n",
      "Записали координаты: Budapest\n",
      "Записали координаты: Copenhagen\n",
      "Записали координаты: Amsterdam\n",
      "Записали координаты: Lyon\n",
      "Записали координаты: Hamburg\n",
      "Записали координаты: Lisbon\n",
      "Записали координаты: Prague\n",
      "Записали координаты: Oslo\n",
      "Записали координаты: Helsinki\n",
      "Записали координаты: Edinburgh\n",
      "Записали координаты: Geneva\n",
      "Записали координаты: Ljubljana\n",
      "Записали координаты: Athens\n",
      "Записали координаты: Luxembourg\n",
      "Записали координаты: Krakow\n"
     ]
    }
   ],
   "source": [
    "# используя класс geopy, найдём координы всех городов, которые встречаются в датасете.\n",
    "# запишем данные в словарь, где ключ - это город, а координаты - значение.\n",
    "\n",
    "coords_dict = {}\n",
    "geolocator = Nominatim(user_agent=\"geoapiExercises\")\n",
    "\n",
    "for city in df['City'].unique():\n",
    "    print('Записали координаты:',city)\n",
    "    location = geolocator.geocode(city)\n",
    "    coords_dict[city] = (location.latitude, location.longitude)"
   ]
  },
  {
   "cell_type": "code",
   "execution_count": 2469,
   "metadata": {},
   "outputs": [],
   "source": [
    "#с помощью pd.Series.map создадаим признак, с координатами городов\n",
    "df['Coord_city'] = df['City'].map(coords_dict)"
   ]
  },
  {
   "cell_type": "code",
   "execution_count": 2470,
   "metadata": {},
   "outputs": [],
   "source": [
    "df['Coord_restaurant'] = coords"
   ]
  },
  {
   "cell_type": "code",
   "execution_count": 2471,
   "metadata": {},
   "outputs": [],
   "source": [
    "#Исправим ошибки в стоках и обработаем их для нужного нам формата\n",
    "def coords_to_float(item):\n",
    "    try:\n",
    "        if item=='NAN':\n",
    "            return nan\n",
    "        elif 'coords\":\"' in item:\n",
    "            item = item.replace('coords\":\"','')\n",
    "            return item\n",
    "        elif '[' in item:\n",
    "            return item.replace('[','').replace(']','')[1:-1]\n",
    "        elif item=='52 27m 22.9212s N, 13 24m 1.27898e-12s E':\n",
    "            return '52.4504748,13.3699209'\n",
    "    \n",
    "        elif item=='nan':\n",
    "            return nan\n",
    "        else: return item.replace('(','').replace(')','')\n",
    "    except:\n",
    "        return nan"
   ]
  },
  {
   "cell_type": "code",
   "execution_count": 2472,
   "metadata": {},
   "outputs": [],
   "source": [
    "df['Coord_restaurant'] = df['Coord_restaurant'].apply(coords_to_float)"
   ]
  },
  {
   "cell_type": "markdown",
   "metadata": {},
   "source": [
    "В столбце Coord_restaurant пропуски из-за того, что ссылки были даны не на ресторан, а на список из нескольких ресторанов, поэтому координаты было никак не взять."
   ]
  },
  {
   "cell_type": "code",
   "execution_count": 2473,
   "metadata": {},
   "outputs": [],
   "source": [
    "# найдём расстояния для ненулевых строк в км.\n",
    "distance_list = []\n",
    "for index in range(0,df.shape[0]):\n",
    "    if (type(df.loc[index,'Coord_restaurant'])==tuple) or (type(df.loc[index,'Coord_restaurant'])==str):\n",
    "        pt1 = geopy.Point(df.loc[index,'Coord_city'])\n",
    "        pt2 = geopy.Point(df.loc[index,'Coord_restaurant'])\n",
    "        distance_list.append(geopy.distance.distance(pt1, pt2).km)\n",
    "    elif (type(df.loc[index,'Coord_restaurant'])==float):\n",
    "        distance_list.append(nan)"
   ]
  },
  {
   "cell_type": "code",
   "execution_count": 2474,
   "metadata": {},
   "outputs": [],
   "source": [
    "df['Distance'] = distance_list"
   ]
  },
  {
   "cell_type": "markdown",
   "metadata": {},
   "source": [
    "Заменим пропуски в Distance на среднее"
   ]
  },
  {
   "cell_type": "code",
   "execution_count": 2475,
   "metadata": {},
   "outputs": [
    {
     "data": {
      "text/plain": [
       "6759.376360550523"
      ]
     },
     "execution_count": 2475,
     "metadata": {},
     "output_type": "execute_result"
    }
   ],
   "source": [
    "# В столбце есть выбросы, это связано, с тем, что при парсинге координат, у записей на сайте не было структуры,\n",
    "# поэтому собирались другие координаты, следовательно некоторые значения получились такими.\n",
    "df['Distance'].max()"
   ]
  },
  {
   "cell_type": "code",
   "execution_count": 2487,
   "metadata": {
    "scrolled": true
   },
   "outputs": [
    {
     "data": {
      "text/html": [
       "<div>\n",
       "<style scoped>\n",
       "    .dataframe tbody tr th:only-of-type {\n",
       "        vertical-align: middle;\n",
       "    }\n",
       "\n",
       "    .dataframe tbody tr th {\n",
       "        vertical-align: top;\n",
       "    }\n",
       "\n",
       "    .dataframe thead th {\n",
       "        text-align: right;\n",
       "    }\n",
       "</style>\n",
       "<table border=\"1\" class=\"dataframe\">\n",
       "  <thead>\n",
       "    <tr style=\"text-align: right;\">\n",
       "      <th></th>\n",
       "      <th>Restaurant_id</th>\n",
       "      <th>City</th>\n",
       "      <th>Cuisine Style</th>\n",
       "      <th>Ranking</th>\n",
       "      <th>Rating</th>\n",
       "      <th>Price Range</th>\n",
       "      <th>Number of Reviews</th>\n",
       "      <th>Reviews</th>\n",
       "      <th>URL_TA</th>\n",
       "      <th>ID_TA</th>\n",
       "      <th>Number of Reviews NAN</th>\n",
       "      <th>Price Range NAN</th>\n",
       "      <th>code_city</th>\n",
       "      <th>Cuisine Style NAN</th>\n",
       "      <th>number_of_cuisines</th>\n",
       "      <th>date</th>\n",
       "      <th>diff_date</th>\n",
       "      <th>days_from_now</th>\n",
       "      <th>bad_review_score</th>\n",
       "      <th>good_review_score</th>\n",
       "      <th>Coord_city</th>\n",
       "      <th>Coord_restaurant</th>\n",
       "      <th>Distance</th>\n",
       "      <th>squares</th>\n",
       "    </tr>\n",
       "  </thead>\n",
       "  <tbody>\n",
       "    <tr>\n",
       "      <th>8756</th>\n",
       "      <td>12626.0</td>\n",
       "      <td>Paris</td>\n",
       "      <td>[French]</td>\n",
       "      <td>12628.0</td>\n",
       "      <td>3.0</td>\n",
       "      <td>0.0</td>\n",
       "      <td>0.0</td>\n",
       "      <td>[not, good!]</td>\n",
       "      <td>/Restaurant_Review-g187147-d5928000-Reviews-Ch...</td>\n",
       "      <td>5928000</td>\n",
       "      <td>1</td>\n",
       "      <td>1</td>\n",
       "      <td>187147.0</td>\n",
       "      <td>0</td>\n",
       "      <td>1</td>\n",
       "      <td>[08/11/2017]</td>\n",
       "      <td>0.0</td>\n",
       "      <td>1293.0</td>\n",
       "      <td>0</td>\n",
       "      <td>0</td>\n",
       "      <td>(48.8566969, 2.3514616)</td>\n",
       "      <td>16 14m 40.308s N, 61 32m 0.744s W</td>\n",
       "      <td>6759.376361</td>\n",
       "      <td>105.4</td>\n",
       "    </tr>\n",
       "  </tbody>\n",
       "</table>\n",
       "</div>"
      ],
      "text/plain": [
       "      Restaurant_id   City Cuisine Style  Ranking  Rating  Price Range  \\\n",
       "8756        12626.0  Paris      [French]  12628.0     3.0          0.0   \n",
       "\n",
       "      Number of Reviews       Reviews  \\\n",
       "8756                0.0  [not, good!]   \n",
       "\n",
       "                                                 URL_TA    ID_TA  \\\n",
       "8756  /Restaurant_Review-g187147-d5928000-Reviews-Ch...  5928000   \n",
       "\n",
       "      Number of Reviews NAN  Price Range NAN  code_city  Cuisine Style NAN  \\\n",
       "8756                      1                1   187147.0                  0   \n",
       "\n",
       "      number_of_cuisines          date  diff_date  days_from_now  \\\n",
       "8756                   1  [08/11/2017]        0.0         1293.0   \n",
       "\n",
       "      bad_review_score  good_review_score               Coord_city  \\\n",
       "8756                 0                  0  (48.8566969, 2.3514616)   \n",
       "\n",
       "                       Coord_restaurant     Distance  squares  \n",
       "8756  16 14m 40.308s N, 61 32m 0.744s W  6759.376361    105.4  "
      ]
     },
     "execution_count": 2487,
     "metadata": {},
     "output_type": "execute_result"
    }
   ],
   "source": [
    "df[df['Distance']==df['Distance'].max()]"
   ]
  },
  {
   "cell_type": "markdown",
   "metadata": {},
   "source": [
    "я перешёл на гугл карты, которые были указаны на странице заведения. И там видимо была какая-то ошибка, т.к. в таблице указан Париж, а геолокация показывает остров рядом с Доминикана, т.к. удалять значения нельзя, я заменю все слишком большие значение на среднее."
   ]
  },
  {
   "cell_type": "markdown",
   "metadata": {},
   "source": [
    "Создадим словарь с площадями городов, если Distance будет больше площади города, то это 100% ошибка, посмотрим сколько таких ошибок"
   ]
  },
  {
   "cell_type": "code",
   "execution_count": 2477,
   "metadata": {},
   "outputs": [
    {
     "data": {
      "text/plain": [
       "['Paris',\n",
       " 'Stockholm',\n",
       " 'London',\n",
       " 'Berlin',\n",
       " 'Munich',\n",
       " 'Oporto',\n",
       " 'Milan',\n",
       " 'Bratislava',\n",
       " 'Vienna',\n",
       " 'Rome',\n",
       " 'Barcelona',\n",
       " 'Madrid',\n",
       " 'Dublin',\n",
       " 'Brussels',\n",
       " 'Zurich',\n",
       " 'Warsaw',\n",
       " 'Budapest',\n",
       " 'Copenhagen',\n",
       " 'Amsterdam',\n",
       " 'Lyon',\n",
       " 'Hamburg',\n",
       " 'Lisbon',\n",
       " 'Prague',\n",
       " 'Oslo',\n",
       " 'Helsinki',\n",
       " 'Edinburgh',\n",
       " 'Geneva',\n",
       " 'Ljubljana',\n",
       " 'Athens',\n",
       " 'Luxembourg',\n",
       " 'Krakow']"
      ]
     },
     "execution_count": 2477,
     "metadata": {},
     "output_type": "execute_result"
    }
   ],
   "source": [
    "df['City'].unique().tolist()"
   ]
  },
  {
   "cell_type": "code",
   "execution_count": 2478,
   "metadata": {},
   "outputs": [],
   "source": [
    "list_of_sq = [105.4,188,1572,891.8,310,41.42,181.8,367.6,414.6,1285,101.9,604.3,117.8,\n",
    "              32.61,87.88,517.2,525.5,88.25,219.3,47.87,755.2,100,\n",
    "                496,454,213.8,264,15.93,163.8,38.96,2586,327]"
   ]
  },
  {
   "cell_type": "code",
   "execution_count": 2479,
   "metadata": {},
   "outputs": [],
   "source": [
    "squares_dict = {}\n",
    "k=0\n",
    "for city in df['City'].unique().tolist():\n",
    "    squares_dict[city]=list_of_sq[k]\n",
    "    k+=1"
   ]
  },
  {
   "cell_type": "code",
   "execution_count": 2480,
   "metadata": {},
   "outputs": [],
   "source": [
    "df['squares'] = df['City'].map(squares_dict)"
   ]
  },
  {
   "cell_type": "code",
   "execution_count": 2491,
   "metadata": {
    "scrolled": true
   },
   "outputs": [
    {
     "data": {
      "text/plain": [
       "(13, 24)"
      ]
     },
     "execution_count": 2491,
     "metadata": {},
     "output_type": "execute_result"
    }
   ],
   "source": [
    "df[df['Distance']>df['squares']].shape"
   ]
  },
  {
   "cell_type": "markdown",
   "metadata": {},
   "source": [
    "заменим их на mean"
   ]
  },
  {
   "cell_type": "code",
   "execution_count": 2494,
   "metadata": {},
   "outputs": [],
   "source": [
    "for i in df[df['Distance']>df['squares']].index.tolist():\n",
    "    df.loc[i,'Distance'] = df['Distance'].mean()"
   ]
  },
  {
   "cell_type": "code",
   "execution_count": 2495,
   "metadata": {
    "scrolled": false
   },
   "outputs": [
    {
     "data": {
      "text/plain": [
       "3.878734744669208"
      ]
     },
     "execution_count": 2495,
     "metadata": {},
     "output_type": "execute_result"
    }
   ],
   "source": [
    "df['Distance'].mean()"
   ]
  },
  {
   "cell_type": "markdown",
   "metadata": {},
   "source": [
    "Заменим пропуски на mean"
   ]
  },
  {
   "cell_type": "code",
   "execution_count": 2496,
   "metadata": {},
   "outputs": [],
   "source": [
    "df[df['Distance'].isna()] = df[df['Distance'].isna()].fillna(df['Distance'].mean())"
   ]
  },
  {
   "cell_type": "code",
   "execution_count": 2497,
   "metadata": {
    "collapsed": true
   },
   "outputs": [
    {
     "data": {
      "text/plain": [
       "<matplotlib.axes._subplots.AxesSubplot at 0x1da86e72970>"
      ]
     },
     "execution_count": 2497,
     "metadata": {},
     "output_type": "execute_result"
    },
    {
     "data": {
      "image/png": "[encoded data removed]",
      "text/plain": [
       "<Figure size 1080x720 with 1 Axes>"
      ]
     },
     "metadata": {},
     "output_type": "display_data"
    }
   ],
   "source": [
    "df['Distance'].plot()"
   ]
  },
  {
   "cell_type": "code",
   "execution_count": 2499,
   "metadata": {},
   "outputs": [],
   "source": [
    "# признак население (по информации из Википедии)\n",
    "\n",
    "population = {\n",
    "    'London' : 8909081,\n",
    "    'Paris' : 2148271,\n",
    "    'Madrid' : 3223334,\n",
    "    'Barcelona' : 1620343,\n",
    "    'Berlin' : 3769495,\n",
    "    'Milan' : 1399860,\n",
    "    'Rome' : 2860009,\n",
    "    'Prague' : 1324277,\n",
    "    'Lisbon' : 505526,\n",
    "    'Vienna' : 2600000,\n",
    "    'Amsterdam' : 872680,\n",
    "    'Brussels' : 1208542,\n",
    "    'Hamburg' : 1845229,\n",
    "    'Munich' : 1484226,\n",
    "    'Lyon' : 516092,\n",
    "    'Stockholm' : 975904,\n",
    "    'Budapest' : 1752286,\n",
    "    'Warsaw' : 1793579,\n",
    "    'Dublin' : 554554,\n",
    "    'Copenhagen' : 794128,\n",
    "    'Athens' : 664046,\n",
    "    'Edinburgh' : 488050, \n",
    "    'Zurich' : 415215,\n",
    "    'Oporto' : 287591,\n",
    "    'Geneva' : 201818, \n",
    "    'Krakow' : 779115, \n",
    "    'Oslo' : 697549, \n",
    "    'Helsinki' : 656229,\n",
    "    'Bratislava' : 437726,\n",
    "    'Luxembourg' : 626108,\n",
    "    'Ljubljana' : 295504\n",
    "}\n",
    "\n",
    "df['population'] = df.City.map(population)\n"
   ]
  },
  {
   "cell_type": "code",
   "execution_count": 2500,
   "metadata": {},
   "outputs": [],
   "source": [
    "# Признак - индекс покупательской способности согласно рейтингу Numbeo (2018)\n",
    "\n",
    "purchasing_power_index = {\n",
    "    'London' : 24,\n",
    "    'Paris' : 22,\n",
    "    'Madrid' : 23,\n",
    "    'Barcelona' : 30,\n",
    "    'Berlin' : 8,\n",
    "    'Milan' : 40,\n",
    "    'Rome' : 37,\n",
    "    'Prague' : 31,\n",
    "    'Lisbon' : 48,\n",
    "    'Vienna' : 21,\n",
    "    'Amsterdam' : 19,\n",
    "    'Brussels' : 15,\n",
    "    'Hamburg' : 7,\n",
    "    'Munich' : 6,\n",
    "    'Lyon' : 70,\n",
    "    'Stockholm' : 13,\n",
    "    'Budapest' : 51,\n",
    "    'Warsaw' : 29,\n",
    "    'Dublin' : 27,\n",
    "    'Copenhagen' : 10,\n",
    "    'Athens' : 53,\n",
    "    'Edinburgh' : 16, \n",
    "    'Zurich' : 2,\n",
    "    'Oporto' : 42,\n",
    "    'Geneva' : 3, \n",
    "    'Krakow' : 36, \n",
    "    'Oslo' : 17, \n",
    "    'Helsinki' : 9,\n",
    "    'Bratislava' : 39,\n",
    "    'Luxembourg' : 4,\n",
    "    'Ljubljana' : 32\n",
    "}\n",
    "\n",
    "df['purchasing_power'] = df.City.map(purchasing_power_index)\n"
   ]
  },
  {
   "cell_type": "code",
   "execution_count": 2501,
   "metadata": {},
   "outputs": [],
   "source": [
    "# Добавим признак кол-ва ресторанов в городе\n",
    "\n",
    "number_of_rest_city = df.groupby('City')['Ranking'].count().to_dict()\n",
    "df['rest_city_count'] = df.City.map(number_of_rest_city)"
   ]
  },
  {
   "cell_type": "code",
   "execution_count": 2502,
   "metadata": {},
   "outputs": [],
   "source": [
    "# Добавим признак относительного ранга ресторана по городу\n",
    "\n",
    "df['city_ranking'] = df.Ranking / df.rest_city_count"
   ]
  },
  {
   "cell_type": "code",
   "execution_count": 2503,
   "metadata": {},
   "outputs": [],
   "source": [
    "# ранг ресторана на основании кол-ва отзывов\n",
    "\n",
    "df['ranking_rev_count'] = df.Ranking * df['Number of Reviews']"
   ]
  },
  {
   "cell_type": "code",
   "execution_count": 2504,
   "metadata": {},
   "outputs": [],
   "source": [
    "# соотношение кол-ва отзывов и населения города\n",
    "\n",
    "df['reviews_per_city_pop'] = df['Number of Reviews'] / df.population"
   ]
  },
  {
   "cell_type": "code",
   "execution_count": 2505,
   "metadata": {},
   "outputs": [],
   "source": [
    "# Максимальный ранг\n",
    "\n",
    "ranking_max_per_city = df.groupby('City')['Ranking'].max()\n",
    "df['rating_max_per_city'] = df.City.map(ranking_max_per_city)"
   ]
  },
  {
   "cell_type": "code",
   "execution_count": 2506,
   "metadata": {},
   "outputs": [],
   "source": [
    "# Добавим признак туристическая привлекательность\n",
    "tourist_attract = {\n",
    "    'London' : 1,\n",
    "    'Paris' : 1,\n",
    "    'Madrid' : 2,\n",
    "    'Barcelona' : 2,\n",
    "    'Berlin' : 2,\n",
    "    'Milan' : 5,\n",
    "    'Rome' : 1,\n",
    "    'Prague' : 1,\n",
    "    'Lisbon' : 3,\n",
    "    'Vienna' : 2,\n",
    "    'Amsterdam' : 1,\n",
    "    'Brussels' : 3,\n",
    "    'Hamburg' : 5,\n",
    "    'Munich' : 3,\n",
    "    'Lyon' : 5,\n",
    "    'Stockholm' : 4,\n",
    "    'Budapest' : 3,\n",
    "    'Warsaw' : 3,\n",
    "    'Dublin' : 5,\n",
    "    'Copenhagen' : 3,\n",
    "    'Athens' : 2,\n",
    "    'Edinburgh' : 5, \n",
    "    'Zurich' : 5,\n",
    "    'Oporto' : 4,\n",
    "    'Geneva' : 5, \n",
    "    'Krakow' : 3, \n",
    "    'Oslo' : 5, \n",
    "    'Helsinki' : 5,\n",
    "    'Bratislava' : 5,\n",
    "    'Luxembourg' : 5,\n",
    "    'Ljubljana' : 5\n",
    "}\n",
    "\n",
    "df['tourist_attract'] = df.City.map(tourist_attract)"
   ]
  },
  {
   "cell_type": "code",
   "execution_count": 2507,
   "metadata": {
    "scrolled": true
   },
   "outputs": [],
   "source": [
    "df = pd.get_dummies(df,columns=['Price Range','City'])\n"
   ]
  },
  {
   "cell_type": "code",
   "execution_count": 2508,
   "metadata": {},
   "outputs": [],
   "source": [
    "#Признаки 'Cuisine Style NAN','bad_review_score','squares' ухудшили MAE"
   ]
  },
  {
   "cell_type": "code",
   "execution_count": 2509,
   "metadata": {},
   "outputs": [],
   "source": [
    "X = df[['city_ranking', 'ranking_rev_count', 'Number of Reviews',\n",
    "       'ID_TA','Ranking','days_from_now','Distance','reviews_per_city_pop','City_Barcelona', \n",
    "        'diff_date','Price Range_0.0', 'Price Range_1.0','code_city',\n",
    "        'purchasing_power','rating_max_per_city','good_review_score',\n",
    "        'Price Range_2.0', 'Price Range_3.0','tourist_attract','population',\n",
    "        'City_Berlin', 'City_Bratislava', 'City_Brussels','rest_city_count',\n",
    "        'City_Budapest', 'City_Copenhagen', 'City_Dublin', 'City_Edinburgh',\n",
    "        'City_Geneva', 'City_Hamburg', 'City_Helsinki', 'City_Krakow',\n",
    "        'City_Lisbon', 'City_Ljubljana', 'City_London', 'City_Luxembourg',\n",
    "        'City_Lyon', 'City_Madrid', 'City_Milan', 'City_Munich', 'City_Oporto',\n",
    "        'City_Oslo', 'City_Paris', 'City_Prague', 'City_Rome', 'City_Stockholm',\n",
    "        'City_Vienna', 'City_Warsaw', 'City_Zurich','City_Amsterdam', 'City_Athens']]\n",
    "y = df['Rating']"
   ]
  },
  {
   "cell_type": "code",
   "execution_count": 2523,
   "metadata": {},
   "outputs": [],
   "source": [
    "X_train, X_test, y_train, y_test = train_test_split(X,y,test_size = 0.2)\n",
    "regr = RandomForestRegressor(n_estimators = 100)\n",
    "regr.fit(X_train, y_train)\n",
    "y_pred = regr.predict(X_test)"
   ]
  },
  {
   "cell_type": "code",
   "execution_count": 2524,
   "metadata": {},
   "outputs": [
    {
     "name": "stdout",
     "output_type": "stream",
     "text": [
      "MAE: 0.19714874999999998\n"
     ]
    }
   ],
   "source": [
    "print('MAE:', metrics.mean_absolute_error(y_test, y_pred))"
   ]
  },
  {
   "cell_type": "code",
   "execution_count": 2512,
   "metadata": {
    "scrolled": false
   },
   "outputs": [
    {
     "data": {
      "text/plain": [
       "<matplotlib.axes._subplots.AxesSubplot at 0x1da8822a880>"
      ]
     },
     "execution_count": 2512,
     "metadata": {},
     "output_type": "execute_result"
    },
    {
     "data": {
      "image/png": "[encoded data removed]",
      "text/plain": [
       "<Figure size 1080x720 with 1 Axes>"
      ]
     },
     "metadata": {},
     "output_type": "display_data"
    }
   ],
   "source": [
    "(pd.Series(regr.feature_importances_, index=X.columns)\n",
    "   .nlargest(35)\n",
    "   .plot(kind='barh')) "
   ]
  },
  {
   "cell_type": "code",
   "execution_count": 2513,
   "metadata": {},
   "outputs": [],
   "source": [
    "# В ходе работы было использовано много сторонних данных, местоположения ресторанов, добавили новые кухни, так же\n",
    "# добавили статистические данные из интернета"
   ]
  }
 ],
 "metadata": {
  "kernelspec": {
   "display_name": "Python 3",
   "language": "python",
   "name": "python3"
  },
  "language_info": {
   "codemirror_mode": {
    "name": "ipython",
    "version": 3
   },
   "file_extension": ".py",
   "mimetype": "text/x-python",
   "name": "python",
   "nbconvert_exporter": "python",
   "pygments_lexer": "ipython3",
   "version": "3.8.3"
  }
 },
 "nbformat": 4,
 "nbformat_minor": 4
}
