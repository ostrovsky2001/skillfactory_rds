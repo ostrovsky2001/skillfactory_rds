{
 "cells": [
  {
   "cell_type": "code",
   "execution_count": null,
   "metadata": {},
   "outputs": [],
   "source": [
    "import numpy as np\n",
    "\n",
    "def game_core_v2(number):\n",
    "    '''Сначала создаём границы рандомного числа, т.к. рандомное число, от 1 до 100,\n",
    "то left_border = 1;right_border = 100.\n",
    "       Далее используем алгоритм бинарного поиска, благодаря этому способу,\n",
    "количество попыток не будет превышать 7.\n",
    "       Данная функция возвращает количество попыток'''\n",
    "    left_border=1 # левая граница\n",
    "    right_border=100 # правая граница\n",
    "    count=0 # переменная счетчика попыток\n",
    "    \n",
    "    while True: # бесконечный цикл бинарного поиска\n",
    "        count += 1\n",
    "        predict=(right_border+left_border)//2\n",
    "        if predict == number:\n",
    "            break # выход из цикла, если угадали\n",
    "        elif predict > number:\n",
    "            right_border = predict - 1\n",
    "        elif predict < number:\n",
    "            left_border = predict + 1\n",
    "\n",
    "    return(count)\n",
    "\n",
    "\n",
    "def score_game(game_core):\n",
    "    '''Запускаем игру 1000 раз, чтобы узнать, как быстро в среднем игра угадывает число.'''\n",
    "    count_ls = [] # список количеств попыток\n",
    "    np.random.seed(1)  # фиксируем RANDOM SEED, чтобы эксперимент был воспроизводим!\n",
    "    random_array = np.random.randint(1,101, size=(1000))\n",
    "    \n",
    "    for number in random_array:\n",
    "        count_ls.append(game_core(number))\n",
    "        \n",
    "    score = int(np.mean(count_ls))\n",
    "    print(f\"Ваш алгоритм угадывает число в среднем за {score} попыток\")\n",
    "\n",
    "score_game(game_core_v2)"
   ]
  }
 ],
 "metadata": {
  "kernelspec": {
   "display_name": "Python 3",
   "language": "python",
   "name": "python3"
  },
  "language_info": {
   "codemirror_mode": {
    "name": "ipython",
    "version": 3
   },
   "file_extension": ".py",
   "mimetype": "text/x-python",
   "name": "python",
   "nbconvert_exporter": "python",
   "pygments_lexer": "ipython3",
   "version": "3.8.3"
  }
 },
 "nbformat": 4,
 "nbformat_minor": 4
}
