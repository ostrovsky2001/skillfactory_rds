{
 "cells": [
  {
   "cell_type": "code",
   "execution_count": 1,
   "metadata": {
    "_cell_guid": "b1076dfc-b9ad-4769-8c92-a6c4dae69d19",
    "_uuid": "8f2839f25d086af736a60e9eeb907d3b93b6e0e5",
    "execution": {
     "iopub.execute_input": "2021-04-28T18:23:16.195092Z",
     "iopub.status.busy": "2021-04-28T18:23:16.193972Z",
     "iopub.status.idle": "2021-04-28T18:23:16.207704Z",
     "shell.execute_reply": "2021-04-28T18:23:16.208198Z"
    },
    "papermill": {
     "duration": 0.098772,
     "end_time": "2021-04-28T18:23:16.208464",
     "exception": false,
     "start_time": "2021-04-28T18:23:16.109692",
     "status": "completed"
    },
    "tags": []
   },
   "outputs": [],
   "source": [
    "# This Python 3 environment comes with many helpful analytics libraries installed\n",
    "# It is defined by the kaggle/python Docker image: https://github.com/kaggle/docker-python\n",
    "# For example, here's several helpful packages to load\n",
    "\n",
    "import numpy as np # linear algebra\n",
    "import pandas as pd # data processing, CSV file I/O (e.g. pd.read_csv)\n",
    "\n",
    "# Input data files are available in the read-only \"../input/\" directory\n",
    "# For example, running this (by clicking run or pressing Shift+Enter) will list all files under the input directory\n",
    "\n",
    "import os\n",
    "for dirname, _, filenames in os.walk('/kaggle/input'):\n",
    "    for filename in filenames:\n",
    "        print(os.path.join(dirname, filename))\n",
    "\n",
    "# You can write up to 20GB to the current directory (/kaggle/working/) that gets preserved as output when you create a version using \"Save & Run All\" \n",
    "# You can also write temporary files to /kaggle/temp/, but they won't be saved outside of the current session"
   ]
  },
  {
   "cell_type": "code",
   "execution_count": 2,
   "metadata": {
    "execution": {
     "iopub.execute_input": "2021-04-28T18:23:16.365284Z",
     "iopub.status.busy": "2021-04-28T18:23:16.364494Z",
     "iopub.status.idle": "2021-04-28T18:23:17.652791Z",
     "shell.execute_reply": "2021-04-28T18:23:17.653330Z"
    },
    "papermill": {
     "duration": 1.370366,
     "end_time": "2021-04-28T18:23:17.653499",
     "exception": false,
     "start_time": "2021-04-28T18:23:16.283133",
     "status": "completed"
    },
    "tags": []
   },
   "outputs": [],
   "source": [
    "from pandas import Series\n",
    "import pandas as pd\n",
    "import numpy as np\n",
    "import datetime\n",
    "from scipy.stats import iqr\n",
    "\n",
    "import matplotlib.pyplot as plt\n",
    "import seaborn as sns\n",
    "\n",
    "from sklearn.feature_selection import f_classif, mutual_info_classif\n",
    "from sklearn.preprocessing import LabelEncoder, OneHotEncoder, StandardScaler\n",
    "\n",
    "from sklearn.model_selection import train_test_split, RandomizedSearchCV\n",
    "from sklearn.linear_model import LogisticRegression\n",
    "\n",
    "\n",
    "from sklearn.metrics import confusion_matrix, ConfusionMatrixDisplay, accuracy_score, f1_score, precision_score, recall_score\n",
    "from sklearn.metrics import auc, roc_auc_score, roc_curve, log_loss"
   ]
  },
  {
   "cell_type": "markdown",
   "metadata": {
    "papermill": {
     "duration": 0.07416,
     "end_time": "2021-04-28T18:23:17.802243",
     "exception": false,
     "start_time": "2021-04-28T18:23:17.728083",
     "status": "completed"
    },
    "tags": []
   },
   "source": [
    "# **Загружаем данные**"
   ]
  },
  {
   "cell_type": "code",
   "execution_count": 6,
   "metadata": {
    "execution": {
     "iopub.execute_input": "2021-04-28T18:23:17.958238Z",
     "iopub.status.busy": "2021-04-28T18:23:17.957199Z",
     "iopub.status.idle": "2021-04-28T18:23:18.298239Z",
     "shell.execute_reply": "2021-04-28T18:23:18.296862Z"
    },
    "papermill": {
     "duration": 0.420102,
     "end_time": "2021-04-28T18:23:18.298407",
     "exception": false,
     "start_time": "2021-04-28T18:23:17.878305",
     "status": "completed"
    },
    "tags": []
   },
   "outputs": [],
   "source": [
    "train = pd.read_csv('train.csv')\n",
    "test = pd.read_csv('test.csv')\n",
    "sample = pd.read_csv('sample_submission.csv')"
   ]
  },
  {
   "cell_type": "code",
   "execution_count": 7,
   "metadata": {
    "execution": {
     "iopub.execute_input": "2021-04-28T18:23:18.457773Z",
     "iopub.status.busy": "2021-04-28T18:23:18.457119Z",
     "iopub.status.idle": "2021-04-28T18:23:18.542119Z",
     "shell.execute_reply": "2021-04-28T18:23:18.542601Z"
    },
    "papermill": {
     "duration": 0.168598,
     "end_time": "2021-04-28T18:23:18.542780",
     "exception": false,
     "start_time": "2021-04-28T18:23:18.374182",
     "status": "completed"
    },
    "tags": []
   },
   "outputs": [
    {
     "data": {
      "text/html": [
       "<div>\n",
       "<style scoped>\n",
       "    .dataframe tbody tr th:only-of-type {\n",
       "        vertical-align: middle;\n",
       "    }\n",
       "\n",
       "    .dataframe tbody tr th {\n",
       "        vertical-align: top;\n",
       "    }\n",
       "\n",
       "    .dataframe thead th {\n",
       "        text-align: right;\n",
       "    }\n",
       "</style>\n",
       "<table border=\"1\" class=\"dataframe\">\n",
       "  <thead>\n",
       "    <tr style=\"text-align: right;\">\n",
       "      <th></th>\n",
       "      <th>client_id</th>\n",
       "      <th>app_date</th>\n",
       "      <th>education</th>\n",
       "      <th>sex</th>\n",
       "      <th>age</th>\n",
       "      <th>car</th>\n",
       "      <th>car_type</th>\n",
       "      <th>decline_app_cnt</th>\n",
       "      <th>good_work</th>\n",
       "      <th>score_bki</th>\n",
       "      <th>bki_request_cnt</th>\n",
       "      <th>region_rating</th>\n",
       "      <th>home_address</th>\n",
       "      <th>work_address</th>\n",
       "      <th>income</th>\n",
       "      <th>sna</th>\n",
       "      <th>first_time</th>\n",
       "      <th>foreign_passport</th>\n",
       "      <th>default</th>\n",
       "      <th>sample</th>\n",
       "    </tr>\n",
       "  </thead>\n",
       "  <tbody>\n",
       "    <tr>\n",
       "      <th>0</th>\n",
       "      <td>25905</td>\n",
       "      <td>01FEB2014</td>\n",
       "      <td>SCH</td>\n",
       "      <td>M</td>\n",
       "      <td>62</td>\n",
       "      <td>Y</td>\n",
       "      <td>Y</td>\n",
       "      <td>0</td>\n",
       "      <td>0</td>\n",
       "      <td>-2.008753</td>\n",
       "      <td>1</td>\n",
       "      <td>50</td>\n",
       "      <td>1</td>\n",
       "      <td>2</td>\n",
       "      <td>18000</td>\n",
       "      <td>4</td>\n",
       "      <td>1</td>\n",
       "      <td>N</td>\n",
       "      <td>0</td>\n",
       "      <td>1</td>\n",
       "    </tr>\n",
       "    <tr>\n",
       "      <th>1</th>\n",
       "      <td>63161</td>\n",
       "      <td>12MAR2014</td>\n",
       "      <td>SCH</td>\n",
       "      <td>F</td>\n",
       "      <td>59</td>\n",
       "      <td>N</td>\n",
       "      <td>N</td>\n",
       "      <td>0</td>\n",
       "      <td>0</td>\n",
       "      <td>-1.532276</td>\n",
       "      <td>3</td>\n",
       "      <td>50</td>\n",
       "      <td>2</td>\n",
       "      <td>3</td>\n",
       "      <td>19000</td>\n",
       "      <td>4</td>\n",
       "      <td>1</td>\n",
       "      <td>N</td>\n",
       "      <td>0</td>\n",
       "      <td>1</td>\n",
       "    </tr>\n",
       "    <tr>\n",
       "      <th>2</th>\n",
       "      <td>25887</td>\n",
       "      <td>01FEB2014</td>\n",
       "      <td>SCH</td>\n",
       "      <td>M</td>\n",
       "      <td>25</td>\n",
       "      <td>Y</td>\n",
       "      <td>N</td>\n",
       "      <td>2</td>\n",
       "      <td>0</td>\n",
       "      <td>-1.408142</td>\n",
       "      <td>1</td>\n",
       "      <td>80</td>\n",
       "      <td>1</td>\n",
       "      <td>2</td>\n",
       "      <td>30000</td>\n",
       "      <td>1</td>\n",
       "      <td>4</td>\n",
       "      <td>Y</td>\n",
       "      <td>0</td>\n",
       "      <td>1</td>\n",
       "    </tr>\n",
       "    <tr>\n",
       "      <th>3</th>\n",
       "      <td>16222</td>\n",
       "      <td>23JAN2014</td>\n",
       "      <td>SCH</td>\n",
       "      <td>F</td>\n",
       "      <td>53</td>\n",
       "      <td>N</td>\n",
       "      <td>N</td>\n",
       "      <td>0</td>\n",
       "      <td>0</td>\n",
       "      <td>-2.057471</td>\n",
       "      <td>2</td>\n",
       "      <td>50</td>\n",
       "      <td>2</td>\n",
       "      <td>3</td>\n",
       "      <td>10000</td>\n",
       "      <td>1</td>\n",
       "      <td>3</td>\n",
       "      <td>N</td>\n",
       "      <td>0</td>\n",
       "      <td>1</td>\n",
       "    </tr>\n",
       "    <tr>\n",
       "      <th>4</th>\n",
       "      <td>101655</td>\n",
       "      <td>18APR2014</td>\n",
       "      <td>GRD</td>\n",
       "      <td>M</td>\n",
       "      <td>48</td>\n",
       "      <td>N</td>\n",
       "      <td>N</td>\n",
       "      <td>0</td>\n",
       "      <td>1</td>\n",
       "      <td>-1.244723</td>\n",
       "      <td>1</td>\n",
       "      <td>60</td>\n",
       "      <td>2</td>\n",
       "      <td>3</td>\n",
       "      <td>30000</td>\n",
       "      <td>1</td>\n",
       "      <td>4</td>\n",
       "      <td>Y</td>\n",
       "      <td>0</td>\n",
       "      <td>1</td>\n",
       "    </tr>\n",
       "  </tbody>\n",
       "</table>\n",
       "</div>"
      ],
      "text/plain": [
       "   client_id   app_date education sex  age car car_type  decline_app_cnt  \\\n",
       "0      25905  01FEB2014       SCH   M   62   Y        Y                0   \n",
       "1      63161  12MAR2014       SCH   F   59   N        N                0   \n",
       "2      25887  01FEB2014       SCH   M   25   Y        N                2   \n",
       "3      16222  23JAN2014       SCH   F   53   N        N                0   \n",
       "4     101655  18APR2014       GRD   M   48   N        N                0   \n",
       "\n",
       "   good_work  score_bki  bki_request_cnt  region_rating  home_address  \\\n",
       "0          0  -2.008753                1             50             1   \n",
       "1          0  -1.532276                3             50             2   \n",
       "2          0  -1.408142                1             80             1   \n",
       "3          0  -2.057471                2             50             2   \n",
       "4          1  -1.244723                1             60             2   \n",
       "\n",
       "   work_address  income  sna  first_time foreign_passport  default  sample  \n",
       "0             2   18000    4           1                N        0       1  \n",
       "1             3   19000    4           1                N        0       1  \n",
       "2             2   30000    1           4                Y        0       1  \n",
       "3             3   10000    1           3                N        0       1  \n",
       "4             3   30000    1           4                Y        0       1  "
      ]
     },
     "execution_count": 7,
     "metadata": {},
     "output_type": "execute_result"
    }
   ],
   "source": [
    "# Объединим train и test\n",
    "train['sample'] = 1\n",
    "test['sample'] = 0\n",
    "test['default'] = -1\n",
    "data = train.append(test, sort=False).reset_index(drop=True)\n",
    "data.head(5)"
   ]
  },
  {
   "cell_type": "markdown",
   "metadata": {
    "papermill": {
     "duration": 0.075194,
     "end_time": "2021-04-28T18:23:18.693338",
     "exception": false,
     "start_time": "2021-04-28T18:23:18.618144",
     "status": "completed"
    },
    "tags": []
   },
   "source": [
    "# **Посмотрим на данные**"
   ]
  },
  {
   "cell_type": "code",
   "execution_count": 8,
   "metadata": {
    "execution": {
     "iopub.execute_input": "2021-04-28T18:23:18.882141Z",
     "iopub.status.busy": "2021-04-28T18:23:18.881448Z",
     "iopub.status.idle": "2021-04-28T18:23:18.934238Z",
     "shell.execute_reply": "2021-04-28T18:23:18.934712Z"
    },
    "papermill": {
     "duration": 0.165656,
     "end_time": "2021-04-28T18:23:18.934883",
     "exception": false,
     "start_time": "2021-04-28T18:23:18.769227",
     "status": "completed"
    },
    "tags": []
   },
   "outputs": [
    {
     "name": "stdout",
     "output_type": "stream",
     "text": [
      "<class 'pandas.core.frame.DataFrame'>\n",
      "RangeIndex: 110148 entries, 0 to 110147\n",
      "Data columns (total 20 columns):\n",
      " #   Column            Non-Null Count   Dtype  \n",
      "---  ------            --------------   -----  \n",
      " 0   client_id         110148 non-null  int64  \n",
      " 1   app_date          110148 non-null  object \n",
      " 2   education         109670 non-null  object \n",
      " 3   sex               110148 non-null  object \n",
      " 4   age               110148 non-null  int64  \n",
      " 5   car               110148 non-null  object \n",
      " 6   car_type          110148 non-null  object \n",
      " 7   decline_app_cnt   110148 non-null  int64  \n",
      " 8   good_work         110148 non-null  int64  \n",
      " 9   score_bki         110148 non-null  float64\n",
      " 10  bki_request_cnt   110148 non-null  int64  \n",
      " 11  region_rating     110148 non-null  int64  \n",
      " 12  home_address      110148 non-null  int64  \n",
      " 13  work_address      110148 non-null  int64  \n",
      " 14  income            110148 non-null  int64  \n",
      " 15  sna               110148 non-null  int64  \n",
      " 16  first_time        110148 non-null  int64  \n",
      " 17  foreign_passport  110148 non-null  object \n",
      " 18  default           110148 non-null  int64  \n",
      " 19  sample            110148 non-null  int64  \n",
      "dtypes: float64(1), int64(13), object(6)\n",
      "memory usage: 16.8+ MB\n"
     ]
    }
   ],
   "source": [
    "data.info()"
   ]
  },
  {
   "cell_type": "code",
   "execution_count": 9,
   "metadata": {
    "execution": {
     "iopub.execute_input": "2021-04-28T18:23:19.090843Z",
     "iopub.status.busy": "2021-04-28T18:23:19.090214Z",
     "iopub.status.idle": "2021-04-28T18:23:19.165009Z",
     "shell.execute_reply": "2021-04-28T18:23:19.165485Z"
    },
    "papermill": {
     "duration": 0.154119,
     "end_time": "2021-04-28T18:23:19.165658",
     "exception": false,
     "start_time": "2021-04-28T18:23:19.011539",
     "status": "completed"
    },
    "tags": []
   },
   "outputs": [
    {
     "data": {
      "text/plain": [
       "client_id             0\n",
       "app_date              0\n",
       "education           478\n",
       "sex                   0\n",
       "age                   0\n",
       "car                   0\n",
       "car_type              0\n",
       "decline_app_cnt       0\n",
       "good_work             0\n",
       "score_bki             0\n",
       "bki_request_cnt       0\n",
       "region_rating         0\n",
       "home_address          0\n",
       "work_address          0\n",
       "income                0\n",
       "sna                   0\n",
       "first_time            0\n",
       "foreign_passport      0\n",
       "default               0\n",
       "sample                0\n",
       "dtype: int64"
      ]
     },
     "execution_count": 9,
     "metadata": {},
     "output_type": "execute_result"
    }
   ],
   "source": [
    "data.isna().sum()"
   ]
  },
  {
   "cell_type": "code",
   "execution_count": 10,
   "metadata": {
    "execution": {
     "iopub.execute_input": "2021-04-28T18:23:19.321421Z",
     "iopub.status.busy": "2021-04-28T18:23:19.320839Z",
     "iopub.status.idle": "2021-04-28T18:23:19.325363Z",
     "shell.execute_reply": "2021-04-28T18:23:19.325951Z"
    },
    "papermill": {
     "duration": 0.084102,
     "end_time": "2021-04-28T18:23:19.326121",
     "exception": false,
     "start_time": "2021-04-28T18:23:19.242019",
     "status": "completed"
    },
    "tags": []
   },
   "outputs": [],
   "source": [
    "num_cols = ['age','decline_app_cnt','score_bki','income','bki_request_cnt','region_rating'] # числовые признаки\n",
    "cat_cols = ['education','work_address','home_address','sna','first_time'] # категориальные признаки\n",
    "bin_cols = ['sex','car','car_type','good_work','foreign_passport'] # бинарные признаки"
   ]
  },
  {
   "cell_type": "markdown",
   "metadata": {
    "papermill": {
     "duration": 0.075638,
     "end_time": "2021-04-28T18:23:19.478203",
     "exception": false,
     "start_time": "2021-04-28T18:23:19.402565",
     "status": "completed"
    },
    "tags": []
   },
   "source": [
    "> **Посмотрим на распределение числовых признаков**"
   ]
  },
  {
   "cell_type": "code",
   "execution_count": 11,
   "metadata": {
    "execution": {
     "iopub.execute_input": "2021-04-28T18:23:19.637407Z",
     "iopub.status.busy": "2021-04-28T18:23:19.636748Z",
     "iopub.status.idle": "2021-04-28T18:23:21.228421Z",
     "shell.execute_reply": "2021-04-28T18:23:21.227923Z"
    },
    "papermill": {
     "duration": 1.674115,
     "end_time": "2021-04-28T18:23:21.228561",
     "exception": false,
     "start_time": "2021-04-28T18:23:19.554446",
     "status": "completed"
    },
    "tags": []
   },
   "outputs": [
    {
     "data": {
      "image/png": "[encoded data removed]",
      "text/plain": [
       "<Figure size 432x288 with 1 Axes>"
      ]
     },
     "metadata": {
      "needs_background": "light"
     },
     "output_type": "display_data"
    },
    {
     "data": {
      "image/png": "[encoded data removed]",
      "text/plain": [
       "<Figure size 432x288 with 1 Axes>"
      ]
     },
     "metadata": {
      "needs_background": "light"
     },
     "output_type": "display_data"
    },
    {
     "data": {
      "image/png": "[encoded data removed]",
      "text/plain": [
       "<Figure size 432x288 with 1 Axes>"
      ]
     },
     "metadata": {
      "needs_background": "light"
     },
     "output_type": "display_data"
    },
    {
     "data": {
      "image/png": "[encoded data removed]",
      "text/plain": [
       "<Figure size 432x288 with 1 Axes>"
      ]
     },
     "metadata": {
      "needs_background": "light"
     },
     "output_type": "display_data"
    },
    {
     "data": {
      "image/png": "[encoded data removed]",
      "text/plain": [
       "<Figure size 432x288 with 1 Axes>"
      ]
     },
     "metadata": {
      "needs_background": "light"
     },
     "output_type": "display_data"
    },
    {
     "data": {
      "image/png": "[encoded data removed]",
      "text/plain": [
       "<Figure size 432x288 with 1 Axes>"
      ]
     },
     "metadata": {
      "needs_background": "light"
     },
     "output_type": "display_data"
    }
   ],
   "source": [
    "for i in num_cols:\n",
    "    plt.figure()\n",
    "    sns.distplot(data[i], kde=False)\n",
    "    plt.title(i)\n",
    "    plt.show()"
   ]
  },
  {
   "cell_type": "markdown",
   "metadata": {
    "papermill": {
     "duration": 0.081692,
     "end_time": "2021-04-28T18:23:21.391179",
     "exception": false,
     "start_time": "2021-04-28T18:23:21.309487",
     "status": "completed"
    },
    "tags": []
   },
   "source": [
    "Видно, что признаки age, score_bki, rating_region распределены нормально. Оставшиеся признаки прологорифмируем, чтобы получить более нормальное распределение."
   ]
  },
  {
   "cell_type": "code",
   "execution_count": 12,
   "metadata": {
    "execution": {
     "iopub.execute_input": "2021-04-28T18:23:21.560305Z",
     "iopub.status.busy": "2021-04-28T18:23:21.559642Z",
     "iopub.status.idle": "2021-04-28T18:23:22.294809Z",
     "shell.execute_reply": "2021-04-28T18:23:22.294304Z"
    },
    "papermill": {
     "duration": 0.823314,
     "end_time": "2021-04-28T18:23:22.294948",
     "exception": false,
     "start_time": "2021-04-28T18:23:21.471634",
     "status": "completed"
    },
    "tags": []
   },
   "outputs": [
    {
     "data": {
      "image/png": "[encoded data removed]",
      "text/plain": [
       "<Figure size 432x288 with 1 Axes>"
      ]
     },
     "metadata": {
      "needs_background": "light"
     },
     "output_type": "display_data"
    },
    {
     "data": {
      "image/png": "[encoded data removed]",
      "text/plain": [
       "<Figure size 432x288 with 1 Axes>"
      ]
     },
     "metadata": {
      "needs_background": "light"
     },
     "output_type": "display_data"
    },
    {
     "data": {
      "image/png": "[encoded data removed]",
      "text/plain": [
       "<Figure size 432x288 with 1 Axes>"
      ]
     },
     "metadata": {
      "needs_background": "light"
     },
     "output_type": "display_data"
    }
   ],
   "source": [
    "for col in ['decline_app_cnt', 'bki_request_cnt', 'income']:\n",
    "    data[col] = np.log(data[col] + 1)\n",
    "    plt.figure()\n",
    "    sns.distplot(data[col][data[col] > 0].dropna(),kde = False, rug=False,color=\"r\")\n",
    "    plt.title(i)\n",
    "    plt.show()"
   ]
  },
  {
   "cell_type": "markdown",
   "metadata": {
    "papermill": {
     "duration": 0.082994,
     "end_time": "2021-04-28T18:23:22.461866",
     "exception": false,
     "start_time": "2021-04-28T18:23:22.378872",
     "status": "completed"
    },
    "tags": []
   },
   "source": [
    "Видно, что income распределено почти колоколом, это хорошо. С decline_app_cnt и bki_requests_cnt почти ничего не поменялось, но стало однозначно лучше"
   ]
  },
  {
   "cell_type": "markdown",
   "metadata": {
    "papermill": {
     "duration": 0.08333,
     "end_time": "2021-04-28T18:23:22.628730",
     "exception": false,
     "start_time": "2021-04-28T18:23:22.545400",
     "status": "completed"
    },
    "tags": []
   },
   "source": [
    "Посмотрим на выбросы, с помощью boxplot."
   ]
  },
  {
   "cell_type": "code",
   "execution_count": 13,
   "metadata": {
    "execution": {
     "iopub.execute_input": "2021-04-28T18:23:22.828233Z",
     "iopub.status.busy": "2021-04-28T18:23:22.824137Z",
     "iopub.status.idle": "2021-04-28T18:23:23.976977Z",
     "shell.execute_reply": "2021-04-28T18:23:23.976300Z"
    },
    "papermill": {
     "duration": 1.264934,
     "end_time": "2021-04-28T18:23:23.977118",
     "exception": false,
     "start_time": "2021-04-28T18:23:22.712184",
     "status": "completed"
    },
    "tags": []
   },
   "outputs": [
    {
     "data": {
      "image/png": "[encoded data removed]",
      "text/plain": [
       "<Figure size 1008x288 with 1 Axes>"
      ]
     },
     "metadata": {
      "needs_background": "light"
     },
     "output_type": "display_data"
    },
    {
     "data": {
      "image/png": "[encoded data removed]",
      "text/plain": [
       "<Figure size 1008x288 with 1 Axes>"
      ]
     },
     "metadata": {
      "needs_background": "light"
     },
     "output_type": "display_data"
    },
    {
     "data": {
      "image/png": "[encoded data removed]",
      "text/plain": [
       "<Figure size 1008x288 with 1 Axes>"
      ]
     },
     "metadata": {
      "needs_background": "light"
     },
     "output_type": "display_data"
    },
    {
     "data": {
      "image/png": "[encoded data removed]",
      "text/plain": [
       "<Figure size 1008x288 with 1 Axes>"
      ]
     },
     "metadata": {
      "needs_background": "light"
     },
     "output_type": "display_data"
    },
    {
     "data": {
      "image/png": "[encoded data removed]",
      "text/plain": [
       "<Figure size 1008x288 with 1 Axes>"
      ]
     },
     "metadata": {
      "needs_background": "light"
     },
     "output_type": "display_data"
    },
    {
     "data": {
      "image/png": "[encoded data removed]",
      "text/plain": [
       "<Figure size 1008x288 with 1 Axes>"
      ]
     },
     "metadata": {
      "needs_background": "light"
     },
     "output_type": "display_data"
    }
   ],
   "source": [
    "def boxplot(col):\n",
    "    fig, axes = plt.subplots(figsize=(14,4))\n",
    "    sns.boxplot(x='default',y=col, data=data[data['sample']==1],ax=axes)\n",
    "    axes.set_title(col)\n",
    "    plt.show()\n",
    "    \n",
    "for i in num_cols:\n",
    "    boxplot(i)\n",
    "    \n"
   ]
  },
  {
   "cell_type": "markdown",
   "metadata": {
    "papermill": {
     "duration": 0.090041,
     "end_time": "2021-04-28T18:23:24.156229",
     "exception": false,
     "start_time": "2021-04-28T18:23:24.066188",
     "status": "completed"
    },
    "tags": []
   },
   "source": [
    "Из графиков видно, что люди, которые являются надёжными заёмщиками(default=0): 1)старше\n",
    "2)у них меньше кол-во отказанных заявок 3)меньше среднее кол-во запросов в БКИ 4)скоринговый балл по данным БКИ ниже. 5) выше зп.\n"
   ]
  },
  {
   "cell_type": "markdown",
   "metadata": {
    "papermill": {
     "duration": 0.088976,
     "end_time": "2021-04-28T18:23:24.334699",
     "exception": false,
     "start_time": "2021-04-28T18:23:24.245723",
     "status": "completed"
    },
    "tags": []
   },
   "source": [
    "> **Проверим категориальные признаки**"
   ]
  },
  {
   "cell_type": "code",
   "execution_count": 14,
   "metadata": {
    "execution": {
     "iopub.execute_input": "2021-04-28T18:23:24.544143Z",
     "iopub.status.busy": "2021-04-28T18:23:24.543339Z",
     "iopub.status.idle": "2021-04-28T18:23:24.701336Z",
     "shell.execute_reply": "2021-04-28T18:23:24.700829Z"
    },
    "papermill": {
     "duration": 0.278441,
     "end_time": "2021-04-28T18:23:24.701477",
     "exception": false,
     "start_time": "2021-04-28T18:23:24.423036",
     "status": "completed"
    },
    "tags": []
   },
   "outputs": [
    {
     "name": "stdout",
     "output_type": "stream",
     "text": [
      "Пропущенных значений: 478\n"
     ]
    },
    {
     "data": {
      "image/png": "[encoded data removed]",
      "text/plain": [
       "<Figure size 432x288 with 1 Axes>"
      ]
     },
     "metadata": {
      "needs_background": "light"
     },
     "output_type": "display_data"
    }
   ],
   "source": [
    "#В education у нас есть пропуски\n",
    "data.education.value_counts().plot(kind='bar')\n",
    "print('Пропущенных значений:',data.education.isna().sum())"
   ]
  },
  {
   "cell_type": "markdown",
   "metadata": {
    "papermill": {
     "duration": 0.089571,
     "end_time": "2021-04-28T18:23:24.880380",
     "exception": false,
     "start_time": "2021-04-28T18:23:24.790809",
     "status": "completed"
    },
    "tags": []
   },
   "source": [
    "Заменим пропущенные значения на медиану"
   ]
  },
  {
   "cell_type": "code",
   "execution_count": 15,
   "metadata": {
    "execution": {
     "iopub.execute_input": "2021-04-28T18:23:25.094785Z",
     "iopub.status.busy": "2021-04-28T18:23:25.094115Z",
     "iopub.status.idle": "2021-04-28T18:23:25.781211Z",
     "shell.execute_reply": "2021-04-28T18:23:25.780380Z"
    },
    "papermill": {
     "duration": 0.810027,
     "end_time": "2021-04-28T18:23:25.781390",
     "exception": false,
     "start_time": "2021-04-28T18:23:24.971363",
     "status": "completed"
    },
    "tags": []
   },
   "outputs": [
    {
     "data": {
      "image/png": "[encoded data removed]",
      "text/plain": [
       "<Figure size 1008x288 with 1 Axes>"
      ]
     },
     "metadata": {
      "needs_background": "light"
     },
     "output_type": "display_data"
    },
    {
     "name": "stdout",
     "output_type": "stream",
     "text": [
      "education: ['SCH', 'GRD', 'UGR', 'PGR', 'ACD', nan]\n"
     ]
    },
    {
     "data": {
      "image/png": "[encoded data removed]",
      "text/plain": [
       "<Figure size 1008x288 with 1 Axes>"
      ]
     },
     "metadata": {
      "needs_background": "light"
     },
     "output_type": "display_data"
    },
    {
     "name": "stdout",
     "output_type": "stream",
     "text": [
      "work_address: [2, 3, 1]\n"
     ]
    },
    {
     "data": {
      "image/png": "[encoded data removed]",
      "text/plain": [
       "<Figure size 1008x288 with 1 Axes>"
      ]
     },
     "metadata": {
      "needs_background": "light"
     },
     "output_type": "display_data"
    },
    {
     "name": "stdout",
     "output_type": "stream",
     "text": [
      "home_address: [1, 2, 3]\n"
     ]
    },
    {
     "data": {
      "image/png": "[encoded data removed]",
      "text/plain": [
       "<Figure size 1008x288 with 1 Axes>"
      ]
     },
     "metadata": {
      "needs_background": "light"
     },
     "output_type": "display_data"
    },
    {
     "name": "stdout",
     "output_type": "stream",
     "text": [
      "sna: [4, 1, 2, 3]\n"
     ]
    },
    {
     "data": {
      "image/png": "[encoded data removed]",
      "text/plain": [
       "<Figure size 1008x288 with 1 Axes>"
      ]
     },
     "metadata": {
      "needs_background": "light"
     },
     "output_type": "display_data"
    },
    {
     "name": "stdout",
     "output_type": "stream",
     "text": [
      "first_time: [1, 4, 3, 2]\n"
     ]
    }
   ],
   "source": [
    "# посмотрим на уникальные значения\n",
    "for i in cat_cols:\n",
    "    plt.figure(figsize=(14,4))\n",
    "    data[i].value_counts().plot(kind='bar')\n",
    "    plt.title(i)\n",
    "    plt.show()\n",
    "    print(i+':',data[i].unique().tolist())"
   ]
  },
  {
   "cell_type": "code",
   "execution_count": 16,
   "metadata": {
    "execution": {
     "iopub.execute_input": "2021-04-28T18:23:25.978815Z",
     "iopub.status.busy": "2021-04-28T18:23:25.977558Z",
     "iopub.status.idle": "2021-04-28T18:23:27.190127Z",
     "shell.execute_reply": "2021-04-28T18:23:27.189563Z"
    },
    "papermill": {
     "duration": 1.314205,
     "end_time": "2021-04-28T18:23:27.190269",
     "exception": false,
     "start_time": "2021-04-28T18:23:25.876064",
     "status": "completed"
    },
    "tags": []
   },
   "outputs": [
    {
     "data": {
      "text/plain": [
       "<matplotlib.axes._subplots.AxesSubplot at 0x1f2dba2d9a0>"
      ]
     },
     "execution_count": 16,
     "metadata": {},
     "output_type": "execute_result"
    },
    {
     "data": {
      "image/png": "[encoded data removed]",
      "text/plain": [
       "<Figure size 1080x720 with 2 Axes>"
      ]
     },
     "metadata": {
      "needs_background": "light"
     },
     "output_type": "display_data"
    }
   ],
   "source": [
    "# посмотрим на корреляцию признаков\n",
    "plt.rcParams['figure.figsize'] = (15,10)\n",
    "sns.heatmap(data.corr(), vmin=0, vmax=1, annot=True)"
   ]
  },
  {
   "cell_type": "code",
   "execution_count": 17,
   "metadata": {
    "execution": {
     "iopub.execute_input": "2021-04-28T18:23:27.393865Z",
     "iopub.status.busy": "2021-04-28T18:23:27.393172Z",
     "iopub.status.idle": "2021-04-28T18:23:27.395867Z",
     "shell.execute_reply": "2021-04-28T18:23:27.396322Z"
    },
    "papermill": {
     "duration": 0.106209,
     "end_time": "2021-04-28T18:23:27.396494",
     "exception": false,
     "start_time": "2021-04-28T18:23:27.290285",
     "status": "completed"
    },
    "tags": []
   },
   "outputs": [],
   "source": [
    "# Признаки home_address и work_address имеют сильную зависимость, в будущем посмотрим\n",
    "# какой из этих признаков более хорошо подходит для модели и удалим худший из них."
   ]
  },
  {
   "cell_type": "markdown",
   "metadata": {
    "papermill": {
     "duration": 0.099149,
     "end_time": "2021-04-28T18:23:27.594797",
     "exception": false,
     "start_time": "2021-04-28T18:23:27.495648",
     "status": "completed"
    },
    "tags": []
   },
   "source": [
    "# **Future engineering**"
   ]
  },
  {
   "cell_type": "code",
   "execution_count": 18,
   "metadata": {
    "execution": {
     "iopub.execute_input": "2021-04-28T18:23:27.805478Z",
     "iopub.status.busy": "2021-04-28T18:23:27.804781Z",
     "iopub.status.idle": "2021-04-28T18:24:13.467181Z",
     "shell.execute_reply": "2021-04-28T18:24:13.467657Z"
    },
    "papermill": {
     "duration": 45.774239,
     "end_time": "2021-04-28T18:24:13.467866",
     "exception": false,
     "start_time": "2021-04-28T18:23:27.693627",
     "status": "completed"
    },
    "tags": []
   },
   "outputs": [],
   "source": [
    "data.app_date = pd.to_datetime(data.app_date)\n",
    "data['days_from_now'] = (datetime.datetime.today()-data.app_date) #Кол-во дней с настоящего момента\n",
    "data['app_date'] = data['app_date'].apply(lambda x: (x - data['app_date'].min()).days)"
   ]
  },
  {
   "cell_type": "code",
   "execution_count": 19,
   "metadata": {
    "execution": {
     "iopub.execute_input": "2021-04-28T18:24:13.668320Z",
     "iopub.status.busy": "2021-04-28T18:24:13.667715Z",
     "iopub.status.idle": "2021-04-28T18:24:15.247644Z",
     "shell.execute_reply": "2021-04-28T18:24:15.248196Z"
    },
    "papermill": {
     "duration": 1.68201,
     "end_time": "2021-04-28T18:24:15.248377",
     "exception": false,
     "start_time": "2021-04-28T18:24:13.566367",
     "status": "completed"
    },
    "tags": []
   },
   "outputs": [],
   "source": [
    "data.days_from_now = data.days_from_now.apply(lambda x: x.days)"
   ]
  },
  {
   "cell_type": "code",
   "execution_count": 20,
   "metadata": {
    "execution": {
     "iopub.execute_input": "2021-04-28T18:24:15.450029Z",
     "iopub.status.busy": "2021-04-28T18:24:15.449250Z",
     "iopub.status.idle": "2021-04-28T18:24:15.474746Z",
     "shell.execute_reply": "2021-04-28T18:24:15.475221Z"
    },
    "papermill": {
     "duration": 0.127606,
     "end_time": "2021-04-28T18:24:15.475379",
     "exception": false,
     "start_time": "2021-04-28T18:24:15.347773",
     "status": "completed"
    },
    "tags": []
   },
   "outputs": [
    {
     "data": {
      "text/html": [
       "<div>\n",
       "<style scoped>\n",
       "    .dataframe tbody tr th:only-of-type {\n",
       "        vertical-align: middle;\n",
       "    }\n",
       "\n",
       "    .dataframe tbody tr th {\n",
       "        vertical-align: top;\n",
       "    }\n",
       "\n",
       "    .dataframe thead th {\n",
       "        text-align: right;\n",
       "    }\n",
       "</style>\n",
       "<table border=\"1\" class=\"dataframe\">\n",
       "  <thead>\n",
       "    <tr style=\"text-align: right;\">\n",
       "      <th></th>\n",
       "      <th>client_id</th>\n",
       "      <th>app_date</th>\n",
       "      <th>education</th>\n",
       "      <th>sex</th>\n",
       "      <th>age</th>\n",
       "      <th>car</th>\n",
       "      <th>car_type</th>\n",
       "      <th>decline_app_cnt</th>\n",
       "      <th>good_work</th>\n",
       "      <th>score_bki</th>\n",
       "      <th>...</th>\n",
       "      <th>region_rating</th>\n",
       "      <th>home_address</th>\n",
       "      <th>work_address</th>\n",
       "      <th>income</th>\n",
       "      <th>sna</th>\n",
       "      <th>first_time</th>\n",
       "      <th>foreign_passport</th>\n",
       "      <th>default</th>\n",
       "      <th>sample</th>\n",
       "      <th>days_from_now</th>\n",
       "    </tr>\n",
       "  </thead>\n",
       "  <tbody>\n",
       "    <tr>\n",
       "      <th>0</th>\n",
       "      <td>25905</td>\n",
       "      <td>31</td>\n",
       "      <td>SCH</td>\n",
       "      <td>M</td>\n",
       "      <td>62</td>\n",
       "      <td>Y</td>\n",
       "      <td>Y</td>\n",
       "      <td>0.000000</td>\n",
       "      <td>0</td>\n",
       "      <td>-2.008753</td>\n",
       "      <td>...</td>\n",
       "      <td>50</td>\n",
       "      <td>1</td>\n",
       "      <td>2</td>\n",
       "      <td>9.798183</td>\n",
       "      <td>4</td>\n",
       "      <td>1</td>\n",
       "      <td>N</td>\n",
       "      <td>0</td>\n",
       "      <td>1</td>\n",
       "      <td>2643</td>\n",
       "    </tr>\n",
       "    <tr>\n",
       "      <th>1</th>\n",
       "      <td>63161</td>\n",
       "      <td>70</td>\n",
       "      <td>SCH</td>\n",
       "      <td>F</td>\n",
       "      <td>59</td>\n",
       "      <td>N</td>\n",
       "      <td>N</td>\n",
       "      <td>0.000000</td>\n",
       "      <td>0</td>\n",
       "      <td>-1.532276</td>\n",
       "      <td>...</td>\n",
       "      <td>50</td>\n",
       "      <td>2</td>\n",
       "      <td>3</td>\n",
       "      <td>9.852247</td>\n",
       "      <td>4</td>\n",
       "      <td>1</td>\n",
       "      <td>N</td>\n",
       "      <td>0</td>\n",
       "      <td>1</td>\n",
       "      <td>2604</td>\n",
       "    </tr>\n",
       "    <tr>\n",
       "      <th>2</th>\n",
       "      <td>25887</td>\n",
       "      <td>31</td>\n",
       "      <td>SCH</td>\n",
       "      <td>M</td>\n",
       "      <td>25</td>\n",
       "      <td>Y</td>\n",
       "      <td>N</td>\n",
       "      <td>1.098612</td>\n",
       "      <td>0</td>\n",
       "      <td>-1.408142</td>\n",
       "      <td>...</td>\n",
       "      <td>80</td>\n",
       "      <td>1</td>\n",
       "      <td>2</td>\n",
       "      <td>10.308986</td>\n",
       "      <td>1</td>\n",
       "      <td>4</td>\n",
       "      <td>Y</td>\n",
       "      <td>0</td>\n",
       "      <td>1</td>\n",
       "      <td>2643</td>\n",
       "    </tr>\n",
       "    <tr>\n",
       "      <th>3</th>\n",
       "      <td>16222</td>\n",
       "      <td>22</td>\n",
       "      <td>SCH</td>\n",
       "      <td>F</td>\n",
       "      <td>53</td>\n",
       "      <td>N</td>\n",
       "      <td>N</td>\n",
       "      <td>0.000000</td>\n",
       "      <td>0</td>\n",
       "      <td>-2.057471</td>\n",
       "      <td>...</td>\n",
       "      <td>50</td>\n",
       "      <td>2</td>\n",
       "      <td>3</td>\n",
       "      <td>9.210440</td>\n",
       "      <td>1</td>\n",
       "      <td>3</td>\n",
       "      <td>N</td>\n",
       "      <td>0</td>\n",
       "      <td>1</td>\n",
       "      <td>2652</td>\n",
       "    </tr>\n",
       "    <tr>\n",
       "      <th>4</th>\n",
       "      <td>101655</td>\n",
       "      <td>107</td>\n",
       "      <td>GRD</td>\n",
       "      <td>M</td>\n",
       "      <td>48</td>\n",
       "      <td>N</td>\n",
       "      <td>N</td>\n",
       "      <td>0.000000</td>\n",
       "      <td>1</td>\n",
       "      <td>-1.244723</td>\n",
       "      <td>...</td>\n",
       "      <td>60</td>\n",
       "      <td>2</td>\n",
       "      <td>3</td>\n",
       "      <td>10.308986</td>\n",
       "      <td>1</td>\n",
       "      <td>4</td>\n",
       "      <td>Y</td>\n",
       "      <td>0</td>\n",
       "      <td>1</td>\n",
       "      <td>2567</td>\n",
       "    </tr>\n",
       "  </tbody>\n",
       "</table>\n",
       "<p>5 rows × 21 columns</p>\n",
       "</div>"
      ],
      "text/plain": [
       "   client_id  app_date education sex  age car car_type  decline_app_cnt  \\\n",
       "0      25905        31       SCH   M   62   Y        Y         0.000000   \n",
       "1      63161        70       SCH   F   59   N        N         0.000000   \n",
       "2      25887        31       SCH   M   25   Y        N         1.098612   \n",
       "3      16222        22       SCH   F   53   N        N         0.000000   \n",
       "4     101655       107       GRD   M   48   N        N         0.000000   \n",
       "\n",
       "   good_work  score_bki  ...  region_rating  home_address  work_address  \\\n",
       "0          0  -2.008753  ...             50             1             2   \n",
       "1          0  -1.532276  ...             50             2             3   \n",
       "2          0  -1.408142  ...             80             1             2   \n",
       "3          0  -2.057471  ...             50             2             3   \n",
       "4          1  -1.244723  ...             60             2             3   \n",
       "\n",
       "      income  sna  first_time  foreign_passport default  sample  days_from_now  \n",
       "0   9.798183    4           1                 N       0       1           2643  \n",
       "1   9.852247    4           1                 N       0       1           2604  \n",
       "2  10.308986    1           4                 Y       0       1           2643  \n",
       "3   9.210440    1           3                 N       0       1           2652  \n",
       "4  10.308986    1           4                 Y       0       1           2567  \n",
       "\n",
       "[5 rows x 21 columns]"
      ]
     },
     "execution_count": 20,
     "metadata": {},
     "output_type": "execute_result"
    }
   ],
   "source": [
    "data.head(5)"
   ]
  },
  {
   "cell_type": "markdown",
   "metadata": {
    "papermill": {
     "duration": 0.099526,
     "end_time": "2021-04-28T18:24:15.674515",
     "exception": false,
     "start_time": "2021-04-28T18:24:15.574989",
     "status": "completed"
    },
    "tags": []
   },
   "source": [
    "Попробуем построить новые признаки, после проверим какие из них наиболее значимы"
   ]
  },
  {
   "cell_type": "code",
   "execution_count": 21,
   "metadata": {
    "execution": {
     "iopub.execute_input": "2021-04-28T18:24:15.879598Z",
     "iopub.status.busy": "2021-04-28T18:24:15.878949Z",
     "iopub.status.idle": "2021-04-28T18:24:15.890253Z",
     "shell.execute_reply": "2021-04-28T18:24:15.890793Z"
    },
    "papermill": {
     "duration": 0.115622,
     "end_time": "2021-04-28T18:24:15.890963",
     "exception": false,
     "start_time": "2021-04-28T18:24:15.775341",
     "status": "completed"
    },
    "tags": []
   },
   "outputs": [],
   "source": [
    "df = data.copy() # сделаем копию датасета, пока что будем работать с ним"
   ]
  },
  {
   "cell_type": "code",
   "execution_count": 22,
   "metadata": {
    "execution": {
     "iopub.execute_input": "2021-04-28T18:24:16.096592Z",
     "iopub.status.busy": "2021-04-28T18:24:16.095919Z",
     "iopub.status.idle": "2021-04-28T18:24:16.105636Z",
     "shell.execute_reply": "2021-04-28T18:24:16.106147Z"
    },
    "papermill": {
     "duration": 0.114116,
     "end_time": "2021-04-28T18:24:16.106307",
     "exception": false,
     "start_time": "2021-04-28T18:24:15.992191",
     "status": "completed"
    },
    "tags": []
   },
   "outputs": [],
   "source": [
    "# признак по средней заработной плате для каждого возраста\n",
    "mean_income = df.groupby('age')['income'].mean().to_dict()\n",
    "df['mean_income_age'] = df['age'].map(mean_income)"
   ]
  },
  {
   "cell_type": "code",
   "execution_count": 23,
   "metadata": {
    "execution": {
     "iopub.execute_input": "2021-04-28T18:24:16.316829Z",
     "iopub.status.busy": "2021-04-28T18:24:16.316197Z",
     "iopub.status.idle": "2021-04-28T18:24:16.325885Z",
     "shell.execute_reply": "2021-04-28T18:24:16.326380Z"
    },
    "papermill": {
     "duration": 0.115203,
     "end_time": "2021-04-28T18:24:16.326548",
     "exception": false,
     "start_time": "2021-04-28T18:24:16.211345",
     "status": "completed"
    },
    "tags": []
   },
   "outputs": [],
   "source": [
    "# признак по максимальной зарплате для каждого возраста\n",
    "max_income = df.groupby('age')['income'].max().to_dict()\n",
    "df['max_income_age'] = df['age'].map(max_income)"
   ]
  },
  {
   "cell_type": "code",
   "execution_count": 24,
   "metadata": {
    "execution": {
     "iopub.execute_input": "2021-04-28T18:24:16.530964Z",
     "iopub.status.busy": "2021-04-28T18:24:16.530323Z",
     "iopub.status.idle": "2021-04-28T18:24:16.537706Z",
     "shell.execute_reply": "2021-04-28T18:24:16.538153Z"
    },
    "papermill": {
     "duration": 0.111399,
     "end_time": "2021-04-28T18:24:16.538346",
     "exception": false,
     "start_time": "2021-04-28T18:24:16.426947",
     "status": "completed"
    },
    "tags": []
   },
   "outputs": [],
   "source": [
    "# нормализируем признак зп по возрасту\n",
    "df[\"normalized_income\"] = abs((df.income - df.mean_income_age)/df.max_income_age)"
   ]
  },
  {
   "cell_type": "code",
   "execution_count": 25,
   "metadata": {
    "execution": {
     "iopub.execute_input": "2021-04-28T18:24:16.742299Z",
     "iopub.status.busy": "2021-04-28T18:24:16.741627Z",
     "iopub.status.idle": "2021-04-28T18:24:16.750635Z",
     "shell.execute_reply": "2021-04-28T18:24:16.751110Z"
    },
    "papermill": {
     "duration": 0.112823,
     "end_time": "2021-04-28T18:24:16.751281",
     "exception": false,
     "start_time": "2021-04-28T18:24:16.638458",
     "status": "completed"
    },
    "tags": []
   },
   "outputs": [],
   "source": [
    "# среднее кол-во запросов в БКИ по возрасту\n",
    "mean_bki = df.groupby('age')['bki_request_cnt'].mean().to_dict()\n",
    "df['mean_requests_age'] = df['age'].map(mean_bki)"
   ]
  },
  {
   "cell_type": "code",
   "execution_count": 26,
   "metadata": {
    "execution": {
     "iopub.execute_input": "2021-04-28T18:24:16.956800Z",
     "iopub.status.busy": "2021-04-28T18:24:16.956150Z",
     "iopub.status.idle": "2021-04-28T18:24:16.968995Z",
     "shell.execute_reply": "2021-04-28T18:24:16.969476Z"
    },
    "papermill": {
     "duration": 0.117899,
     "end_time": "2021-04-28T18:24:16.969675",
     "exception": false,
     "start_time": "2021-04-28T18:24:16.851776",
     "status": "completed"
    },
    "tags": []
   },
   "outputs": [],
   "source": [
    "# среднее кол-во запросов по зп\n",
    "mean_bki_inc = df.groupby('income')['bki_request_cnt'].mean().to_dict()\n",
    "df['mean_requests_income'] = df['income'].map(mean_bki_inc)"
   ]
  },
  {
   "cell_type": "code",
   "execution_count": 27,
   "metadata": {
    "execution": {
     "iopub.execute_input": "2021-04-28T18:24:17.175918Z",
     "iopub.status.busy": "2021-04-28T18:24:17.175198Z",
     "iopub.status.idle": "2021-04-28T18:24:17.184401Z",
     "shell.execute_reply": "2021-04-28T18:24:17.184948Z"
    },
    "papermill": {
     "duration": 0.11363,
     "end_time": "2021-04-28T18:24:17.185123",
     "exception": false,
     "start_time": "2021-04-28T18:24:17.071493",
     "status": "completed"
    },
    "tags": []
   },
   "outputs": [],
   "source": [
    "# Средняя зп по рейтингу региона\n",
    "mean_income_rat = df.groupby('region_rating')['income'].mean().to_dict()\n",
    "df['mean_income_region'] = df['region_rating'].map(mean_income_rat)"
   ]
  },
  {
   "cell_type": "markdown",
   "metadata": {
    "papermill": {
     "duration": 0.100656,
     "end_time": "2021-04-28T18:24:17.386964",
     "exception": false,
     "start_time": "2021-04-28T18:24:17.286308",
     "status": "completed"
    },
    "tags": []
   },
   "source": [
    "# **Encoding**"
   ]
  },
  {
   "cell_type": "code",
   "execution_count": 28,
   "metadata": {
    "execution": {
     "iopub.execute_input": "2021-04-28T18:24:17.639246Z",
     "iopub.status.busy": "2021-04-28T18:24:17.638640Z",
     "iopub.status.idle": "2021-04-28T18:24:17.644138Z",
     "shell.execute_reply": "2021-04-28T18:24:17.643654Z"
    },
    "papermill": {
     "duration": 0.156382,
     "end_time": "2021-04-28T18:24:17.644265",
     "exception": false,
     "start_time": "2021-04-28T18:24:17.487883",
     "status": "completed"
    },
    "tags": []
   },
   "outputs": [],
   "source": [
    "def encoding_bin(data1,col):\n",
    "    \"\"\"Возвращает словарь, где ключ - бинарный признак, а значение - свой номер\"\"\"\n",
    "    dict_unique = {}\n",
    "    \n",
    "    for k,i in enumerate(data1[col].unique().tolist()):\n",
    "        dict_unique[i] = k\n",
    "        \n",
    "    return dict_unique"
   ]
  },
  {
   "cell_type": "code",
   "execution_count": 29,
   "metadata": {
    "execution": {
     "iopub.execute_input": "2021-04-28T18:24:17.857697Z",
     "iopub.status.busy": "2021-04-28T18:24:17.856922Z",
     "iopub.status.idle": "2021-04-28T18:24:17.862568Z",
     "shell.execute_reply": "2021-04-28T18:24:17.862026Z"
    },
    "papermill": {
     "duration": 0.117775,
     "end_time": "2021-04-28T18:24:17.862724",
     "exception": false,
     "start_time": "2021-04-28T18:24:17.744949",
     "status": "completed"
    },
    "tags": []
   },
   "outputs": [
    {
     "data": {
      "text/plain": [
       "{'M': 0, 'F': 1}"
      ]
     },
     "execution_count": 29,
     "metadata": {},
     "output_type": "execute_result"
    }
   ],
   "source": [
    "# пример, что выводит функция\n",
    "encoding_bin(data1=df,col='sex')"
   ]
  },
  {
   "cell_type": "code",
   "execution_count": 30,
   "metadata": {
    "execution": {
     "iopub.execute_input": "2021-04-28T18:24:18.080694Z",
     "iopub.status.busy": "2021-04-28T18:24:18.080031Z",
     "iopub.status.idle": "2021-04-28T18:24:18.158260Z",
     "shell.execute_reply": "2021-04-28T18:24:18.157601Z"
    },
    "papermill": {
     "duration": 0.191283,
     "end_time": "2021-04-28T18:24:18.158396",
     "exception": false,
     "start_time": "2021-04-28T18:24:17.967113",
     "status": "completed"
    },
    "tags": []
   },
   "outputs": [],
   "source": [
    "for i in bin_cols:\n",
    "    df[i] = df[i].map(encoding_bin(data1=df, col=i))"
   ]
  },
  {
   "cell_type": "code",
   "execution_count": 31,
   "metadata": {
    "execution": {
     "iopub.execute_input": "2021-04-28T18:24:18.392425Z",
     "iopub.status.busy": "2021-04-28T18:24:18.391734Z",
     "iopub.status.idle": "2021-04-28T18:24:18.396386Z",
     "shell.execute_reply": "2021-04-28T18:24:18.395872Z"
    },
    "papermill": {
     "duration": 0.13644,
     "end_time": "2021-04-28T18:24:18.396516",
     "exception": false,
     "start_time": "2021-04-28T18:24:18.260076",
     "status": "completed"
    },
    "tags": []
   },
   "outputs": [],
   "source": [
    "df['education'] = df['education'].map(encoding_bin(data1=df, col='education'))"
   ]
  },
  {
   "cell_type": "code",
   "execution_count": 32,
   "metadata": {
    "execution": {
     "iopub.execute_input": "2021-04-28T18:24:18.605643Z",
     "iopub.status.busy": "2021-04-28T18:24:18.605034Z",
     "iopub.status.idle": "2021-04-28T18:24:18.633352Z",
     "shell.execute_reply": "2021-04-28T18:24:18.633940Z"
    },
    "papermill": {
     "duration": 0.136024,
     "end_time": "2021-04-28T18:24:18.634114",
     "exception": false,
     "start_time": "2021-04-28T18:24:18.498090",
     "status": "completed"
    },
    "tags": []
   },
   "outputs": [
    {
     "name": "stderr",
     "output_type": "stream",
     "text": [
      "<ipython-input-32-7a85358068cb>:2: SettingWithCopyWarning: \n",
      "A value is trying to be set on a copy of a slice from a DataFrame.\n",
      "Try using .loc[row_indexer,col_indexer] = value instead\n",
      "\n",
      "See the caveats in the documentation: https://pandas.pydata.org/pandas-docs/stable/user_guide/indexing.html#returning-a-view-versus-a-copy\n",
      "  df[df['education']==5]['education'] = df['education'].mode().values[0]\n"
     ]
    }
   ],
   "source": [
    "# В education пропущенные значения заменились цифрой 5 заменим на медиану\n",
    "df[df['education']==5]['education'] = df['education'].mode().values[0]"
   ]
  },
  {
   "cell_type": "code",
   "execution_count": 33,
   "metadata": {
    "execution": {
     "iopub.execute_input": "2021-04-28T18:24:18.842548Z",
     "iopub.status.busy": "2021-04-28T18:24:18.841862Z",
     "iopub.status.idle": "2021-04-28T18:24:18.845751Z",
     "shell.execute_reply": "2021-04-28T18:24:18.846259Z"
    },
    "papermill": {
     "duration": 0.109581,
     "end_time": "2021-04-28T18:24:18.846418",
     "exception": false,
     "start_time": "2021-04-28T18:24:18.736837",
     "status": "completed"
    },
    "tags": []
   },
   "outputs": [],
   "source": [
    "# добавим в список с численными признаками, новые признаки\n",
    "num_cols = ['age','decline_app_cnt','score_bki','income','bki_request_cnt', 'mean_income_age','region_rating','max_income_age', 'normalized_income',\n",
    "       'mean_requests_age', 'mean_requests_income', 'mean_income_region','days_from_now','app_date']"
   ]
  },
  {
   "cell_type": "markdown",
   "metadata": {
    "papermill": {
     "duration": 0.103343,
     "end_time": "2021-04-28T18:24:19.053614",
     "exception": false,
     "start_time": "2021-04-28T18:24:18.950271",
     "status": "completed"
    },
    "tags": []
   },
   "source": [
    "# **Найдём выбросы, заменим их (для численных признаков)**"
   ]
  },
  {
   "cell_type": "code",
   "execution_count": 34,
   "metadata": {
    "execution": {
     "iopub.execute_input": "2021-04-28T18:24:19.263985Z",
     "iopub.status.busy": "2021-04-28T18:24:19.263362Z",
     "iopub.status.idle": "2021-04-28T18:24:19.265608Z",
     "shell.execute_reply": "2021-04-28T18:24:19.266175Z"
    },
    "papermill": {
     "duration": 0.110199,
     "end_time": "2021-04-28T18:24:19.266331",
     "exception": false,
     "start_time": "2021-04-28T18:24:19.156132",
     "status": "completed"
    },
    "tags": []
   },
   "outputs": [],
   "source": [
    "def find_outliers(data1, col):\n",
    "    Q1, Q3 = data1[col].quantile(0.25), data1[col].quantile(0.75)\n",
    "    IQR = np.abs(Q3-Q1)\n",
    "    return (Q1-1.5*IQR,Q3+1.5*IQR)"
   ]
  },
  {
   "cell_type": "code",
   "execution_count": 35,
   "metadata": {
    "execution": {
     "iopub.execute_input": "2021-04-28T18:24:19.475631Z",
     "iopub.status.busy": "2021-04-28T18:24:19.474976Z",
     "iopub.status.idle": "2021-04-28T18:24:19.551337Z",
     "shell.execute_reply": "2021-04-28T18:24:19.550707Z"
    },
    "papermill": {
     "duration": 0.183457,
     "end_time": "2021-04-28T18:24:19.551471",
     "exception": false,
     "start_time": "2021-04-28T18:24:19.368014",
     "status": "completed"
    },
    "tags": []
   },
   "outputs": [
    {
     "name": "stdout",
     "output_type": "stream",
     "text": [
      "age : (3.0, 75.0)\n",
      "decline_app_cnt : (0.0, 0.0)\n",
      "score_bki : (-3.299251946250001, -0.5290698762499992)\n",
      "income : (8.590378193705899, 12.092136480586621)\n",
      "bki_request_cnt : (-2.0794415416798357, 3.465735902799726)\n",
      "mean_income_age : (10.096765980049959, 10.653013305170418)\n",
      "region_rating : (35.0, 75.0)\n",
      "max_income_age : (12.661925126223323, 14.506062618075909)\n",
      "normalized_income : (-0.04718592286031794, 0.11445767712175765)\n",
      "mean_requests_age : (0.7636162786736559, 1.041442994787427)\n",
      "mean_requests_income : (0.7391870597717735, 1.0200299604316054)\n",
      "mean_income_region : (10.102755076576383, 10.383648976503782)\n",
      "days_from_now : (2501.0, 2725.0)\n",
      "app_date : (-51.0, 173.0)\n"
     ]
    }
   ],
   "source": [
    "for i in num_cols:\n",
    "    print(i,':',find_outliers(data1=df, col=i))"
   ]
  },
  {
   "cell_type": "code",
   "execution_count": 36,
   "metadata": {
    "execution": {
     "iopub.execute_input": "2021-04-28T18:24:19.766706Z",
     "iopub.status.busy": "2021-04-28T18:24:19.766036Z",
     "iopub.status.idle": "2021-04-28T18:24:19.957170Z",
     "shell.execute_reply": "2021-04-28T18:24:19.956253Z"
    },
    "papermill": {
     "duration": 0.301592,
     "end_time": "2021-04-28T18:24:19.957358",
     "exception": false,
     "start_time": "2021-04-28T18:24:19.655766",
     "status": "completed"
    },
    "tags": []
   },
   "outputs": [
    {
     "name": "stdout",
     "output_type": "stream",
     "text": [
      "AGE: 0 \n",
      "\n",
      "DECLINE_APP_CNT: 18677 \n",
      "\n",
      "SCORE_BKI: 518 \n",
      "\n",
      "INCOME: 2609 \n",
      "\n",
      "BKI_REQUEST_CNT: 15 \n",
      "\n",
      "MEAN_INCOME_AGE: 9071 \n",
      "\n",
      "REGION_RATING: 17917 \n",
      "\n",
      "MAX_INCOME_AGE: 4443 \n",
      "\n",
      "NORMALIZED_INCOME: 3630 \n",
      "\n",
      "MEAN_REQUESTS_AGE: 8651 \n",
      "\n",
      "MEAN_REQUESTS_INCOME: 6508 \n",
      "\n",
      "MEAN_INCOME_REGION: 26908 \n",
      "\n",
      "DAYS_FROM_NOW: 0 \n",
      "\n",
      "APP_DATE: 0 \n",
      "\n"
     ]
    }
   ],
   "source": [
    "# найдём строки, в которых есть выбросы\n",
    "for i in num_cols:\n",
    "    lower_out = find_outliers(data1=df, col=i)[0]\n",
    "    upper_out = find_outliers(data1=df, col=i)[1]\n",
    "    df_out = len(df[(df[i]<lower_out)|(df[i]>upper_out)][i].values)\n",
    "    print(i.upper()+':',df_out,'\\n')"
   ]
  },
  {
   "cell_type": "markdown",
   "metadata": {
    "papermill": {
     "duration": 0.104851,
     "end_time": "2021-04-28T18:24:20.166114",
     "exception": false,
     "start_time": "2021-04-28T18:24:20.061263",
     "status": "completed"
    },
    "tags": []
   },
   "source": [
    "Выбросов в данных много и часть из них наверняка есть в тестовой выборке. Удалять не вариант"
   ]
  },
  {
   "cell_type": "markdown",
   "metadata": {
    "papermill": {
     "duration": 0.10385,
     "end_time": "2021-04-28T18:24:20.374577",
     "exception": false,
     "start_time": "2021-04-28T18:24:20.270727",
     "status": "completed"
    },
    "tags": []
   },
   "source": [
    "decline_app_cnt"
   ]
  },
  {
   "cell_type": "code",
   "execution_count": 37,
   "metadata": {
    "execution": {
     "iopub.execute_input": "2021-04-28T18:24:20.588339Z",
     "iopub.status.busy": "2021-04-28T18:24:20.587266Z",
     "iopub.status.idle": "2021-04-28T18:24:20.601002Z",
     "shell.execute_reply": "2021-04-28T18:24:20.601467Z"
    },
    "papermill": {
     "duration": 0.122438,
     "end_time": "2021-04-28T18:24:20.601633",
     "exception": false,
     "start_time": "2021-04-28T18:24:20.479195",
     "status": "completed"
    },
    "tags": []
   },
   "outputs": [
    {
     "data": {
      "text/plain": [
       "0.000000    61214\n",
       "0.693147     8397\n",
       "1.098612     2468\n",
       "1.386294      903\n",
       "1.609438      414\n",
       "1.791759      165\n",
       "1.945910      113\n",
       "2.079442       48\n",
       "2.302585       24\n",
       "2.197225       19\n",
       "2.397895       11\n",
       "2.484907        9\n",
       "2.639057        3\n",
       "2.708050        2\n",
       "2.833213        2\n",
       "2.564949        2\n",
       "2.772589        1\n",
       "3.218876        1\n",
       "3.526361        1\n",
       "2.995732        1\n",
       "3.135494        1\n",
       "Name: decline_app_cnt, dtype: int64"
      ]
     },
     "execution_count": 37,
     "metadata": {},
     "output_type": "execute_result"
    }
   ],
   "source": [
    "# В тренировочной выборке такие данные\n",
    "df[df['sample']==1]['decline_app_cnt'].value_counts()"
   ]
  },
  {
   "cell_type": "code",
   "execution_count": 38,
   "metadata": {
    "execution": {
     "iopub.execute_input": "2021-04-28T18:24:20.814917Z",
     "iopub.status.busy": "2021-04-28T18:24:20.813897Z",
     "iopub.status.idle": "2021-04-28T18:24:20.824327Z",
     "shell.execute_reply": "2021-04-28T18:24:20.823851Z"
    },
    "papermill": {
     "duration": 0.11954,
     "end_time": "2021-04-28T18:24:20.824472",
     "exception": false,
     "start_time": "2021-04-28T18:24:20.704932",
     "status": "completed"
    },
    "tags": []
   },
   "outputs": [
    {
     "data": {
      "text/plain": [
       "0.000000    30257\n",
       "0.693147     4103\n",
       "1.098612     1154\n",
       "1.386294      462\n",
       "1.609438      192\n",
       "1.791759       90\n",
       "1.945910       43\n",
       "2.197225       18\n",
       "2.079442       10\n",
       "2.397895        5\n",
       "2.302585        5\n",
       "2.564949        3\n",
       "2.484907        1\n",
       "2.708050        1\n",
       "3.091042        1\n",
       "3.433987        1\n",
       "2.639057        1\n",
       "3.044522        1\n",
       "2.833213        1\n",
       "Name: decline_app_cnt, dtype: int64"
      ]
     },
     "execution_count": 38,
     "metadata": {},
     "output_type": "execute_result"
    }
   ],
   "source": [
    "# В тестовой выборке такие данные \n",
    "df[df['sample']==0]['decline_app_cnt'].value_counts()"
   ]
  },
  {
   "cell_type": "markdown",
   "metadata": {
    "papermill": {
     "duration": 0.105529,
     "end_time": "2021-04-28T18:24:21.033867",
     "exception": false,
     "start_time": "2021-04-28T18:24:20.928338",
     "status": "completed"
    },
    "tags": []
   },
   "source": [
    "В decline_app_cnt выбросами являются все значения отличные от 0, это получилось из-за того, что очень много значений 0 в данных. Если бы это было не соревнование на kaggle, то я бы в обоих выборках удалил строки, значения которых встречаются очень мало раз. Но в нашем случае так делать нельзя, поэтому придётся оставить эти строки в test. Чтобы модель на предсказании не \"удивлялась\" таким данным, придётся оставить и в train эти строки, это, конечно, почти никак не повлияет на результат, т.к. таких данных слишком мало, но всё же. "
   ]
  },
  {
   "cell_type": "markdown",
   "metadata": {
    "papermill": {
     "duration": 0.104984,
     "end_time": "2021-04-28T18:24:21.243029",
     "exception": false,
     "start_time": "2021-04-28T18:24:21.138045",
     "status": "completed"
    },
    "tags": []
   },
   "source": [
    "SCORE_BKI"
   ]
  },
  {
   "cell_type": "code",
   "execution_count": 39,
   "metadata": {
    "execution": {
     "iopub.execute_input": "2021-04-28T18:24:21.464941Z",
     "iopub.status.busy": "2021-04-28T18:24:21.464220Z",
     "iopub.status.idle": "2021-04-28T18:24:21.467698Z",
     "shell.execute_reply": "2021-04-28T18:24:21.466716Z"
    },
    "papermill": {
     "duration": 0.119816,
     "end_time": "2021-04-28T18:24:21.467837",
     "exception": false,
     "start_time": "2021-04-28T18:24:21.348021",
     "status": "completed"
    },
    "tags": []
   },
   "outputs": [],
   "source": [
    "def replace_for_median(data1, col):\n",
    "    \"\"\"Заменяет выбросы на медиану, если это улучшит значимость признака\"\"\"\n",
    "    try:\n",
    "        df_train = data1[data1['sample']==1] # выбираем только строки, где была известа default.\n",
    "        \n",
    "        # считаем значимость переменной до замены\n",
    "        significance_before = pd.Series(f_classif(df_train[num_cols], df_train['default'])[0], index = num_cols)[col]\n",
    "        \n",
    "        # находим верхние и нижние границы до замены.\n",
    "        lower_out = find_outliers(data1=data1, col=col)[0]\n",
    "        upper_out = find_outliers(data1=data1, col=col)[1]\n",
    "        \n",
    "        # находим индексы строк, в которых есть выбросы\n",
    "        index_list = data1[(data[col]<lower_out)|(data1[col]>upper_out)][col].index\n",
    "        \n",
    "        # сделаем копию датасета для проверки\n",
    "        data1_copy = data1.copy()\n",
    "        \n",
    "        # заменяем выбросы на медиану в копии\n",
    "        data1_copy.loc[index_list,col] = data1_copy.loc[index_list][col].apply(lambda x: data1_copy[col].median())\n",
    "        data1_copy = data1_copy[data1_copy['sample']==1]\n",
    "        \n",
    "        significance_after = pd.Series(f_classif(data1_copy[num_cols], data1_copy['default'])[0], index = num_cols)[col]\n",
    "        \n",
    "        if significance_before <= significance_after:\n",
    "            print('Значимость переменной улучшилась')\n",
    "            data1.loc[index_list,col] = data1.loc[index_list][col].apply(lambda x: data1[col].median())\n",
    "            \n",
    "            # если после замены границы не совпадают, значит замена прошла успешно и выводится сообщение об этом.\n",
    "            lower_out2 = find_outliers(data1=data1, col=col)[0]\n",
    "            upper_out2 = find_outliers(data1=data1, col=col)[1]\n",
    "            \n",
    "            if (lower_out2 != lower_out) and (upper_out2 != upper_out):\n",
    "                return 'Function replaced values successfully'\n",
    "        else: return('Значимость модели не улучшилась, поэтому замены не произошло')\n",
    "        \n",
    "        \n",
    "    except: return 'Error message'\n",
    "        "
   ]
  },
  {
   "cell_type": "code",
   "execution_count": 40,
   "metadata": {
    "execution": {
     "iopub.execute_input": "2021-04-28T18:24:21.683858Z",
     "iopub.status.busy": "2021-04-28T18:24:21.683187Z",
     "iopub.status.idle": "2021-04-28T18:24:21.703590Z",
     "shell.execute_reply": "2021-04-28T18:24:21.703098Z"
    },
    "papermill": {
     "duration": 0.131528,
     "end_time": "2021-04-28T18:24:21.703742",
     "exception": false,
     "start_time": "2021-04-28T18:24:21.572214",
     "status": "completed"
    },
    "tags": []
   },
   "outputs": [
    {
     "name": "stdout",
     "output_type": "stream",
     "text": [
      "Границы: -3.299251946250001 -0.5290698762499992\n"
     ]
    },
    {
     "data": {
      "text/plain": [
       "56      -0.500103\n",
       "80      -0.266137\n",
       "235     -0.275273\n",
       "429     -0.523215\n",
       "446     -0.523830\n",
       "           ...   \n",
       "72993   -0.012303\n",
       "73265   -0.470095\n",
       "73367   -0.281990\n",
       "73478   -3.395724\n",
       "73644   -0.459329\n",
       "Name: score_bki, Length: 340, dtype: float64"
      ]
     },
     "execution_count": 40,
     "metadata": {},
     "output_type": "execute_result"
    }
   ],
   "source": [
    "# В тренировочной выборке такие данные\n",
    "lower_out = find_outliers(data1=df, col='score_bki')[0]\n",
    "upper_out = find_outliers(data1=df, col='score_bki')[1]\n",
    "print('Границы:',lower_out,upper_out)\n",
    "df[(df['sample']==1)&((df['score_bki']<lower_out)|(df['score_bki']>upper_out))]['score_bki']"
   ]
  },
  {
   "cell_type": "code",
   "execution_count": 41,
   "metadata": {
    "execution": {
     "iopub.execute_input": "2021-04-28T18:24:21.921546Z",
     "iopub.status.busy": "2021-04-28T18:24:21.920900Z",
     "iopub.status.idle": "2021-04-28T18:24:21.941582Z",
     "shell.execute_reply": "2021-04-28T18:24:21.942054Z"
    },
    "papermill": {
     "duration": 0.132917,
     "end_time": "2021-04-28T18:24:21.942222",
     "exception": false,
     "start_time": "2021-04-28T18:24:21.809305",
     "status": "completed"
    },
    "tags": []
   },
   "outputs": [
    {
     "name": "stdout",
     "output_type": "stream",
     "text": [
      "Границы: -3.299251946250001 -0.5290698762499992\n"
     ]
    },
    {
     "data": {
      "text/plain": [
       "73912    -0.138353\n",
       "73955    -0.336232\n",
       "74064    -0.504570\n",
       "74504    -0.475228\n",
       "74635    -0.113810\n",
       "            ...   \n",
       "108867   -0.381574\n",
       "109604   -3.543406\n",
       "109720   -0.454367\n",
       "109829   -0.525054\n",
       "110025   -0.305878\n",
       "Name: score_bki, Length: 178, dtype: float64"
      ]
     },
     "execution_count": 41,
     "metadata": {},
     "output_type": "execute_result"
    }
   ],
   "source": [
    "# В тестовой выборке такие данные\n",
    "lower_out = find_outliers(data1=df, col='score_bki')[0]\n",
    "upper_out = find_outliers(data1=df, col='score_bki')[1]\n",
    "print('Границы:',lower_out,upper_out)\n",
    "df[(df['sample']==0)&((df['score_bki']<lower_out)|(df['score_bki']>upper_out))]['score_bki']"
   ]
  },
  {
   "cell_type": "code",
   "execution_count": 42,
   "metadata": {
    "execution": {
     "iopub.execute_input": "2021-04-28T18:24:22.161043Z",
     "iopub.status.busy": "2021-04-28T18:24:22.160340Z",
     "iopub.status.idle": "2021-04-28T18:24:23.104027Z",
     "shell.execute_reply": "2021-04-28T18:24:23.103387Z"
    },
    "papermill": {
     "duration": 1.05478,
     "end_time": "2021-04-28T18:24:23.104164",
     "exception": false,
     "start_time": "2021-04-28T18:24:22.049384",
     "status": "completed"
    },
    "tags": []
   },
   "outputs": [
    {
     "data": {
      "text/plain": [
       "'Значимость модели не улучшилась, поэтому замены не произошло'"
      ]
     },
     "execution_count": 42,
     "metadata": {},
     "output_type": "execute_result"
    }
   ],
   "source": [
    "# Заменим в train и test выбросы на медиану, т.к. в тестовой выборке мало выбросов и медиана не будет равняться моде, в отличие от decline_app_cnt.\n",
    "replace_for_median(data1=df, col='score_bki')"
   ]
  },
  {
   "cell_type": "markdown",
   "metadata": {
    "papermill": {
     "duration": 0.106396,
     "end_time": "2021-04-28T18:24:23.318642",
     "exception": false,
     "start_time": "2021-04-28T18:24:23.212246",
     "status": "completed"
    },
    "tags": []
   },
   "source": [
    "INCOME"
   ]
  },
  {
   "cell_type": "code",
   "execution_count": 43,
   "metadata": {
    "execution": {
     "iopub.execute_input": "2021-04-28T18:24:23.537864Z",
     "iopub.status.busy": "2021-04-28T18:24:23.537224Z",
     "iopub.status.idle": "2021-04-28T18:24:23.559394Z",
     "shell.execute_reply": "2021-04-28T18:24:23.560054Z"
    },
    "papermill": {
     "duration": 0.134939,
     "end_time": "2021-04-28T18:24:23.560278",
     "exception": false,
     "start_time": "2021-04-28T18:24:23.425339",
     "status": "completed"
    },
    "tags": []
   },
   "outputs": [
    {
     "name": "stdout",
     "output_type": "stream",
     "text": [
      "Границы: 8.590378193705899 12.092136480586621\n"
     ]
    },
    {
     "data": {
      "text/plain": [
       "54       12.206078\n",
       "72       12.765691\n",
       "94        8.517393\n",
       "101       8.517393\n",
       "176       8.517393\n",
       "           ...    \n",
       "73491    12.206078\n",
       "73562    12.429220\n",
       "73569    12.100718\n",
       "73731    12.206078\n",
       "73740    12.206078\n",
       "Name: income, Length: 1767, dtype: float64"
      ]
     },
     "execution_count": 43,
     "metadata": {},
     "output_type": "execute_result"
    }
   ],
   "source": [
    "# В тренировочной выборке такие данные\n",
    "lower_out = find_outliers(data1=df, col='income')[0]\n",
    "upper_out = find_outliers(data1=df, col='income')[1]\n",
    "print('Границы:',lower_out,upper_out)\n",
    "df[(df['sample']==1)&((df['income']<lower_out)|(df['income']>upper_out))]['income']"
   ]
  },
  {
   "cell_type": "code",
   "execution_count": 44,
   "metadata": {
    "execution": {
     "iopub.execute_input": "2021-04-28T18:24:23.785094Z",
     "iopub.status.busy": "2021-04-28T18:24:23.784421Z",
     "iopub.status.idle": "2021-04-28T18:24:23.805565Z",
     "shell.execute_reply": "2021-04-28T18:24:23.805086Z"
    },
    "papermill": {
     "duration": 0.137854,
     "end_time": "2021-04-28T18:24:23.805717",
     "exception": false,
     "start_time": "2021-04-28T18:24:23.667863",
     "status": "completed"
    },
    "tags": []
   },
   "outputs": [
    {
     "name": "stdout",
     "output_type": "stream",
     "text": [
      "Границы: 8.590378193705899 12.092136480586621\n"
     ]
    },
    {
     "data": {
      "text/plain": [
       "73800      8.517393\n",
       "73807      8.517393\n",
       "73972     12.206078\n",
       "73997     12.206078\n",
       "74064     12.388398\n",
       "            ...    \n",
       "109909    12.520887\n",
       "110024     8.517393\n",
       "110033     8.517393\n",
       "110135    12.429220\n",
       "110144    12.206078\n",
       "Name: income, Length: 842, dtype: float64"
      ]
     },
     "execution_count": 44,
     "metadata": {},
     "output_type": "execute_result"
    }
   ],
   "source": [
    "# В тестовой выборке такие данные\n",
    "lower_out = find_outliers(data1=df, col='income')[0]\n",
    "upper_out = find_outliers(data1=df, col='income')[1]\n",
    "print('Границы:',lower_out,upper_out)\n",
    "df[(df['sample']==0)&((df['income']<lower_out)|(df['income']>upper_out))]['income']"
   ]
  },
  {
   "cell_type": "code",
   "execution_count": 45,
   "metadata": {
    "execution": {
     "iopub.execute_input": "2021-04-28T18:24:24.028331Z",
     "iopub.status.busy": "2021-04-28T18:24:24.027365Z",
     "iopub.status.idle": "2021-04-28T18:24:35.205928Z",
     "shell.execute_reply": "2021-04-28T18:24:35.206704Z"
    },
    "papermill": {
     "duration": 11.294075,
     "end_time": "2021-04-28T18:24:35.207055",
     "exception": false,
     "start_time": "2021-04-28T18:24:23.912980",
     "status": "completed"
    },
    "tags": []
   },
   "outputs": [
    {
     "name": "stdout",
     "output_type": "stream",
     "text": [
      "Значимость переменной улучшилась\n"
     ]
    },
    {
     "data": {
      "text/plain": [
       "'Function replaced values successfully'"
      ]
     },
     "execution_count": 45,
     "metadata": {},
     "output_type": "execute_result"
    }
   ],
   "source": [
    "# Заменим в train и test выбросы на медиану\n",
    "replace_for_median(data1=df,col='income')"
   ]
  },
  {
   "cell_type": "markdown",
   "metadata": {
    "papermill": {
     "duration": 0.10858,
     "end_time": "2021-04-28T18:24:35.446489",
     "exception": false,
     "start_time": "2021-04-28T18:24:35.337909",
     "status": "completed"
    },
    "tags": []
   },
   "source": [
    "BKI_REQUEST_CNT"
   ]
  },
  {
   "cell_type": "code",
   "execution_count": 46,
   "metadata": {
    "execution": {
     "iopub.execute_input": "2021-04-28T18:24:35.671277Z",
     "iopub.status.busy": "2021-04-28T18:24:35.670621Z",
     "iopub.status.idle": "2021-04-28T18:24:35.690559Z",
     "shell.execute_reply": "2021-04-28T18:24:35.691248Z"
    },
    "papermill": {
     "duration": 0.136125,
     "end_time": "2021-04-28T18:24:35.691457",
     "exception": false,
     "start_time": "2021-04-28T18:24:35.555332",
     "status": "completed"
    },
    "tags": []
   },
   "outputs": [
    {
     "name": "stdout",
     "output_type": "stream",
     "text": [
      "Границы: -2.0794415416798357 3.465735902799726\n"
     ]
    },
    {
     "data": {
      "text/plain": [
       "655      3.555348\n",
       "8944     3.496508\n",
       "19275    3.496508\n",
       "25661    3.610918\n",
       "27639    3.988984\n",
       "33206    3.828641\n",
       "39719    3.526361\n",
       "55405    3.737670\n",
       "67718    3.850148\n",
       "Name: bki_request_cnt, dtype: float64"
      ]
     },
     "execution_count": 46,
     "metadata": {},
     "output_type": "execute_result"
    }
   ],
   "source": [
    "# В тренировочной выборке такие данные\n",
    "lower_out = find_outliers(data1=df, col='bki_request_cnt')[0]\n",
    "upper_out = find_outliers(data1=df, col='bki_request_cnt')[1]\n",
    "print('Границы:',lower_out,upper_out)\n",
    "df[(df['sample']==1)&((df['bki_request_cnt']<lower_out)|(df['bki_request_cnt']>upper_out))]['bki_request_cnt']"
   ]
  },
  {
   "cell_type": "code",
   "execution_count": 47,
   "metadata": {
    "execution": {
     "iopub.execute_input": "2021-04-28T18:24:35.917240Z",
     "iopub.status.busy": "2021-04-28T18:24:35.916603Z",
     "iopub.status.idle": "2021-04-28T18:24:35.936901Z",
     "shell.execute_reply": "2021-04-28T18:24:35.936204Z"
    },
    "papermill": {
     "duration": 0.135979,
     "end_time": "2021-04-28T18:24:35.937080",
     "exception": false,
     "start_time": "2021-04-28T18:24:35.801101",
     "status": "completed"
    },
    "tags": []
   },
   "outputs": [
    {
     "name": "stdout",
     "output_type": "stream",
     "text": [
      "Границы: -2.0794415416798357 3.465735902799726\n"
     ]
    },
    {
     "data": {
      "text/plain": [
       "79300     3.871201\n",
       "81804     3.526361\n",
       "89283     3.496508\n",
       "89336     3.713572\n",
       "91681     3.496508\n",
       "103220    3.713572\n",
       "Name: bki_request_cnt, dtype: float64"
      ]
     },
     "execution_count": 47,
     "metadata": {},
     "output_type": "execute_result"
    }
   ],
   "source": [
    "# В тестовой выборке такие данные\n",
    "lower_out = find_outliers(data1=df, col='bki_request_cnt')[0]\n",
    "upper_out = find_outliers(data1=df, col='bki_request_cnt')[1]\n",
    "print('Границы:',lower_out,upper_out)\n",
    "df[(df['sample']==0)&((df['bki_request_cnt']<lower_out)|(df['bki_request_cnt']>upper_out))]['bki_request_cnt']"
   ]
  },
  {
   "cell_type": "code",
   "execution_count": 48,
   "metadata": {
    "execution": {
     "iopub.execute_input": "2021-04-28T18:24:36.167735Z",
     "iopub.status.busy": "2021-04-28T18:24:36.167095Z",
     "iopub.status.idle": "2021-04-28T18:24:36.290985Z",
     "shell.execute_reply": "2021-04-28T18:24:36.290446Z"
    },
    "papermill": {
     "duration": 0.242713,
     "end_time": "2021-04-28T18:24:36.291130",
     "exception": false,
     "start_time": "2021-04-28T18:24:36.048417",
     "status": "completed"
    },
    "tags": []
   },
   "outputs": [
    {
     "data": {
      "text/plain": [
       "'Значимость модели не улучшилась, поэтому замены не произошло'"
      ]
     },
     "execution_count": 48,
     "metadata": {},
     "output_type": "execute_result"
    }
   ],
   "source": [
    "# Заменим в train и test выбросы на медиану\n",
    "replace_for_median(data1=df,col='bki_request_cnt')"
   ]
  },
  {
   "cell_type": "markdown",
   "metadata": {
    "papermill": {
     "duration": 0.110672,
     "end_time": "2021-04-28T18:24:36.512523",
     "exception": false,
     "start_time": "2021-04-28T18:24:36.401851",
     "status": "completed"
    },
    "tags": []
   },
   "source": [
    "MEAN_INCOME_AGE"
   ]
  },
  {
   "cell_type": "code",
   "execution_count": 49,
   "metadata": {
    "execution": {
     "iopub.execute_input": "2021-04-28T18:24:36.740576Z",
     "iopub.status.busy": "2021-04-28T18:24:36.739883Z",
     "iopub.status.idle": "2021-04-28T18:24:36.761918Z",
     "shell.execute_reply": "2021-04-28T18:24:36.761409Z"
    },
    "papermill": {
     "duration": 0.138686,
     "end_time": "2021-04-28T18:24:36.762056",
     "exception": false,
     "start_time": "2021-04-28T18:24:36.623370",
     "status": "completed"
    },
    "tags": []
   },
   "outputs": [
    {
     "name": "stdout",
     "output_type": "stream",
     "text": [
      "Границы: 10.096765980049959 10.653013305170418\n"
     ]
    },
    {
     "data": {
      "text/plain": [
       "0         9.917638\n",
       "1         9.997499\n",
       "17        9.917638\n",
       "21       10.066572\n",
       "22        9.997499\n",
       "           ...    \n",
       "73729     9.814469\n",
       "73759     9.934717\n",
       "73763     9.830325\n",
       "73764     9.973194\n",
       "73788     9.830325\n",
       "Name: mean_income_age, Length: 6080, dtype: float64"
      ]
     },
     "execution_count": 49,
     "metadata": {},
     "output_type": "execute_result"
    }
   ],
   "source": [
    "# В тренировочной выборке такие данные\n",
    "lower_out = find_outliers(data1=df, col='mean_income_age')[0]\n",
    "upper_out = find_outliers(data1=df, col='mean_income_age')[1]\n",
    "print('Границы:',lower_out,upper_out)\n",
    "df[(df['sample']==1)&((df['mean_income_age']<lower_out)|(df['mean_income_age']>upper_out))]['mean_income_age']"
   ]
  },
  {
   "cell_type": "code",
   "execution_count": 50,
   "metadata": {
    "execution": {
     "iopub.execute_input": "2021-04-28T18:24:36.995402Z",
     "iopub.status.busy": "2021-04-28T18:24:36.994737Z",
     "iopub.status.idle": "2021-04-28T18:24:37.017148Z",
     "shell.execute_reply": "2021-04-28T18:24:37.016615Z"
    },
    "papermill": {
     "duration": 0.141752,
     "end_time": "2021-04-28T18:24:37.017279",
     "exception": false,
     "start_time": "2021-04-28T18:24:36.875527",
     "status": "completed"
    },
    "tags": []
   },
   "outputs": [
    {
     "name": "stdout",
     "output_type": "stream",
     "text": [
      "Границы: 10.096765980049959 10.653013305170418\n"
     ]
    },
    {
     "data": {
      "text/plain": [
       "73822      9.934717\n",
       "73856      9.934717\n",
       "73881      9.934717\n",
       "73890      9.875965\n",
       "73893      9.997499\n",
       "            ...    \n",
       "110088     9.578327\n",
       "110116     9.973194\n",
       "110128     9.973194\n",
       "110141    10.066572\n",
       "110144     9.818519\n",
       "Name: mean_income_age, Length: 2991, dtype: float64"
      ]
     },
     "execution_count": 50,
     "metadata": {},
     "output_type": "execute_result"
    }
   ],
   "source": [
    "# В тестовой выборке такие данные\n",
    "lower_out = find_outliers(data1=df, col='mean_income_age')[0]\n",
    "upper_out = find_outliers(data1=df, col='mean_income_age')[1]\n",
    "print('Границы:',lower_out,upper_out)\n",
    "df[(df['sample']==0)&((df['mean_income_age']<lower_out)|(df['mean_income_age']>upper_out))]['mean_income_age']"
   ]
  },
  {
   "cell_type": "code",
   "execution_count": 51,
   "metadata": {
    "execution": {
     "iopub.execute_input": "2021-04-28T18:24:37.247197Z",
     "iopub.status.busy": "2021-04-28T18:24:37.246566Z",
     "iopub.status.idle": "2021-04-28T18:24:37.294702Z",
     "shell.execute_reply": "2021-04-28T18:24:37.295219Z"
    },
    "papermill": {
     "duration": 0.165642,
     "end_time": "2021-04-28T18:24:37.295400",
     "exception": false,
     "start_time": "2021-04-28T18:24:37.129758",
     "status": "completed"
    },
    "tags": []
   },
   "outputs": [
    {
     "data": {
      "text/plain": [
       "'Error message'"
      ]
     },
     "execution_count": 51,
     "metadata": {},
     "output_type": "execute_result"
    }
   ],
   "source": [
    "replace_for_median(data1=df,col='mean_income_age')"
   ]
  },
  {
   "cell_type": "markdown",
   "metadata": {
    "papermill": {
     "duration": 0.114842,
     "end_time": "2021-04-28T18:24:37.525053",
     "exception": false,
     "start_time": "2021-04-28T18:24:37.410211",
     "status": "completed"
    },
    "tags": []
   },
   "source": [
    "Выскакивает ошибка, что-то не получилось посчитать. Скорее всего из-за того, что мы добавили признак mean_income_age по данным, в которых были выбросы, а именно по income.\n",
    "Попробуем добавить такой же признак и посмотреть, если ничего не изменится, то дело в другом. Так же в этом столбце поидее не должно быть выбросов, т.к. он сформирован искуственно.\n",
    "Скорее всего есть выбросы, потому что признак сформирован по \"неочищенному\" столбцу income."
   ]
  },
  {
   "cell_type": "code",
   "execution_count": 52,
   "metadata": {
    "execution": {
     "iopub.execute_input": "2021-04-28T18:24:37.756577Z",
     "iopub.status.busy": "2021-04-28T18:24:37.755980Z",
     "iopub.status.idle": "2021-04-28T18:24:37.763628Z",
     "shell.execute_reply": "2021-04-28T18:24:37.763130Z"
    },
    "papermill": {
     "duration": 0.125738,
     "end_time": "2021-04-28T18:24:37.763782",
     "exception": false,
     "start_time": "2021-04-28T18:24:37.638044",
     "status": "completed"
    },
    "tags": []
   },
   "outputs": [],
   "source": [
    "mean_income_2 = df.groupby('age')['income'].mean().to_dict()\n",
    "df['mean_income_age2'] = df['age'].map(mean_income)"
   ]
  },
  {
   "cell_type": "code",
   "execution_count": 53,
   "metadata": {
    "execution": {
     "iopub.execute_input": "2021-04-28T18:24:37.999383Z",
     "iopub.status.busy": "2021-04-28T18:24:37.997444Z",
     "iopub.status.idle": "2021-04-28T18:24:38.039221Z",
     "shell.execute_reply": "2021-04-28T18:24:38.039744Z"
    },
    "papermill": {
     "duration": 0.161493,
     "end_time": "2021-04-28T18:24:38.039935",
     "exception": false,
     "start_time": "2021-04-28T18:24:37.878442",
     "status": "completed"
    },
    "tags": []
   },
   "outputs": [
    {
     "data": {
      "text/plain": [
       "'Error message'"
      ]
     },
     "execution_count": 53,
     "metadata": {},
     "output_type": "execute_result"
    }
   ],
   "source": [
    "replace_for_median(data1=df,col='mean_income_age2') # Так же выскакивает ошибка, значит что-то не так с самой функцией."
   ]
  },
  {
   "cell_type": "markdown",
   "metadata": {
    "papermill": {
     "duration": 0.113627,
     "end_time": "2021-04-28T18:24:38.268634",
     "exception": false,
     "start_time": "2021-04-28T18:24:38.155007",
     "status": "completed"
    },
    "tags": []
   },
   "source": [
    "REGION_RATING"
   ]
  },
  {
   "cell_type": "code",
   "execution_count": 54,
   "metadata": {
    "execution": {
     "iopub.execute_input": "2021-04-28T18:24:38.501072Z",
     "iopub.status.busy": "2021-04-28T18:24:38.500364Z",
     "iopub.status.idle": "2021-04-28T18:24:38.526362Z",
     "shell.execute_reply": "2021-04-28T18:24:38.526871Z"
    },
    "papermill": {
     "duration": 0.142049,
     "end_time": "2021-04-28T18:24:38.527033",
     "exception": false,
     "start_time": "2021-04-28T18:24:38.384984",
     "status": "completed"
    },
    "tags": []
   },
   "outputs": [
    {
     "name": "stdout",
     "output_type": "stream",
     "text": [
      "Границы: 35.0 75.0\n"
     ]
    },
    {
     "data": {
      "text/plain": [
       "2        80\n",
       "10       80\n",
       "28       80\n",
       "31       20\n",
       "33       80\n",
       "         ..\n",
       "73784    80\n",
       "73786    30\n",
       "73792    80\n",
       "73793    80\n",
       "73796    80\n",
       "Name: region_rating, Length: 11975, dtype: int64"
      ]
     },
     "execution_count": 54,
     "metadata": {},
     "output_type": "execute_result"
    }
   ],
   "source": [
    "# В тренировочной выборке такие данные\n",
    "lower_out = find_outliers(data1=df, col='region_rating')[0]\n",
    "upper_out = find_outliers(data1=df, col='region_rating')[1]\n",
    "print('Границы:',lower_out,upper_out)\n",
    "df[(df['sample']==1)&((df['region_rating']<lower_out)|(df['region_rating']>upper_out))]['region_rating']"
   ]
  },
  {
   "cell_type": "code",
   "execution_count": 55,
   "metadata": {
    "execution": {
     "iopub.execute_input": "2021-04-28T18:24:38.759354Z",
     "iopub.status.busy": "2021-04-28T18:24:38.758146Z",
     "iopub.status.idle": "2021-04-28T18:24:38.784848Z",
     "shell.execute_reply": "2021-04-28T18:24:38.784045Z"
    },
    "papermill": {
     "duration": 0.143788,
     "end_time": "2021-04-28T18:24:38.785034",
     "exception": false,
     "start_time": "2021-04-28T18:24:38.641246",
     "status": "completed"
    },
    "tags": []
   },
   "outputs": [
    {
     "name": "stdout",
     "output_type": "stream",
     "text": [
      "Границы: 35.0 75.0\n"
     ]
    },
    {
     "data": {
      "text/plain": [
       "73803     80\n",
       "73807     80\n",
       "73808     80\n",
       "73820     20\n",
       "73822     80\n",
       "          ..\n",
       "110092    80\n",
       "110096    80\n",
       "110112    80\n",
       "110121    80\n",
       "110146    80\n",
       "Name: region_rating, Length: 5942, dtype: int64"
      ]
     },
     "execution_count": 55,
     "metadata": {},
     "output_type": "execute_result"
    }
   ],
   "source": [
    "# В тестовой выборке такие данные\n",
    "lower_out = find_outliers(data1=df, col='region_rating')[0]\n",
    "upper_out = find_outliers(data1=df, col='region_rating')[1]\n",
    "print('Границы:',lower_out,upper_out)\n",
    "df[(df['sample']==0)&((df['region_rating']<lower_out)|(df['region_rating']>upper_out))]['region_rating']"
   ]
  },
  {
   "cell_type": "markdown",
   "metadata": {
    "papermill": {
     "duration": 0.116841,
     "end_time": "2021-04-28T18:24:39.018148",
     "exception": false,
     "start_time": "2021-04-28T18:24:38.901307",
     "status": "completed"
    },
    "tags": []
   },
   "source": [
    "С рейтингами регионов ничего делать не будем, т.к. это немного другие числовые признаки. Здесь могут быть только выбрасы с совсем экстремальными числами или другим форматом данных, но таких значений нет"
   ]
  },
  {
   "cell_type": "markdown",
   "metadata": {
    "papermill": {
     "duration": 0.114347,
     "end_time": "2021-04-28T18:24:39.248330",
     "exception": false,
     "start_time": "2021-04-28T18:24:39.133983",
     "status": "completed"
    },
    "tags": []
   },
   "source": [
    "MAX_INCOME_AGE"
   ]
  },
  {
   "cell_type": "code",
   "execution_count": 56,
   "metadata": {
    "execution": {
     "iopub.execute_input": "2021-04-28T18:24:39.488447Z",
     "iopub.status.busy": "2021-04-28T18:24:39.487496Z",
     "iopub.status.idle": "2021-04-28T18:24:39.509747Z",
     "shell.execute_reply": "2021-04-28T18:24:39.509223Z"
    },
    "papermill": {
     "duration": 0.146206,
     "end_time": "2021-04-28T18:24:39.509902",
     "exception": false,
     "start_time": "2021-04-28T18:24:39.363696",
     "status": "completed"
    },
    "tags": []
   },
   "outputs": [
    {
     "name": "stdout",
     "output_type": "stream",
     "text": [
      "Границы: 12.661925126223323 14.506062618075909\n"
     ]
    },
    {
     "data": {
      "text/plain": [
       "0        12.611541\n",
       "17       12.611541\n",
       "32       12.611541\n",
       "37       12.611541\n",
       "61       11.849405\n",
       "           ...    \n",
       "73616    12.206078\n",
       "73673    12.206078\n",
       "73724    12.611541\n",
       "73763    12.206078\n",
       "73788    12.206078\n",
       "Name: max_income_age, Length: 2954, dtype: float64"
      ]
     },
     "execution_count": 56,
     "metadata": {},
     "output_type": "execute_result"
    }
   ],
   "source": [
    "# В тренировочной выборке такие данные\n",
    "lower_out = find_outliers(data1=df, col='max_income_age')[0]\n",
    "upper_out = find_outliers(data1=df, col='max_income_age')[1]\n",
    "print('Границы:',lower_out,upper_out)\n",
    "df[(df['sample']==1)&((df['max_income_age']<lower_out)|(df['max_income_age']>upper_out))]['max_income_age']"
   ]
  },
  {
   "cell_type": "code",
   "execution_count": 57,
   "metadata": {
    "execution": {
     "iopub.execute_input": "2021-04-28T18:24:39.751528Z",
     "iopub.status.busy": "2021-04-28T18:24:39.750582Z",
     "iopub.status.idle": "2021-04-28T18:24:39.772104Z",
     "shell.execute_reply": "2021-04-28T18:24:39.771485Z"
    },
    "papermill": {
     "duration": 0.143751,
     "end_time": "2021-04-28T18:24:39.772236",
     "exception": false,
     "start_time": "2021-04-28T18:24:39.628485",
     "status": "completed"
    },
    "tags": []
   },
   "outputs": [
    {
     "name": "stdout",
     "output_type": "stream",
     "text": [
      "Границы: 12.661925126223323 14.506062618075909\n"
     ]
    },
    {
     "data": {
      "text/plain": [
       "73854     12.206078\n",
       "73871     12.206078\n",
       "73895     12.206078\n",
       "73906     11.849405\n",
       "73943     12.206078\n",
       "            ...    \n",
       "110020    12.206078\n",
       "110055    12.206078\n",
       "110088    11.002117\n",
       "110121    12.206078\n",
       "110124    11.849405\n",
       "Name: max_income_age, Length: 1489, dtype: float64"
      ]
     },
     "execution_count": 57,
     "metadata": {},
     "output_type": "execute_result"
    }
   ],
   "source": [
    "# В тестовой выборке такие данные\n",
    "lower_out = find_outliers(data1=df, col='max_income_age')[0]\n",
    "upper_out = find_outliers(data1=df, col='max_income_age')[1]\n",
    "print('Границы:',lower_out,upper_out)\n",
    "df[(df['sample']==0)&((df['max_income_age']<lower_out)|(df['max_income_age']>upper_out))]['max_income_age']"
   ]
  },
  {
   "cell_type": "code",
   "execution_count": 58,
   "metadata": {
    "execution": {
     "iopub.execute_input": "2021-04-28T18:24:40.015081Z",
     "iopub.status.busy": "2021-04-28T18:24:40.014384Z",
     "iopub.status.idle": "2021-04-28T18:24:40.060429Z",
     "shell.execute_reply": "2021-04-28T18:24:40.059908Z"
    },
    "papermill": {
     "duration": 0.170812,
     "end_time": "2021-04-28T18:24:40.060562",
     "exception": false,
     "start_time": "2021-04-28T18:24:39.889750",
     "status": "completed"
    },
    "tags": []
   },
   "outputs": [
    {
     "data": {
      "text/plain": [
       "'Error message'"
      ]
     },
     "execution_count": 58,
     "metadata": {},
     "output_type": "execute_result"
    }
   ],
   "source": [
    "replace_for_median(data1=df,col='max_income_age')"
   ]
  },
  {
   "cell_type": "markdown",
   "metadata": {
    "papermill": {
     "duration": 0.116868,
     "end_time": "2021-04-28T18:24:40.293859",
     "exception": false,
     "start_time": "2021-04-28T18:24:40.176991",
     "status": "completed"
    },
    "tags": []
   },
   "source": [
    "Ошибка получается только у сгенерированных признаков, она получается из-за того, что в функции есть условие, которое сравнивает значения границ у выбросов, а границы у признаков равны. Если условие не срабатывает, т.е. границы до и после преобразования равны, то функция не знает что делать дальше, поэтому она выводит ошибку."
   ]
  },
  {
   "cell_type": "markdown",
   "metadata": {
    "papermill": {
     "duration": 0.119675,
     "end_time": "2021-04-28T18:24:40.531983",
     "exception": false,
     "start_time": "2021-04-28T18:24:40.412308",
     "status": "completed"
    },
    "tags": []
   },
   "source": [
    "NORMALIZED_INCOME"
   ]
  },
  {
   "cell_type": "code",
   "execution_count": 59,
   "metadata": {
    "execution": {
     "iopub.execute_input": "2021-04-28T18:24:40.781066Z",
     "iopub.status.busy": "2021-04-28T18:24:40.770376Z",
     "iopub.status.idle": "2021-04-28T18:24:40.818599Z",
     "shell.execute_reply": "2021-04-28T18:24:40.818000Z"
    },
    "papermill": {
     "duration": 0.169842,
     "end_time": "2021-04-28T18:24:40.818754",
     "exception": false,
     "start_time": "2021-04-28T18:24:40.648912",
     "status": "completed"
    },
    "tags": []
   },
   "outputs": [
    {
     "data": {
      "text/plain": [
       "'Error message'"
      ]
     },
     "execution_count": 59,
     "metadata": {},
     "output_type": "execute_result"
    }
   ],
   "source": [
    "replace_for_median(data1=df,col='normalized_income')"
   ]
  },
  {
   "cell_type": "markdown",
   "metadata": {
    "papermill": {
     "duration": 0.118861,
     "end_time": "2021-04-28T18:24:41.055479",
     "exception": false,
     "start_time": "2021-04-28T18:24:40.936618",
     "status": "completed"
    },
    "tags": []
   },
   "source": [
    "С \"выбросами\" остались сгенерированные признаки, поэтому не будем их проверять, т.к. результат будет такой же."
   ]
  },
  {
   "cell_type": "code",
   "execution_count": 60,
   "metadata": {
    "execution": {
     "iopub.execute_input": "2021-04-28T18:24:41.298967Z",
     "iopub.status.busy": "2021-04-28T18:24:41.298308Z",
     "iopub.status.idle": "2021-04-28T18:24:41.303378Z",
     "shell.execute_reply": "2021-04-28T18:24:41.302782Z"
    },
    "papermill": {
     "duration": 0.129978,
     "end_time": "2021-04-28T18:24:41.303523",
     "exception": false,
     "start_time": "2021-04-28T18:24:41.173545",
     "status": "completed"
    },
    "tags": []
   },
   "outputs": [
    {
     "data": {
      "text/plain": [
       "0          9.917638\n",
       "1          9.997499\n",
       "2         10.305359\n",
       "3         10.299262\n",
       "4         10.414138\n",
       "            ...    \n",
       "110143    10.448692\n",
       "110144     9.818519\n",
       "110145    10.444038\n",
       "110146    10.380372\n",
       "110147    10.449307\n",
       "Name: mean_income_age2, Length: 110148, dtype: float64"
      ]
     },
     "execution_count": 60,
     "metadata": {},
     "output_type": "execute_result"
    }
   ],
   "source": [
    "df['mean_income_age2']"
   ]
  },
  {
   "cell_type": "code",
   "execution_count": 61,
   "metadata": {
    "execution": {
     "iopub.execute_input": "2021-04-28T18:24:41.548307Z",
     "iopub.status.busy": "2021-04-28T18:24:41.547249Z",
     "iopub.status.idle": "2021-04-28T18:24:41.551576Z",
     "shell.execute_reply": "2021-04-28T18:24:41.552034Z"
    },
    "papermill": {
     "duration": 0.131029,
     "end_time": "2021-04-28T18:24:41.552206",
     "exception": false,
     "start_time": "2021-04-28T18:24:41.421177",
     "status": "completed"
    },
    "tags": []
   },
   "outputs": [],
   "source": [
    "df.drop('mean_income_age2',axis=1, inplace=True)"
   ]
  },
  {
   "cell_type": "markdown",
   "metadata": {
    "papermill": {
     "duration": 0.118839,
     "end_time": "2021-04-28T18:24:41.788639",
     "exception": false,
     "start_time": "2021-04-28T18:24:41.669800",
     "status": "completed"
    },
    "tags": []
   },
   "source": [
    "# **Посмотрим как распределены бинарные и категорильаные признаки в тестовой и в тренировочной выборке**"
   ]
  },
  {
   "cell_type": "code",
   "execution_count": 62,
   "metadata": {
    "execution": {
     "iopub.execute_input": "2021-04-28T18:24:42.031975Z",
     "iopub.status.busy": "2021-04-28T18:24:42.031014Z",
     "iopub.status.idle": "2021-04-28T18:24:42.081188Z",
     "shell.execute_reply": "2021-04-28T18:24:42.081638Z"
    },
    "papermill": {
     "duration": 0.174592,
     "end_time": "2021-04-28T18:24:42.081830",
     "exception": false,
     "start_time": "2021-04-28T18:24:41.907238",
     "status": "completed"
    },
    "tags": []
   },
   "outputs": [
    {
     "name": "stdout",
     "output_type": "stream",
     "text": [
      "1    56.317836\n",
      "0    43.682164\n",
      "Name: sex, dtype: float64\n",
      "1    67.52395\n",
      "0    32.47605\n",
      "Name: car, dtype: float64\n",
      "1    81.018713\n",
      "0    18.981287\n",
      "Name: car_type, dtype: float64\n",
      "0    83.510617\n",
      "1    16.489383\n",
      "Name: good_work, dtype: float64\n",
      "0    85.005217\n",
      "1    14.994783\n",
      "Name: foreign_passport, dtype: float64\n"
     ]
    }
   ],
   "source": [
    "for i in bin_cols:\n",
    "    print(df[df['sample']==1][i].value_counts(normalize=True)*100)"
   ]
  },
  {
   "cell_type": "code",
   "execution_count": 63,
   "metadata": {
    "execution": {
     "iopub.execute_input": "2021-04-28T18:24:42.324055Z",
     "iopub.status.busy": "2021-04-28T18:24:42.323078Z",
     "iopub.status.idle": "2021-04-28T18:24:42.357967Z",
     "shell.execute_reply": "2021-04-28T18:24:42.358741Z"
    },
    "papermill": {
     "duration": 0.157998,
     "end_time": "2021-04-28T18:24:42.358977",
     "exception": false,
     "start_time": "2021-04-28T18:24:42.200979",
     "status": "completed"
    },
    "tags": []
   },
   "outputs": [
    {
     "name": "stdout",
     "output_type": "stream",
     "text": [
      "1    55.77595\n",
      "0    44.22405\n",
      "Name: sex, dtype: float64\n",
      "1    67.286583\n",
      "0    32.713417\n",
      "Name: car, dtype: float64\n",
      "1    80.742249\n",
      "0    19.257751\n",
      "Name: car_type, dtype: float64\n",
      "0    83.322787\n",
      "1    16.677213\n",
      "Name: good_work, dtype: float64\n",
      "0    85.251314\n",
      "1    14.748686\n",
      "Name: foreign_passport, dtype: float64\n"
     ]
    }
   ],
   "source": [
    "for i in bin_cols:\n",
    "    print(df[df['sample']==0][i].value_counts(normalize=True)*100)"
   ]
  },
  {
   "cell_type": "code",
   "execution_count": 64,
   "metadata": {
    "execution": {
     "iopub.execute_input": "2021-04-28T18:24:42.604032Z",
     "iopub.status.busy": "2021-04-28T18:24:42.602992Z",
     "iopub.status.idle": "2021-04-28T18:24:42.646798Z",
     "shell.execute_reply": "2021-04-28T18:24:42.646231Z"
    },
    "papermill": {
     "duration": 0.168256,
     "end_time": "2021-04-28T18:24:42.646935",
     "exception": false,
     "start_time": "2021-04-28T18:24:42.478679",
     "status": "completed"
    },
    "tags": []
   },
   "outputs": [
    {
     "name": "stdout",
     "output_type": "stream",
     "text": [
      "0    52.656540\n",
      "1    31.660321\n",
      "2    13.300993\n",
      "3     1.703275\n",
      "5     0.415995\n",
      "4     0.262876\n",
      "Name: education, dtype: float64\n",
      "3    60.920880\n",
      "2    27.786284\n",
      "1    11.292836\n",
      "Name: work_address, dtype: float64\n",
      "2    54.141655\n",
      "1    44.153715\n",
      "3     1.704630\n",
      "Name: home_address, dtype: float64\n",
      "1    64.094364\n",
      "4    15.920270\n",
      "2    14.398569\n",
      "3     5.586797\n",
      "Name: sna, dtype: float64\n",
      "3    42.351522\n",
      "4    25.389233\n",
      "1    16.584236\n",
      "2    15.675009\n",
      "Name: first_time, dtype: float64\n"
     ]
    }
   ],
   "source": [
    "for i in cat_cols:\n",
    "    print(df[df['sample']==1][i].value_counts(normalize=True)*100)"
   ]
  },
  {
   "cell_type": "code",
   "execution_count": 65,
   "metadata": {
    "execution": {
     "iopub.execute_input": "2021-04-28T18:24:42.894220Z",
     "iopub.status.busy": "2021-04-28T18:24:42.893216Z",
     "iopub.status.idle": "2021-04-28T18:24:42.924648Z",
     "shell.execute_reply": "2021-04-28T18:24:42.923992Z"
    },
    "papermill": {
     "duration": 0.158304,
     "end_time": "2021-04-28T18:24:42.924813",
     "exception": false,
     "start_time": "2021-04-28T18:24:42.766509",
     "status": "completed"
    },
    "tags": []
   },
   "outputs": [
    {
     "name": "stdout",
     "output_type": "stream",
     "text": [
      "0    52.650692\n",
      "1    31.370877\n",
      "2    13.568461\n",
      "3     1.672673\n",
      "5     0.470439\n",
      "4     0.266857\n",
      "Name: education, dtype: float64\n",
      "3    60.948032\n",
      "2    28.212606\n",
      "1    10.839363\n",
      "Name: work_address, dtype: float64\n",
      "2    54.017992\n",
      "1    44.301081\n",
      "3     1.680927\n",
      "Name: home_address, dtype: float64\n",
      "1    64.320889\n",
      "4    15.769347\n",
      "2    14.322265\n",
      "3     5.587499\n",
      "Name: sna, dtype: float64\n",
      "3    42.182729\n",
      "4    25.530276\n",
      "1    16.663457\n",
      "2    15.623538\n",
      "Name: first_time, dtype: float64\n"
     ]
    }
   ],
   "source": [
    "for i in cat_cols:\n",
    "    print(df[df['sample']==0][i].value_counts(normalize=True)*100)"
   ]
  },
  {
   "cell_type": "markdown",
   "metadata": {
    "papermill": {
     "duration": 0.12081,
     "end_time": "2021-04-28T18:24:43.167921",
     "exception": false,
     "start_time": "2021-04-28T18:24:43.047111",
     "status": "completed"
    },
    "tags": []
   },
   "source": [
    "Можно сделать вывод о том, что в трейне и в тесте содержатся одинаковые unique списки значений, это хорошо, модель не будет ругаться на \"левые\" данные. Так же в трейне и в тесте одинаковые отношения групп, это значит, что модель не будет смещаться после обучения (не тесте) в сторону наиболее часто встречающихся категорий."
   ]
  },
  {
   "cell_type": "markdown",
   "metadata": {
    "papermill": {
     "duration": 0.119645,
     "end_time": "2021-04-28T18:24:43.408166",
     "exception": false,
     "start_time": "2021-04-28T18:24:43.288521",
     "status": "completed"
    },
    "tags": []
   },
   "source": [
    "Посмотрим какие признаки наиболее значимы"
   ]
  },
  {
   "cell_type": "code",
   "execution_count": 66,
   "metadata": {
    "execution": {
     "iopub.execute_input": "2021-04-28T18:24:43.653137Z",
     "iopub.status.busy": "2021-04-28T18:24:43.652441Z",
     "iopub.status.idle": "2021-04-28T18:24:43.671690Z",
     "shell.execute_reply": "2021-04-28T18:24:43.671125Z"
    },
    "papermill": {
     "duration": 0.143597,
     "end_time": "2021-04-28T18:24:43.671838",
     "exception": false,
     "start_time": "2021-04-28T18:24:43.528241",
     "status": "completed"
    },
    "tags": []
   },
   "outputs": [],
   "source": [
    "df1 = df.copy()\n",
    "dataset = df.copy()"
   ]
  },
  {
   "cell_type": "code",
   "execution_count": 67,
   "metadata": {
    "execution": {
     "iopub.execute_input": "2021-04-28T18:24:43.927609Z",
     "iopub.status.busy": "2021-04-28T18:24:43.926949Z",
     "iopub.status.idle": "2021-04-28T18:24:43.989397Z",
     "shell.execute_reply": "2021-04-28T18:24:43.988712Z"
    },
    "papermill": {
     "duration": 0.196981,
     "end_time": "2021-04-28T18:24:43.989536",
     "exception": false,
     "start_time": "2021-04-28T18:24:43.792555",
     "status": "completed"
    },
    "tags": []
   },
   "outputs": [],
   "source": [
    "dataset[num_cols] = pd.DataFrame(StandardScaler().fit_transform(df[num_cols]), columns = df[num_cols].columns)"
   ]
  },
  {
   "cell_type": "code",
   "execution_count": 68,
   "metadata": {
    "execution": {
     "iopub.execute_input": "2021-04-28T18:24:44.238288Z",
     "iopub.status.busy": "2021-04-28T18:24:44.237625Z",
     "iopub.status.idle": "2021-04-28T18:24:44.256712Z",
     "shell.execute_reply": "2021-04-28T18:24:44.257184Z"
    },
    "papermill": {
     "duration": 0.145574,
     "end_time": "2021-04-28T18:24:44.257369",
     "exception": false,
     "start_time": "2021-04-28T18:24:44.111795",
     "status": "completed"
    },
    "tags": []
   },
   "outputs": [],
   "source": [
    "data_temp = dataset.loc[data['sample'] == 1]"
   ]
  },
  {
   "cell_type": "code",
   "execution_count": 69,
   "metadata": {
    "execution": {
     "iopub.execute_input": "2021-04-28T18:24:44.500627Z",
     "iopub.status.busy": "2021-04-28T18:24:44.499927Z",
     "iopub.status.idle": "2021-04-28T18:24:44.583857Z",
     "shell.execute_reply": "2021-04-28T18:24:44.584311Z"
    },
    "papermill": {
     "duration": 0.207144,
     "end_time": "2021-04-28T18:24:44.584494",
     "exception": false,
     "start_time": "2021-04-28T18:24:44.377350",
     "status": "completed"
    },
    "tags": []
   },
   "outputs": [
    {
     "data": {
      "text/html": [
       "<div>\n",
       "<style scoped>\n",
       "    .dataframe tbody tr th:only-of-type {\n",
       "        vertical-align: middle;\n",
       "    }\n",
       "\n",
       "    .dataframe tbody tr th {\n",
       "        vertical-align: top;\n",
       "    }\n",
       "\n",
       "    .dataframe thead th {\n",
       "        text-align: right;\n",
       "    }\n",
       "</style>\n",
       "<table border=\"1\" class=\"dataframe\">\n",
       "  <thead>\n",
       "    <tr style=\"text-align: right;\">\n",
       "      <th></th>\n",
       "      <th>client_id</th>\n",
       "      <th>app_date</th>\n",
       "      <th>education</th>\n",
       "      <th>sex</th>\n",
       "      <th>age</th>\n",
       "      <th>car</th>\n",
       "      <th>car_type</th>\n",
       "      <th>decline_app_cnt</th>\n",
       "      <th>good_work</th>\n",
       "      <th>score_bki</th>\n",
       "      <th>...</th>\n",
       "      <th>region_rating</th>\n",
       "      <th>home_address</th>\n",
       "      <th>work_address</th>\n",
       "      <th>income</th>\n",
       "      <th>sna</th>\n",
       "      <th>first_time</th>\n",
       "      <th>foreign_passport</th>\n",
       "      <th>default</th>\n",
       "      <th>sample</th>\n",
       "      <th>days_from_now</th>\n",
       "    </tr>\n",
       "  </thead>\n",
       "  <tbody>\n",
       "    <tr>\n",
       "      <th>0</th>\n",
       "      <td>25905</td>\n",
       "      <td>31</td>\n",
       "      <td>SCH</td>\n",
       "      <td>M</td>\n",
       "      <td>62</td>\n",
       "      <td>Y</td>\n",
       "      <td>Y</td>\n",
       "      <td>0.000000</td>\n",
       "      <td>0</td>\n",
       "      <td>-2.008753</td>\n",
       "      <td>...</td>\n",
       "      <td>50</td>\n",
       "      <td>1</td>\n",
       "      <td>2</td>\n",
       "      <td>9.798183</td>\n",
       "      <td>4</td>\n",
       "      <td>1</td>\n",
       "      <td>N</td>\n",
       "      <td>0</td>\n",
       "      <td>1</td>\n",
       "      <td>2643</td>\n",
       "    </tr>\n",
       "    <tr>\n",
       "      <th>1</th>\n",
       "      <td>63161</td>\n",
       "      <td>70</td>\n",
       "      <td>SCH</td>\n",
       "      <td>F</td>\n",
       "      <td>59</td>\n",
       "      <td>N</td>\n",
       "      <td>N</td>\n",
       "      <td>0.000000</td>\n",
       "      <td>0</td>\n",
       "      <td>-1.532276</td>\n",
       "      <td>...</td>\n",
       "      <td>50</td>\n",
       "      <td>2</td>\n",
       "      <td>3</td>\n",
       "      <td>9.852247</td>\n",
       "      <td>4</td>\n",
       "      <td>1</td>\n",
       "      <td>N</td>\n",
       "      <td>0</td>\n",
       "      <td>1</td>\n",
       "      <td>2604</td>\n",
       "    </tr>\n",
       "    <tr>\n",
       "      <th>2</th>\n",
       "      <td>25887</td>\n",
       "      <td>31</td>\n",
       "      <td>SCH</td>\n",
       "      <td>M</td>\n",
       "      <td>25</td>\n",
       "      <td>Y</td>\n",
       "      <td>N</td>\n",
       "      <td>1.098612</td>\n",
       "      <td>0</td>\n",
       "      <td>-1.408142</td>\n",
       "      <td>...</td>\n",
       "      <td>80</td>\n",
       "      <td>1</td>\n",
       "      <td>2</td>\n",
       "      <td>10.308986</td>\n",
       "      <td>1</td>\n",
       "      <td>4</td>\n",
       "      <td>Y</td>\n",
       "      <td>0</td>\n",
       "      <td>1</td>\n",
       "      <td>2643</td>\n",
       "    </tr>\n",
       "    <tr>\n",
       "      <th>3</th>\n",
       "      <td>16222</td>\n",
       "      <td>22</td>\n",
       "      <td>SCH</td>\n",
       "      <td>F</td>\n",
       "      <td>53</td>\n",
       "      <td>N</td>\n",
       "      <td>N</td>\n",
       "      <td>0.000000</td>\n",
       "      <td>0</td>\n",
       "      <td>-2.057471</td>\n",
       "      <td>...</td>\n",
       "      <td>50</td>\n",
       "      <td>2</td>\n",
       "      <td>3</td>\n",
       "      <td>9.210440</td>\n",
       "      <td>1</td>\n",
       "      <td>3</td>\n",
       "      <td>N</td>\n",
       "      <td>0</td>\n",
       "      <td>1</td>\n",
       "      <td>2652</td>\n",
       "    </tr>\n",
       "    <tr>\n",
       "      <th>4</th>\n",
       "      <td>101655</td>\n",
       "      <td>107</td>\n",
       "      <td>GRD</td>\n",
       "      <td>M</td>\n",
       "      <td>48</td>\n",
       "      <td>N</td>\n",
       "      <td>N</td>\n",
       "      <td>0.000000</td>\n",
       "      <td>1</td>\n",
       "      <td>-1.244723</td>\n",
       "      <td>...</td>\n",
       "      <td>60</td>\n",
       "      <td>2</td>\n",
       "      <td>3</td>\n",
       "      <td>10.308986</td>\n",
       "      <td>1</td>\n",
       "      <td>4</td>\n",
       "      <td>Y</td>\n",
       "      <td>0</td>\n",
       "      <td>1</td>\n",
       "      <td>2567</td>\n",
       "    </tr>\n",
       "    <tr>\n",
       "      <th>...</th>\n",
       "      <td>...</td>\n",
       "      <td>...</td>\n",
       "      <td>...</td>\n",
       "      <td>...</td>\n",
       "      <td>...</td>\n",
       "      <td>...</td>\n",
       "      <td>...</td>\n",
       "      <td>...</td>\n",
       "      <td>...</td>\n",
       "      <td>...</td>\n",
       "      <td>...</td>\n",
       "      <td>...</td>\n",
       "      <td>...</td>\n",
       "      <td>...</td>\n",
       "      <td>...</td>\n",
       "      <td>...</td>\n",
       "      <td>...</td>\n",
       "      <td>...</td>\n",
       "      <td>...</td>\n",
       "      <td>...</td>\n",
       "      <td>...</td>\n",
       "    </tr>\n",
       "    <tr>\n",
       "      <th>110143</th>\n",
       "      <td>83775</td>\n",
       "      <td>89</td>\n",
       "      <td>SCH</td>\n",
       "      <td>F</td>\n",
       "      <td>37</td>\n",
       "      <td>N</td>\n",
       "      <td>N</td>\n",
       "      <td>0.693147</td>\n",
       "      <td>0</td>\n",
       "      <td>-1.744976</td>\n",
       "      <td>...</td>\n",
       "      <td>50</td>\n",
       "      <td>2</td>\n",
       "      <td>3</td>\n",
       "      <td>9.615872</td>\n",
       "      <td>4</td>\n",
       "      <td>1</td>\n",
       "      <td>N</td>\n",
       "      <td>-1</td>\n",
       "      <td>0</td>\n",
       "      <td>2585</td>\n",
       "    </tr>\n",
       "    <tr>\n",
       "      <th>110144</th>\n",
       "      <td>106254</td>\n",
       "      <td>114</td>\n",
       "      <td>GRD</td>\n",
       "      <td>F</td>\n",
       "      <td>64</td>\n",
       "      <td>Y</td>\n",
       "      <td>Y</td>\n",
       "      <td>0.000000</td>\n",
       "      <td>0</td>\n",
       "      <td>-2.293781</td>\n",
       "      <td>...</td>\n",
       "      <td>60</td>\n",
       "      <td>1</td>\n",
       "      <td>2</td>\n",
       "      <td>12.206078</td>\n",
       "      <td>1</td>\n",
       "      <td>4</td>\n",
       "      <td>N</td>\n",
       "      <td>-1</td>\n",
       "      <td>0</td>\n",
       "      <td>2560</td>\n",
       "    </tr>\n",
       "    <tr>\n",
       "      <th>110145</th>\n",
       "      <td>81852</td>\n",
       "      <td>88</td>\n",
       "      <td>GRD</td>\n",
       "      <td>M</td>\n",
       "      <td>31</td>\n",
       "      <td>N</td>\n",
       "      <td>N</td>\n",
       "      <td>1.098612</td>\n",
       "      <td>0</td>\n",
       "      <td>-0.940752</td>\n",
       "      <td>...</td>\n",
       "      <td>50</td>\n",
       "      <td>1</td>\n",
       "      <td>2</td>\n",
       "      <td>11.002117</td>\n",
       "      <td>4</td>\n",
       "      <td>2</td>\n",
       "      <td>N</td>\n",
       "      <td>-1</td>\n",
       "      <td>0</td>\n",
       "      <td>2586</td>\n",
       "    </tr>\n",
       "    <tr>\n",
       "      <th>110146</th>\n",
       "      <td>1971</td>\n",
       "      <td>6</td>\n",
       "      <td>UGR</td>\n",
       "      <td>F</td>\n",
       "      <td>27</td>\n",
       "      <td>N</td>\n",
       "      <td>N</td>\n",
       "      <td>0.693147</td>\n",
       "      <td>0</td>\n",
       "      <td>-1.242392</td>\n",
       "      <td>...</td>\n",
       "      <td>80</td>\n",
       "      <td>2</td>\n",
       "      <td>3</td>\n",
       "      <td>10.308986</td>\n",
       "      <td>1</td>\n",
       "      <td>1</td>\n",
       "      <td>N</td>\n",
       "      <td>-1</td>\n",
       "      <td>0</td>\n",
       "      <td>2668</td>\n",
       "    </tr>\n",
       "    <tr>\n",
       "      <th>110147</th>\n",
       "      <td>69044</td>\n",
       "      <td>75</td>\n",
       "      <td>SCH</td>\n",
       "      <td>M</td>\n",
       "      <td>38</td>\n",
       "      <td>N</td>\n",
       "      <td>N</td>\n",
       "      <td>0.000000</td>\n",
       "      <td>0</td>\n",
       "      <td>-1.507549</td>\n",
       "      <td>...</td>\n",
       "      <td>50</td>\n",
       "      <td>1</td>\n",
       "      <td>2</td>\n",
       "      <td>9.615872</td>\n",
       "      <td>4</td>\n",
       "      <td>2</td>\n",
       "      <td>N</td>\n",
       "      <td>-1</td>\n",
       "      <td>0</td>\n",
       "      <td>2599</td>\n",
       "    </tr>\n",
       "  </tbody>\n",
       "</table>\n",
       "<p>110148 rows × 21 columns</p>\n",
       "</div>"
      ],
      "text/plain": [
       "        client_id  app_date education sex  age car car_type  decline_app_cnt  \\\n",
       "0           25905        31       SCH   M   62   Y        Y         0.000000   \n",
       "1           63161        70       SCH   F   59   N        N         0.000000   \n",
       "2           25887        31       SCH   M   25   Y        N         1.098612   \n",
       "3           16222        22       SCH   F   53   N        N         0.000000   \n",
       "4          101655       107       GRD   M   48   N        N         0.000000   \n",
       "...           ...       ...       ...  ..  ...  ..      ...              ...   \n",
       "110143      83775        89       SCH   F   37   N        N         0.693147   \n",
       "110144     106254       114       GRD   F   64   Y        Y         0.000000   \n",
       "110145      81852        88       GRD   M   31   N        N         1.098612   \n",
       "110146       1971         6       UGR   F   27   N        N         0.693147   \n",
       "110147      69044        75       SCH   M   38   N        N         0.000000   \n",
       "\n",
       "        good_work  score_bki  ...  region_rating  home_address  work_address  \\\n",
       "0               0  -2.008753  ...             50             1             2   \n",
       "1               0  -1.532276  ...             50             2             3   \n",
       "2               0  -1.408142  ...             80             1             2   \n",
       "3               0  -2.057471  ...             50             2             3   \n",
       "4               1  -1.244723  ...             60             2             3   \n",
       "...           ...        ...  ...            ...           ...           ...   \n",
       "110143          0  -1.744976  ...             50             2             3   \n",
       "110144          0  -2.293781  ...             60             1             2   \n",
       "110145          0  -0.940752  ...             50             1             2   \n",
       "110146          0  -1.242392  ...             80             2             3   \n",
       "110147          0  -1.507549  ...             50             1             2   \n",
       "\n",
       "           income  sna  first_time  foreign_passport default  sample  \\\n",
       "0        9.798183    4           1                 N       0       1   \n",
       "1        9.852247    4           1                 N       0       1   \n",
       "2       10.308986    1           4                 Y       0       1   \n",
       "3        9.210440    1           3                 N       0       1   \n",
       "4       10.308986    1           4                 Y       0       1   \n",
       "...           ...  ...         ...               ...     ...     ...   \n",
       "110143   9.615872    4           1                 N      -1       0   \n",
       "110144  12.206078    1           4                 N      -1       0   \n",
       "110145  11.002117    4           2                 N      -1       0   \n",
       "110146  10.308986    1           1                 N      -1       0   \n",
       "110147   9.615872    4           2                 N      -1       0   \n",
       "\n",
       "        days_from_now  \n",
       "0                2643  \n",
       "1                2604  \n",
       "2                2643  \n",
       "3                2652  \n",
       "4                2567  \n",
       "...               ...  \n",
       "110143           2585  \n",
       "110144           2560  \n",
       "110145           2586  \n",
       "110146           2668  \n",
       "110147           2599  \n",
       "\n",
       "[110148 rows x 21 columns]"
      ]
     },
     "execution_count": 69,
     "metadata": {},
     "output_type": "execute_result"
    }
   ],
   "source": [
    "data"
   ]
  },
  {
   "cell_type": "markdown",
   "metadata": {
    "papermill": {
     "duration": 0.121485,
     "end_time": "2021-04-28T18:24:44.829010",
     "exception": false,
     "start_time": "2021-04-28T18:24:44.707525",
     "status": "completed"
    },
    "tags": []
   },
   "source": [
    "Для чиловых признаков"
   ]
  },
  {
   "cell_type": "code",
   "execution_count": 70,
   "metadata": {
    "execution": {
     "iopub.execute_input": "2021-04-28T18:24:45.077683Z",
     "iopub.status.busy": "2021-04-28T18:24:45.077060Z",
     "iopub.status.idle": "2021-04-28T18:24:45.316884Z",
     "shell.execute_reply": "2021-04-28T18:24:45.317378Z"
    },
    "papermill": {
     "duration": 0.365992,
     "end_time": "2021-04-28T18:24:45.317564",
     "exception": false,
     "start_time": "2021-04-28T18:24:44.951572",
     "status": "completed"
    },
    "tags": []
   },
   "outputs": [
    {
     "data": {
      "text/plain": [
       "<matplotlib.axes._subplots.AxesSubplot at 0x1f2db90e580>"
      ]
     },
     "execution_count": 70,
     "metadata": {},
     "output_type": "execute_result"
    },
    {
     "data": {
      "image/png": "[encoded data removed]",
      "text/plain": [
       "<Figure size 1080x720 with 1 Axes>"
      ]
     },
     "metadata": {
      "needs_background": "light"
     },
     "output_type": "display_data"
    }
   ],
   "source": [
    "imp_num = pd.Series(f_classif(data_temp[num_cols], data_temp['default'])[0], index = num_cols)\n",
    "imp_num.sort_values(inplace = True)\n",
    "imp_num.plot(kind = 'barh', color='pink')"
   ]
  },
  {
   "cell_type": "markdown",
   "metadata": {
    "papermill": {
     "duration": 0.122733,
     "end_time": "2021-04-28T18:24:45.564742",
     "exception": false,
     "start_time": "2021-04-28T18:24:45.442009",
     "status": "completed"
    },
    "tags": []
   },
   "source": [
    "Для категорильаных и бинарных"
   ]
  },
  {
   "cell_type": "code",
   "execution_count": 71,
   "metadata": {
    "execution": {
     "iopub.execute_input": "2021-04-28T18:24:45.813231Z",
     "iopub.status.busy": "2021-04-28T18:24:45.812522Z",
     "iopub.status.idle": "2021-04-28T18:24:46.139883Z",
     "shell.execute_reply": "2021-04-28T18:24:46.140341Z"
    },
    "papermill": {
     "duration": 0.453325,
     "end_time": "2021-04-28T18:24:46.140515",
     "exception": false,
     "start_time": "2021-04-28T18:24:45.687190",
     "status": "completed"
    },
    "tags": []
   },
   "outputs": [
    {
     "data": {
      "text/plain": [
       "<matplotlib.axes._subplots.AxesSubplot at 0x1f2db951ee0>"
      ]
     },
     "execution_count": 71,
     "metadata": {},
     "output_type": "execute_result"
    },
    {
     "data": {
      "image/png": "[encoded data removed]",
      "text/plain": [
       "<Figure size 1080x720 with 1 Axes>"
      ]
     },
     "metadata": {
      "needs_background": "light"
     },
     "output_type": "display_data"
    }
   ],
   "source": [
    "imp_cat = pd.Series(mutual_info_classif(data_temp[bin_cols + cat_cols], data_temp['default'],\n",
    "                                     discrete_features =True), index = bin_cols + cat_cols)\n",
    "imp_cat.sort_values(inplace = True)\n",
    "imp_cat.plot(kind = 'barh', color='pink')"
   ]
  },
  {
   "cell_type": "markdown",
   "metadata": {
    "papermill": {
     "duration": 0.125872,
     "end_time": "2021-04-28T18:24:46.432876",
     "exception": false,
     "start_time": "2021-04-28T18:24:46.307004",
     "status": "completed"
    },
    "tags": []
   },
   "source": [
    "# **Encoding**"
   ]
  },
  {
   "cell_type": "code",
   "execution_count": 72,
   "metadata": {
    "execution": {
     "iopub.execute_input": "2021-04-28T18:24:46.686644Z",
     "iopub.status.busy": "2021-04-28T18:24:46.686018Z",
     "iopub.status.idle": "2021-04-28T18:24:46.720336Z",
     "shell.execute_reply": "2021-04-28T18:24:46.720828Z"
    },
    "papermill": {
     "duration": 0.16284,
     "end_time": "2021-04-28T18:24:46.721007",
     "exception": false,
     "start_time": "2021-04-28T18:24:46.558167",
     "status": "completed"
    },
    "tags": []
   },
   "outputs": [],
   "source": [
    "df = pd.get_dummies(dataset, prefix=cat_cols, columns=cat_cols)"
   ]
  },
  {
   "cell_type": "code",
   "execution_count": 73,
   "metadata": {
    "execution": {
     "iopub.execute_input": "2021-04-28T18:24:46.984327Z",
     "iopub.status.busy": "2021-04-28T18:24:46.982462Z",
     "iopub.status.idle": "2021-04-28T18:24:46.990202Z",
     "shell.execute_reply": "2021-04-28T18:24:46.989696Z"
    },
    "papermill": {
     "duration": 0.138853,
     "end_time": "2021-04-28T18:24:46.990338",
     "exception": false,
     "start_time": "2021-04-28T18:24:46.851485",
     "status": "completed"
    },
    "tags": []
   },
   "outputs": [],
   "source": [
    "data = df.copy()"
   ]
  },
  {
   "cell_type": "code",
   "execution_count": 74,
   "metadata": {
    "execution": {
     "iopub.execute_input": "2021-04-28T18:24:47.254790Z",
     "iopub.status.busy": "2021-04-28T18:24:47.252732Z",
     "iopub.status.idle": "2021-04-28T18:24:47.276622Z",
     "shell.execute_reply": "2021-04-28T18:24:47.276014Z"
    },
    "papermill": {
     "duration": 0.157534,
     "end_time": "2021-04-28T18:24:47.276775",
     "exception": false,
     "start_time": "2021-04-28T18:24:47.119241",
     "status": "completed"
    },
    "tags": []
   },
   "outputs": [
    {
     "data": {
      "text/html": [
       "<div>\n",
       "<style scoped>\n",
       "    .dataframe tbody tr th:only-of-type {\n",
       "        vertical-align: middle;\n",
       "    }\n",
       "\n",
       "    .dataframe tbody tr th {\n",
       "        vertical-align: top;\n",
       "    }\n",
       "\n",
       "    .dataframe thead th {\n",
       "        text-align: right;\n",
       "    }\n",
       "</style>\n",
       "<table border=\"1\" class=\"dataframe\">\n",
       "  <thead>\n",
       "    <tr style=\"text-align: right;\">\n",
       "      <th></th>\n",
       "      <th>client_id</th>\n",
       "      <th>app_date</th>\n",
       "      <th>sex</th>\n",
       "      <th>age</th>\n",
       "      <th>car</th>\n",
       "      <th>car_type</th>\n",
       "      <th>decline_app_cnt</th>\n",
       "      <th>good_work</th>\n",
       "      <th>score_bki</th>\n",
       "      <th>bki_request_cnt</th>\n",
       "      <th>...</th>\n",
       "      <th>home_address_2</th>\n",
       "      <th>home_address_3</th>\n",
       "      <th>sna_1</th>\n",
       "      <th>sna_2</th>\n",
       "      <th>sna_3</th>\n",
       "      <th>sna_4</th>\n",
       "      <th>first_time_1</th>\n",
       "      <th>first_time_2</th>\n",
       "      <th>first_time_3</th>\n",
       "      <th>first_time_4</th>\n",
       "    </tr>\n",
       "  </thead>\n",
       "  <tbody>\n",
       "    <tr>\n",
       "      <th>0</th>\n",
       "      <td>25905</td>\n",
       "      <td>-0.934391</td>\n",
       "      <td>0</td>\n",
       "      <td>1.975219</td>\n",
       "      <td>0</td>\n",
       "      <td>0</td>\n",
       "      <td>-0.418815</td>\n",
       "      <td>0</td>\n",
       "      <td>-0.208688</td>\n",
       "      <td>-0.281790</td>\n",
       "      <td>...</td>\n",
       "      <td>0</td>\n",
       "      <td>0</td>\n",
       "      <td>0</td>\n",
       "      <td>0</td>\n",
       "      <td>0</td>\n",
       "      <td>1</td>\n",
       "      <td>1</td>\n",
       "      <td>0</td>\n",
       "      <td>0</td>\n",
       "      <td>0</td>\n",
       "    </tr>\n",
       "    <tr>\n",
       "      <th>1</th>\n",
       "      <td>63161</td>\n",
       "      <td>0.281474</td>\n",
       "      <td>1</td>\n",
       "      <td>1.714757</td>\n",
       "      <td>1</td>\n",
       "      <td>1</td>\n",
       "      <td>-0.418815</td>\n",
       "      <td>0</td>\n",
       "      <td>0.745419</td>\n",
       "      <td>0.770563</td>\n",
       "      <td>...</td>\n",
       "      <td>1</td>\n",
       "      <td>0</td>\n",
       "      <td>0</td>\n",
       "      <td>0</td>\n",
       "      <td>0</td>\n",
       "      <td>1</td>\n",
       "      <td>1</td>\n",
       "      <td>0</td>\n",
       "      <td>0</td>\n",
       "      <td>0</td>\n",
       "    </tr>\n",
       "    <tr>\n",
       "      <th>2</th>\n",
       "      <td>25887</td>\n",
       "      <td>-0.934391</td>\n",
       "      <td>0</td>\n",
       "      <td>-1.237142</td>\n",
       "      <td>0</td>\n",
       "      <td>1</td>\n",
       "      <td>2.621662</td>\n",
       "      <td>0</td>\n",
       "      <td>0.993988</td>\n",
       "      <td>-0.281790</td>\n",
       "      <td>...</td>\n",
       "      <td>0</td>\n",
       "      <td>0</td>\n",
       "      <td>1</td>\n",
       "      <td>0</td>\n",
       "      <td>0</td>\n",
       "      <td>0</td>\n",
       "      <td>0</td>\n",
       "      <td>0</td>\n",
       "      <td>0</td>\n",
       "      <td>1</td>\n",
       "    </tr>\n",
       "  </tbody>\n",
       "</table>\n",
       "<p>3 rows × 42 columns</p>\n",
       "</div>"
      ],
      "text/plain": [
       "   client_id  app_date  sex       age  car  car_type  decline_app_cnt  \\\n",
       "0      25905 -0.934391    0  1.975219    0         0        -0.418815   \n",
       "1      63161  0.281474    1  1.714757    1         1        -0.418815   \n",
       "2      25887 -0.934391    0 -1.237142    0         1         2.621662   \n",
       "\n",
       "   good_work  score_bki  bki_request_cnt  ...  home_address_2  home_address_3  \\\n",
       "0          0  -0.208688        -0.281790  ...               0               0   \n",
       "1          0   0.745419         0.770563  ...               1               0   \n",
       "2          0   0.993988        -0.281790  ...               0               0   \n",
       "\n",
       "   sna_1  sna_2  sna_3  sna_4  first_time_1  first_time_2  first_time_3  \\\n",
       "0      0      0      0      1             1             0             0   \n",
       "1      0      0      0      1             1             0             0   \n",
       "2      1      0      0      0             0             0             0   \n",
       "\n",
       "   first_time_4  \n",
       "0             0  \n",
       "1             0  \n",
       "2             1  \n",
       "\n",
       "[3 rows x 42 columns]"
      ]
     },
     "execution_count": 74,
     "metadata": {},
     "output_type": "execute_result"
    }
   ],
   "source": [
    "data.head(3)"
   ]
  },
  {
   "cell_type": "markdown",
   "metadata": {
    "papermill": {
     "duration": 0.124016,
     "end_time": "2021-04-28T18:24:47.525129",
     "exception": false,
     "start_time": "2021-04-28T18:24:47.401113",
     "status": "completed"
    },
    "tags": []
   },
   "source": [
    "# **Построим модель**"
   ]
  },
  {
   "cell_type": "markdown",
   "metadata": {
    "papermill": {
     "duration": 0.125447,
     "end_time": "2021-04-28T18:24:47.775263",
     "exception": false,
     "start_time": "2021-04-28T18:24:47.649816",
     "status": "completed"
    },
    "tags": []
   },
   "source": [
    "1. **Oversampling**"
   ]
  },
  {
   "cell_type": "code",
   "execution_count": 75,
   "metadata": {
    "execution": {
     "iopub.execute_input": "2021-04-28T18:24:48.034609Z",
     "iopub.status.busy": "2021-04-28T18:24:48.033962Z",
     "iopub.status.idle": "2021-04-28T18:24:48.068236Z",
     "shell.execute_reply": "2021-04-28T18:24:48.067612Z"
    },
    "papermill": {
     "duration": 0.165969,
     "end_time": "2021-04-28T18:24:48.068375",
     "exception": false,
     "start_time": "2021-04-28T18:24:47.902406",
     "status": "completed"
    },
    "tags": []
   },
   "outputs": [
    {
     "data": {
      "text/plain": [
       "0    64427\n",
       "1     9372\n",
       "Name: default, dtype: int64"
      ]
     },
     "execution_count": 75,
     "metadata": {},
     "output_type": "execute_result"
    }
   ],
   "source": [
    "data[data['default']!=-1].default.value_counts()"
   ]
  },
  {
   "cell_type": "markdown",
   "metadata": {
    "papermill": {
     "duration": 0.124912,
     "end_time": "2021-04-28T18:24:48.319304",
     "exception": false,
     "start_time": "2021-04-28T18:24:48.194392",
     "status": "completed"
    },
    "tags": []
   },
   "source": [
    "В данных нет проблемы с дисбалансом, однако 64427/9372=6.9, значений default=0 больше в 7 раз чем, default=1, решим эту проблему, добавлением строк с default=1"
   ]
  },
  {
   "cell_type": "code",
   "execution_count": 76,
   "metadata": {
    "execution": {
     "iopub.execute_input": "2021-04-28T18:24:48.576054Z",
     "iopub.status.busy": "2021-04-28T18:24:48.575407Z",
     "iopub.status.idle": "2021-04-28T18:24:49.104289Z",
     "shell.execute_reply": "2021-04-28T18:24:49.103636Z"
    },
    "papermill": {
     "duration": 0.660183,
     "end_time": "2021-04-28T18:24:49.104428",
     "exception": false,
     "start_time": "2021-04-28T18:24:48.444245",
     "status": "completed"
    },
    "tags": []
   },
   "outputs": [],
   "source": [
    "# возьмём индексы всех строк с default=1\n",
    "indexies_list = data[data['default']==1].index\n",
    "len_default1 = len(indexies_list) # кол-во таких строк\n",
    "# добавляем в dataframe эти строки для уравнивания\n",
    "for i in range(0,6):\n",
    "    data = data.append(data.loc[indexies_list][:len_default1], sort=False)"
   ]
  },
  {
   "cell_type": "code",
   "execution_count": 77,
   "metadata": {
    "execution": {
     "iopub.execute_input": "2021-04-28T18:24:49.366237Z",
     "iopub.status.busy": "2021-04-28T18:24:49.365582Z",
     "iopub.status.idle": "2021-04-28T18:24:49.416621Z",
     "shell.execute_reply": "2021-04-28T18:24:49.416122Z"
    },
    "papermill": {
     "duration": 0.182257,
     "end_time": "2021-04-28T18:24:49.416777",
     "exception": false,
     "start_time": "2021-04-28T18:24:49.234520",
     "status": "completed"
    },
    "tags": []
   },
   "outputs": [
    {
     "data": {
      "text/plain": [
       "1    65604\n",
       "0    64427\n",
       "Name: default, dtype: int64"
      ]
     },
     "execution_count": 77,
     "metadata": {},
     "output_type": "execute_result"
    }
   ],
   "source": [
    "# Значения совпадают\n",
    "data[data['default']!=-1].default.value_counts()"
   ]
  },
  {
   "cell_type": "code",
   "execution_count": 78,
   "metadata": {
    "execution": {
     "iopub.execute_input": "2021-04-28T18:24:49.683305Z",
     "iopub.status.busy": "2021-04-28T18:24:49.682576Z",
     "iopub.status.idle": "2021-04-28T18:24:51.816542Z",
     "shell.execute_reply": "2021-04-28T18:24:51.817400Z"
    },
    "papermill": {
     "duration": 2.271249,
     "end_time": "2021-04-28T18:24:51.817653",
     "exception": false,
     "start_time": "2021-04-28T18:24:49.546404",
     "status": "completed"
    },
    "tags": []
   },
   "outputs": [],
   "source": [
    "train_df = data.query('sample == 1').drop(['sample','client_id'], axis=1) # тренировочный датасет\n",
    "test_df = data.query('sample == 0').drop(['sample','client_id'], axis=1) # тестовый, который нужен для submission\n",
    "\n",
    "# разделим тренировочный датасет, на train и valid, чтобы оценивать значения метрик и прочее\n",
    "X = train_df.drop(['default'], axis=1).values\n",
    "y = train_df['default'].values\n",
    "\n",
    "X_train, X_valid, y_train, y_valid = train_test_split(X, y, test_size=0.2, random_state=31)\n",
    "\n",
    "model = LogisticRegression(max_iter = 1000) # назначаем метод логистической классификации\n",
    "\n",
    "model.fit(X_train, y_train) # тренируем модель на тренировочных данных\n",
    "y_pred = model.predict(X_valid) # предсказываем на тестовых\n",
    "y_pred_train = model.predict(X_train) #  предсказываем на тренировочных(чтобы посмотреть переобучение)"
   ]
  },
  {
   "cell_type": "code",
   "execution_count": 79,
   "metadata": {
    "execution": {
     "iopub.execute_input": "2021-04-28T18:24:52.130636Z",
     "iopub.status.busy": "2021-04-28T18:24:52.129678Z",
     "iopub.status.idle": "2021-04-28T18:24:52.137508Z",
     "shell.execute_reply": "2021-04-28T18:24:52.136927Z"
    },
    "papermill": {
     "duration": 0.142167,
     "end_time": "2021-04-28T18:24:52.137638",
     "exception": false,
     "start_time": "2021-04-28T18:24:51.995471",
     "status": "completed"
    },
    "tags": []
   },
   "outputs": [
    {
     "name": "stdout",
     "output_type": "stream",
     "text": [
      "1 в valid: 13196\n",
      "0 в valid: 12811\n",
      "1 в train: 52408\n",
      "0 в train: 51616\n"
     ]
    }
   ],
   "source": [
    "print('1 в valid:',len(np.where(y_valid==1)[0]))\n",
    "print('0 в valid:',len(np.where(y_valid==0)[0]))\n",
    "print('1 в train:',len(np.where(y_train==1)[0]))\n",
    "print('0 в train:',len(np.where(y_train==0)[0]))"
   ]
  },
  {
   "cell_type": "code",
   "execution_count": 80,
   "metadata": {
    "execution": {
     "iopub.execute_input": "2021-04-28T18:24:52.401529Z",
     "iopub.status.busy": "2021-04-28T18:24:52.400436Z",
     "iopub.status.idle": "2021-04-28T18:24:52.444816Z",
     "shell.execute_reply": "2021-04-28T18:24:52.444142Z"
    },
    "papermill": {
     "duration": 0.179435,
     "end_time": "2021-04-28T18:24:52.444959",
     "exception": false,
     "start_time": "2021-04-28T18:24:52.265524",
     "status": "completed"
    },
    "tags": []
   },
   "outputs": [
    {
     "name": "stdout",
     "output_type": "stream",
     "text": [
      "accuracy_score: 0.678163571346176\n",
      "precision_score: 0.6803977272727273\n",
      "recall_score: 0.6896786905122765\n",
      "f1_score: 0.6850067740478699\n"
     ]
    }
   ],
   "source": [
    "# метрики от валидации\n",
    "print('accuracy_score:',accuracy_score(y_valid,y_pred))\n",
    "print('precision_score:',precision_score(y_valid,y_pred))\n",
    "print('recall_score:',recall_score(y_valid,y_pred))\n",
    "print('f1_score:',f1_score(y_valid,y_pred))"
   ]
  },
  {
   "cell_type": "code",
   "execution_count": 81,
   "metadata": {
    "execution": {
     "iopub.execute_input": "2021-04-28T18:24:52.705593Z",
     "iopub.status.busy": "2021-04-28T18:24:52.704929Z",
     "iopub.status.idle": "2021-04-28T18:24:52.862593Z",
     "shell.execute_reply": "2021-04-28T18:24:52.862057Z"
    },
    "papermill": {
     "duration": 0.290068,
     "end_time": "2021-04-28T18:24:52.862745",
     "exception": false,
     "start_time": "2021-04-28T18:24:52.572677",
     "status": "completed"
    },
    "tags": []
   },
   "outputs": [
    {
     "name": "stdout",
     "output_type": "stream",
     "text": [
      "accuracy_score: 0.6752095670229947\n",
      "precision_score: 0.674193669086283\n",
      "recall_score: 0.6876240268661273\n",
      "f1_score: 0.6808426223313812\n"
     ]
    }
   ],
   "source": [
    "# метрики от трейна\n",
    "print('accuracy_score:',accuracy_score(y_train,y_pred_train))\n",
    "print('precision_score:',precision_score(y_train,y_pred_train))\n",
    "print('recall_score:',recall_score(y_train,y_pred_train))\n",
    "print('f1_score:',f1_score(y_train,y_pred_train))"
   ]
  },
  {
   "cell_type": "markdown",
   "metadata": {
    "papermill": {
     "duration": 0.128937,
     "end_time": "2021-04-28T18:24:53.119987",
     "exception": false,
     "start_time": "2021-04-28T18:24:52.991050",
     "status": "completed"
    },
    "tags": []
   },
   "source": [
    "# **Confusion matrix**"
   ]
  },
  {
   "cell_type": "code",
   "execution_count": 82,
   "metadata": {
    "execution": {
     "iopub.execute_input": "2021-04-28T18:24:53.382281Z",
     "iopub.status.busy": "2021-04-28T18:24:53.381631Z",
     "iopub.status.idle": "2021-04-28T18:24:53.618100Z",
     "shell.execute_reply": "2021-04-28T18:24:53.617570Z"
    },
    "papermill": {
     "duration": 0.369951,
     "end_time": "2021-04-28T18:24:53.618241",
     "exception": false,
     "start_time": "2021-04-28T18:24:53.248290",
     "status": "completed"
    },
    "tags": []
   },
   "outputs": [
    {
     "data": {
      "text/plain": [
       "[Text(0, 0.5, 'True'), Text(0.5, 0, 'Predicted')]"
      ]
     },
     "execution_count": 82,
     "metadata": {},
     "output_type": "execute_result"
    },
    {
     "data": {
      "image/png": "[encoded data removed]",
      "text/plain": [
       "<Figure size 1080x720 with 2 Axes>"
      ]
     },
     "metadata": {
      "needs_background": "light"
     },
     "output_type": "display_data"
    }
   ],
   "source": [
    "cm = confusion_matrix(y_valid, y_pred)\n",
    "cmd = ConfusionMatrixDisplay(cm, display_labels=['1','0'])\n",
    "cmd.plot()\n",
    "cmd.ax_.set(xlabel='Predicted', ylabel='True')"
   ]
  },
  {
   "cell_type": "markdown",
   "metadata": {
    "papermill": {
     "duration": 0.132001,
     "end_time": "2021-04-28T18:24:53.879744",
     "exception": false,
     "start_time": "2021-04-28T18:24:53.747743",
     "status": "completed"
    },
    "tags": []
   },
   "source": [
    "Значения метрик не отличаются(от валидации не меньше, чем от трейна), значит нет переобучения."
   ]
  },
  {
   "cell_type": "markdown",
   "metadata": {
    "papermill": {
     "duration": 0.131071,
     "end_time": "2021-04-28T18:24:54.141697",
     "exception": false,
     "start_time": "2021-04-28T18:24:54.010626",
     "status": "completed"
    },
    "tags": []
   },
   "source": [
    "Соотношения хорошие, дисбаланса нет."
   ]
  },
  {
   "cell_type": "code",
   "execution_count": 83,
   "metadata": {
    "execution": {
     "iopub.execute_input": "2021-04-28T18:24:54.408241Z",
     "iopub.status.busy": "2021-04-28T18:24:54.407061Z",
     "iopub.status.idle": "2021-04-28T18:24:54.667295Z",
     "shell.execute_reply": "2021-04-28T18:24:54.667755Z"
    },
    "papermill": {
     "duration": 0.396641,
     "end_time": "2021-04-28T18:24:54.667924",
     "exception": false,
     "start_time": "2021-04-28T18:24:54.271283",
     "status": "completed"
    },
    "tags": []
   },
   "outputs": [
    {
     "data": {
      "image/png": "[encoded data removed]",
      "text/plain": [
       "<Figure size 1080x720 with 1 Axes>"
      ]
     },
     "metadata": {
      "needs_background": "light"
     },
     "output_type": "display_data"
    }
   ],
   "source": [
    "probs = model.predict_proba(X_valid)\n",
    "probs = probs[:,1]\n",
    "\n",
    "\n",
    "fpr, tpr, threshold = roc_curve(y_valid, probs)\n",
    "roc_auc = roc_auc_score(y_valid, probs)\n",
    "\n",
    "plt.figure()\n",
    "plt.plot([0, 1], label='Baseline', linestyle='--')\n",
    "plt.plot(fpr, tpr, label = 'Regression')\n",
    "plt.title('Logistic Regression ROC AUC = %0.3f' % roc_auc)\n",
    "plt.ylabel('True Positive Rate')\n",
    "plt.xlabel('False Positive Rate')\n",
    "plt.legend(loc = 'lower right')\n",
    "plt.show()"
   ]
  },
  {
   "cell_type": "markdown",
   "metadata": {
    "papermill": {
     "duration": 0.130954,
     "end_time": "2021-04-28T18:24:54.929806",
     "exception": false,
     "start_time": "2021-04-28T18:24:54.798852",
     "status": "completed"
    },
    "tags": []
   },
   "source": [
    "# **Подбираем гиперпараметры**"
   ]
  },
  {
   "cell_type": "code",
   "execution_count": 84,
   "metadata": {
    "execution": {
     "iopub.execute_input": "2021-04-28T18:24:55.199443Z",
     "iopub.status.busy": "2021-04-28T18:24:55.198859Z",
     "iopub.status.idle": "2021-04-28T18:24:55.202109Z",
     "shell.execute_reply": "2021-04-28T18:24:55.201578Z"
    },
    "papermill": {
     "duration": 0.140564,
     "end_time": "2021-04-28T18:24:55.202244",
     "exception": false,
     "start_time": "2021-04-28T18:24:55.061680",
     "status": "completed"
    },
    "tags": []
   },
   "outputs": [],
   "source": [
    "from sklearn.model_selection import GridSearchCV"
   ]
  },
  {
   "cell_type": "code",
   "execution_count": 85,
   "metadata": {
    "execution": {
     "iopub.execute_input": "2021-04-28T18:24:55.472025Z",
     "iopub.status.busy": "2021-04-28T18:24:55.471328Z",
     "iopub.status.idle": "2021-04-28T18:26:24.544409Z",
     "shell.execute_reply": "2021-04-28T18:26:24.545400Z"
    },
    "papermill": {
     "duration": 89.211869,
     "end_time": "2021-04-28T18:26:24.545692",
     "exception": false,
     "start_time": "2021-04-28T18:24:55.333823",
     "status": "completed"
    },
    "tags": []
   },
   "outputs": [
    {
     "name": "stderr",
     "output_type": "stream",
     "text": [
      "C:\\Users\\User\\anaconda3\\lib\\site-packages\\sklearn\\model_selection\\_validation.py:548: FitFailedWarning: Estimator fit failed. The score on this train-test partition for these parameters will be set to nan. Details: \n",
      "Traceback (most recent call last):\n",
      "  File \"C:\\Users\\User\\anaconda3\\lib\\site-packages\\sklearn\\model_selection\\_validation.py\", line 531, in _fit_and_score\n",
      "    estimator.fit(X_train, y_train, **fit_params)\n",
      "  File \"C:\\Users\\User\\anaconda3\\lib\\site-packages\\sklearn\\linear_model\\_logistic.py\", line 1304, in fit\n",
      "    solver = _check_solver(self.solver, self.penalty, self.dual)\n",
      "  File \"C:\\Users\\User\\anaconda3\\lib\\site-packages\\sklearn\\linear_model\\_logistic.py\", line 442, in _check_solver\n",
      "    raise ValueError(\"Solver %s supports only 'l2' or 'none' penalties, \"\n",
      "ValueError: Solver lbfgs supports only 'l2' or 'none' penalties, got l1 penalty.\n",
      "\n",
      "  warnings.warn(\"Estimator fit failed. The score on this train-test\"\n",
      "C:\\Users\\User\\anaconda3\\lib\\site-packages\\sklearn\\model_selection\\_validation.py:548: FitFailedWarning: Estimator fit failed. The score on this train-test partition for these parameters will be set to nan. Details: \n",
      "Traceback (most recent call last):\n",
      "  File \"C:\\Users\\User\\anaconda3\\lib\\site-packages\\sklearn\\model_selection\\_validation.py\", line 531, in _fit_and_score\n",
      "    estimator.fit(X_train, y_train, **fit_params)\n",
      "  File \"C:\\Users\\User\\anaconda3\\lib\\site-packages\\sklearn\\linear_model\\_logistic.py\", line 1304, in fit\n",
      "    solver = _check_solver(self.solver, self.penalty, self.dual)\n",
      "  File \"C:\\Users\\User\\anaconda3\\lib\\site-packages\\sklearn\\linear_model\\_logistic.py\", line 442, in _check_solver\n",
      "    raise ValueError(\"Solver %s supports only 'l2' or 'none' penalties, \"\n",
      "ValueError: Solver lbfgs supports only 'l2' or 'none' penalties, got l1 penalty.\n",
      "\n",
      "  warnings.warn(\"Estimator fit failed. The score on this train-test\"\n",
      "C:\\Users\\User\\anaconda3\\lib\\site-packages\\sklearn\\model_selection\\_validation.py:548: FitFailedWarning: Estimator fit failed. The score on this train-test partition for these parameters will be set to nan. Details: \n",
      "Traceback (most recent call last):\n",
      "  File \"C:\\Users\\User\\anaconda3\\lib\\site-packages\\sklearn\\model_selection\\_validation.py\", line 531, in _fit_and_score\n",
      "    estimator.fit(X_train, y_train, **fit_params)\n",
      "  File \"C:\\Users\\User\\anaconda3\\lib\\site-packages\\sklearn\\linear_model\\_logistic.py\", line 1304, in fit\n",
      "    solver = _check_solver(self.solver, self.penalty, self.dual)\n",
      "  File \"C:\\Users\\User\\anaconda3\\lib\\site-packages\\sklearn\\linear_model\\_logistic.py\", line 442, in _check_solver\n",
      "    raise ValueError(\"Solver %s supports only 'l2' or 'none' penalties, \"\n",
      "ValueError: Solver lbfgs supports only 'l2' or 'none' penalties, got l1 penalty.\n",
      "\n",
      "  warnings.warn(\"Estimator fit failed. The score on this train-test\"\n",
      "C:\\Users\\User\\anaconda3\\lib\\site-packages\\sklearn\\model_selection\\_validation.py:548: FitFailedWarning: Estimator fit failed. The score on this train-test partition for these parameters will be set to nan. Details: \n",
      "Traceback (most recent call last):\n",
      "  File \"C:\\Users\\User\\anaconda3\\lib\\site-packages\\sklearn\\model_selection\\_validation.py\", line 531, in _fit_and_score\n",
      "    estimator.fit(X_train, y_train, **fit_params)\n",
      "  File \"C:\\Users\\User\\anaconda3\\lib\\site-packages\\sklearn\\linear_model\\_logistic.py\", line 1304, in fit\n",
      "    solver = _check_solver(self.solver, self.penalty, self.dual)\n",
      "  File \"C:\\Users\\User\\anaconda3\\lib\\site-packages\\sklearn\\linear_model\\_logistic.py\", line 442, in _check_solver\n",
      "    raise ValueError(\"Solver %s supports only 'l2' or 'none' penalties, \"\n",
      "ValueError: Solver lbfgs supports only 'l2' or 'none' penalties, got l1 penalty.\n",
      "\n",
      "  warnings.warn(\"Estimator fit failed. The score on this train-test\"\n",
      "C:\\Users\\User\\anaconda3\\lib\\site-packages\\sklearn\\linear_model\\_logistic.py:762: ConvergenceWarning: lbfgs failed to converge (status=1):\n",
      "STOP: TOTAL NO. of ITERATIONS REACHED LIMIT.\n",
      "\n",
      "Increase the number of iterations (max_iter) or scale the data as shown in:\n",
      "    https://scikit-learn.org/stable/modules/preprocessing.html\n",
      "Please also refer to the documentation for alternative solver options:\n",
      "    https://scikit-learn.org/stable/modules/linear_model.html#logistic-regression\n",
      "  n_iter_i = _check_optimize_result(\n",
      "C:\\Users\\User\\anaconda3\\lib\\site-packages\\sklearn\\model_selection\\_validation.py:548: FitFailedWarning: Estimator fit failed. The score on this train-test partition for these parameters will be set to nan. Details: \n",
      "Traceback (most recent call last):\n",
      "  File \"C:\\Users\\User\\anaconda3\\lib\\site-packages\\sklearn\\model_selection\\_validation.py\", line 531, in _fit_and_score\n",
      "    estimator.fit(X_train, y_train, **fit_params)\n",
      "  File \"C:\\Users\\User\\anaconda3\\lib\\site-packages\\sklearn\\linear_model\\_logistic.py\", line 1304, in fit\n",
      "    solver = _check_solver(self.solver, self.penalty, self.dual)\n",
      "  File \"C:\\Users\\User\\anaconda3\\lib\\site-packages\\sklearn\\linear_model\\_logistic.py\", line 442, in _check_solver\n",
      "    raise ValueError(\"Solver %s supports only 'l2' or 'none' penalties, \"\n",
      "ValueError: Solver lbfgs supports only 'l2' or 'none' penalties, got l1 penalty.\n",
      "\n",
      "  warnings.warn(\"Estimator fit failed. The score on this train-test\"\n",
      "C:\\Users\\User\\anaconda3\\lib\\site-packages\\sklearn\\model_selection\\_validation.py:548: FitFailedWarning: Estimator fit failed. The score on this train-test partition for these parameters will be set to nan. Details: \n",
      "Traceback (most recent call last):\n",
      "  File \"C:\\Users\\User\\anaconda3\\lib\\site-packages\\sklearn\\model_selection\\_validation.py\", line 531, in _fit_and_score\n",
      "    estimator.fit(X_train, y_train, **fit_params)\n",
      "  File \"C:\\Users\\User\\anaconda3\\lib\\site-packages\\sklearn\\linear_model\\_logistic.py\", line 1304, in fit\n",
      "    solver = _check_solver(self.solver, self.penalty, self.dual)\n",
      "  File \"C:\\Users\\User\\anaconda3\\lib\\site-packages\\sklearn\\linear_model\\_logistic.py\", line 442, in _check_solver\n",
      "    raise ValueError(\"Solver %s supports only 'l2' or 'none' penalties, \"\n",
      "ValueError: Solver lbfgs supports only 'l2' or 'none' penalties, got l1 penalty.\n",
      "\n",
      "  warnings.warn(\"Estimator fit failed. The score on this train-test\"\n",
      "C:\\Users\\User\\anaconda3\\lib\\site-packages\\sklearn\\model_selection\\_validation.py:548: FitFailedWarning: Estimator fit failed. The score on this train-test partition for these parameters will be set to nan. Details: \n",
      "Traceback (most recent call last):\n",
      "  File \"C:\\Users\\User\\anaconda3\\lib\\site-packages\\sklearn\\model_selection\\_validation.py\", line 531, in _fit_and_score\n",
      "    estimator.fit(X_train, y_train, **fit_params)\n",
      "  File \"C:\\Users\\User\\anaconda3\\lib\\site-packages\\sklearn\\linear_model\\_logistic.py\", line 1304, in fit\n",
      "    solver = _check_solver(self.solver, self.penalty, self.dual)\n",
      "  File \"C:\\Users\\User\\anaconda3\\lib\\site-packages\\sklearn\\linear_model\\_logistic.py\", line 442, in _check_solver\n",
      "    raise ValueError(\"Solver %s supports only 'l2' or 'none' penalties, \"\n",
      "ValueError: Solver lbfgs supports only 'l2' or 'none' penalties, got l1 penalty.\n",
      "\n",
      "  warnings.warn(\"Estimator fit failed. The score on this train-test\"\n",
      "C:\\Users\\User\\anaconda3\\lib\\site-packages\\sklearn\\model_selection\\_validation.py:548: FitFailedWarning: Estimator fit failed. The score on this train-test partition for these parameters will be set to nan. Details: \n",
      "Traceback (most recent call last):\n",
      "  File \"C:\\Users\\User\\anaconda3\\lib\\site-packages\\sklearn\\model_selection\\_validation.py\", line 531, in _fit_and_score\n",
      "    estimator.fit(X_train, y_train, **fit_params)\n",
      "  File \"C:\\Users\\User\\anaconda3\\lib\\site-packages\\sklearn\\linear_model\\_logistic.py\", line 1304, in fit\n",
      "    solver = _check_solver(self.solver, self.penalty, self.dual)\n",
      "  File \"C:\\Users\\User\\anaconda3\\lib\\site-packages\\sklearn\\linear_model\\_logistic.py\", line 442, in _check_solver\n",
      "    raise ValueError(\"Solver %s supports only 'l2' or 'none' penalties, \"\n",
      "ValueError: Solver lbfgs supports only 'l2' or 'none' penalties, got l1 penalty.\n",
      "\n",
      "  warnings.warn(\"Estimator fit failed. The score on this train-test\"\n",
      "C:\\Users\\User\\anaconda3\\lib\\site-packages\\sklearn\\model_selection\\_validation.py:548: FitFailedWarning: Estimator fit failed. The score on this train-test partition for these parameters will be set to nan. Details: \n",
      "Traceback (most recent call last):\n",
      "  File \"C:\\Users\\User\\anaconda3\\lib\\site-packages\\sklearn\\model_selection\\_validation.py\", line 531, in _fit_and_score\n",
      "    estimator.fit(X_train, y_train, **fit_params)\n",
      "  File \"C:\\Users\\User\\anaconda3\\lib\\site-packages\\sklearn\\linear_model\\_logistic.py\", line 1304, in fit\n",
      "    solver = _check_solver(self.solver, self.penalty, self.dual)\n",
      "  File \"C:\\Users\\User\\anaconda3\\lib\\site-packages\\sklearn\\linear_model\\_logistic.py\", line 442, in _check_solver\n",
      "    raise ValueError(\"Solver %s supports only 'l2' or 'none' penalties, \"\n",
      "ValueError: Solver lbfgs supports only 'l2' or 'none' penalties, got l1 penalty.\n",
      "\n",
      "  warnings.warn(\"Estimator fit failed. The score on this train-test\"\n"
     ]
    },
    {
     "name": "stderr",
     "output_type": "stream",
     "text": [
      "C:\\Users\\User\\anaconda3\\lib\\site-packages\\sklearn\\linear_model\\_logistic.py:762: ConvergenceWarning: lbfgs failed to converge (status=1):\n",
      "STOP: TOTAL NO. of ITERATIONS REACHED LIMIT.\n",
      "\n",
      "Increase the number of iterations (max_iter) or scale the data as shown in:\n",
      "    https://scikit-learn.org/stable/modules/preprocessing.html\n",
      "Please also refer to the documentation for alternative solver options:\n",
      "    https://scikit-learn.org/stable/modules/linear_model.html#logistic-regression\n",
      "  n_iter_i = _check_optimize_result(\n",
      "C:\\Users\\User\\anaconda3\\lib\\site-packages\\sklearn\\model_selection\\_validation.py:548: FitFailedWarning: Estimator fit failed. The score on this train-test partition for these parameters will be set to nan. Details: \n",
      "Traceback (most recent call last):\n",
      "  File \"C:\\Users\\User\\anaconda3\\lib\\site-packages\\sklearn\\model_selection\\_validation.py\", line 531, in _fit_and_score\n",
      "    estimator.fit(X_train, y_train, **fit_params)\n",
      "  File \"C:\\Users\\User\\anaconda3\\lib\\site-packages\\sklearn\\linear_model\\_logistic.py\", line 1304, in fit\n",
      "    solver = _check_solver(self.solver, self.penalty, self.dual)\n",
      "  File \"C:\\Users\\User\\anaconda3\\lib\\site-packages\\sklearn\\linear_model\\_logistic.py\", line 442, in _check_solver\n",
      "    raise ValueError(\"Solver %s supports only 'l2' or 'none' penalties, \"\n",
      "ValueError: Solver lbfgs supports only 'l2' or 'none' penalties, got l1 penalty.\n",
      "\n",
      "  warnings.warn(\"Estimator fit failed. The score on this train-test\"\n",
      "C:\\Users\\User\\anaconda3\\lib\\site-packages\\sklearn\\linear_model\\_logistic.py:762: ConvergenceWarning: lbfgs failed to converge (status=1):\n",
      "STOP: TOTAL NO. of ITERATIONS REACHED LIMIT.\n",
      "\n",
      "Increase the number of iterations (max_iter) or scale the data as shown in:\n",
      "    https://scikit-learn.org/stable/modules/preprocessing.html\n",
      "Please also refer to the documentation for alternative solver options:\n",
      "    https://scikit-learn.org/stable/modules/linear_model.html#logistic-regression\n",
      "  n_iter_i = _check_optimize_result(\n"
     ]
    },
    {
     "name": "stdout",
     "output_type": "stream",
     "text": [
      "Лучшее Penalty: l2\n",
      "Лучшее C: 464.15888336127773\n"
     ]
    }
   ],
   "source": [
    "C = np.logspace(0, 4, 10)\n",
    "penalty = ['l1', 'l2']\n",
    "\n",
    "# Создадим гиперпараметры\n",
    "hyperparameters = dict(C=C, penalty=penalty)\n",
    "\n",
    "model = LogisticRegression()\n",
    "model.fit(X_train, y_train)\n",
    "\n",
    "# Создаем сетку поиска с использованием 5-кратной перекрестной проверки\n",
    "clf = GridSearchCV(model, hyperparameters, cv=5, verbose=0)\n",
    "\n",
    "best_model = clf.fit(X_train, y_train)\n",
    "\n",
    "# View best hyperparameters\n",
    "print('Лучшее Penalty:', best_model.best_estimator_.get_params()['penalty'])\n",
    "print('Лучшее C:', best_model.best_estimator_.get_params()['C'])"
   ]
  },
  {
   "cell_type": "code",
   "execution_count": 86,
   "metadata": {
    "execution": {
     "iopub.execute_input": "2021-04-28T18:26:24.875996Z",
     "iopub.status.busy": "2021-04-28T18:26:24.875074Z",
     "iopub.status.idle": "2021-04-28T18:26:24.878635Z",
     "shell.execute_reply": "2021-04-28T18:26:24.879128Z"
    },
    "papermill": {
     "duration": 0.146554,
     "end_time": "2021-04-28T18:26:24.879289",
     "exception": false,
     "start_time": "2021-04-28T18:26:24.732735",
     "status": "completed"
    },
    "tags": []
   },
   "outputs": [
    {
     "data": {
      "text/plain": [
       "{'C': 464.15888336127773,\n",
       " 'class_weight': None,\n",
       " 'dual': False,\n",
       " 'fit_intercept': True,\n",
       " 'intercept_scaling': 1,\n",
       " 'l1_ratio': None,\n",
       " 'max_iter': 100,\n",
       " 'multi_class': 'auto',\n",
       " 'n_jobs': None,\n",
       " 'penalty': 'l2',\n",
       " 'random_state': None,\n",
       " 'solver': 'lbfgs',\n",
       " 'tol': 0.0001,\n",
       " 'verbose': 0,\n",
       " 'warm_start': False}"
      ]
     },
     "execution_count": 86,
     "metadata": {},
     "output_type": "execute_result"
    }
   ],
   "source": [
    "best_model.best_estimator_.get_params()"
   ]
  },
  {
   "cell_type": "code",
   "execution_count": 87,
   "metadata": {
    "execution": {
     "iopub.execute_input": "2021-04-28T18:26:25.224402Z",
     "iopub.status.busy": "2021-04-28T18:26:25.223476Z",
     "iopub.status.idle": "2021-04-28T18:26:27.382613Z",
     "shell.execute_reply": "2021-04-28T18:26:27.383478Z"
    },
    "papermill": {
     "duration": 2.3657,
     "end_time": "2021-04-28T18:26:27.383755",
     "exception": false,
     "start_time": "2021-04-28T18:26:25.018055",
     "status": "completed"
    },
    "tags": []
   },
   "outputs": [],
   "source": [
    "train_df = data.query('sample == 1').drop(['sample','client_id'], axis=1) # тренировочный датасет\n",
    "test_df = data.query('sample == 0').drop(['sample','client_id'], axis=1) # тестовый, который нужен для submission\n",
    "\n",
    "# разделим тренировочный датасет, на train и valid, чтобы оценивать значения метрик и прочее\n",
    "X = train_df.drop(['default'], axis=1).values\n",
    "y = train_df['default'].values\n",
    "\n",
    "X_train, X_valid, y_train, y_valid = train_test_split(X, y, test_size=0.2, random_state=31)\n",
    "\n",
    "model = LogisticRegression(C=464, penalty='l2') # назначаем метод логистической классификации\n",
    "\n",
    "model.fit(X_train, y_train) # тренируем модель на тренировочных данных\n",
    "y_pred = model.predict(X_valid) # предсказываем на тестовых\n",
    "y_pred_train = model.predict(X_train) #  предсказываем на тренировочных(чтобы посмотреть переобучение)"
   ]
  },
  {
   "cell_type": "code",
   "execution_count": 88,
   "metadata": {
    "execution": {
     "iopub.execute_input": "2021-04-28T18:26:27.720634Z",
     "iopub.status.busy": "2021-04-28T18:26:27.719497Z",
     "iopub.status.idle": "2021-04-28T18:26:27.980192Z",
     "shell.execute_reply": "2021-04-28T18:26:27.979697Z"
    },
    "papermill": {
     "duration": 0.405732,
     "end_time": "2021-04-28T18:26:27.980332",
     "exception": false,
     "start_time": "2021-04-28T18:26:27.574600",
     "status": "completed"
    },
    "tags": []
   },
   "outputs": [
    {
     "data": {
      "image/png": "[encoded data removed]",
      "text/plain": [
       "<Figure size 1080x720 with 1 Axes>"
      ]
     },
     "metadata": {
      "needs_background": "light"
     },
     "output_type": "display_data"
    }
   ],
   "source": [
    "probs = model.predict_proba(X_valid)\n",
    "probs = probs[:,1]\n",
    "\n",
    "\n",
    "fpr, tpr, threshold = roc_curve(y_valid, probs)\n",
    "roc_auc = roc_auc_score(y_valid, probs)\n",
    "\n",
    "plt.figure()\n",
    "plt.plot([0, 1], label='Baseline', linestyle='--')\n",
    "plt.plot(fpr, tpr, label = 'Regression')\n",
    "plt.title('Logistic Regression ROC AUC = %0.3f' % roc_auc)\n",
    "plt.ylabel('True Positive Rate')\n",
    "plt.xlabel('False Positive Rate')\n",
    "plt.legend(loc = 'lower right')\n",
    "plt.show()"
   ]
  },
  {
   "cell_type": "code",
   "execution_count": 89,
   "metadata": {
    "execution": {
     "iopub.execute_input": "2021-04-28T18:26:28.266888Z",
     "iopub.status.busy": "2021-04-28T18:26:28.266254Z",
     "iopub.status.idle": "2021-04-28T18:26:28.504096Z",
     "shell.execute_reply": "2021-04-28T18:26:28.504557Z"
    },
    "papermill": {
     "duration": 0.384368,
     "end_time": "2021-04-28T18:26:28.504804",
     "exception": false,
     "start_time": "2021-04-28T18:26:28.120436",
     "status": "completed"
    },
    "tags": []
   },
   "outputs": [
    {
     "data": {
      "text/plain": [
       "[Text(0, 0.5, 'True'), Text(0.5, 0, 'Predicted')]"
      ]
     },
     "execution_count": 89,
     "metadata": {},
     "output_type": "execute_result"
    },
    {
     "data": {
      "image/png": "[encoded data removed]",
      "text/plain": [
       "<Figure size 1080x720 with 2 Axes>"
      ]
     },
     "metadata": {
      "needs_background": "light"
     },
     "output_type": "display_data"
    }
   ],
   "source": [
    "cm = confusion_matrix(y_valid, y_pred)\n",
    "cmd = ConfusionMatrixDisplay(cm, display_labels=['1','0'])\n",
    "cmd.plot()\n",
    "cmd.ax_.set(xlabel='Predicted', ylabel='True')"
   ]
  },
  {
   "cell_type": "code",
   "execution_count": 90,
   "metadata": {
    "execution": {
     "iopub.execute_input": "2021-04-28T18:26:28.799326Z",
     "iopub.status.busy": "2021-04-28T18:26:28.798284Z",
     "iopub.status.idle": "2021-04-28T18:26:28.815364Z",
     "shell.execute_reply": "2021-04-28T18:26:28.816234Z"
    },
    "papermill": {
     "duration": 0.168646,
     "end_time": "2021-04-28T18:26:28.816504",
     "exception": false,
     "start_time": "2021-04-28T18:26:28.647858",
     "status": "completed"
    },
    "tags": []
   },
   "outputs": [],
   "source": [
    "X_test = test_df.drop(['default'], axis=1)\n",
    "y_pred = model.predict_proba(X_test)[:,1]\n",
    "submission = pd.DataFrame(data={'client_id':test['client_id'], 'default':y_pred})"
   ]
  },
  {
   "cell_type": "code",
   "execution_count": 91,
   "metadata": {
    "execution": {
     "iopub.execute_input": "2021-04-28T18:26:29.154066Z",
     "iopub.status.busy": "2021-04-28T18:26:29.153346Z",
     "iopub.status.idle": "2021-04-28T18:26:29.292960Z",
     "shell.execute_reply": "2021-04-28T18:26:29.293475Z"
    },
    "papermill": {
     "duration": 0.287313,
     "end_time": "2021-04-28T18:26:29.293716",
     "exception": false,
     "start_time": "2021-04-28T18:26:29.006403",
     "status": "completed"
    },
    "tags": []
   },
   "outputs": [],
   "source": [
    "submission.to_csv('submission.csv', index=False)"
   ]
  },
  {
   "cell_type": "code",
   "execution_count": 92,
   "metadata": {
    "execution": {
     "iopub.execute_input": "2021-04-28T18:26:29.586628Z",
     "iopub.status.busy": "2021-04-28T18:26:29.585732Z",
     "iopub.status.idle": "2021-04-28T18:26:29.589736Z",
     "shell.execute_reply": "2021-04-28T18:26:29.590186Z"
    },
    "papermill": {
     "duration": 0.156014,
     "end_time": "2021-04-28T18:26:29.590356",
     "exception": false,
     "start_time": "2021-04-28T18:26:29.434342",
     "status": "completed"
    },
    "tags": []
   },
   "outputs": [
    {
     "data": {
      "text/html": [
       "<div>\n",
       "<style scoped>\n",
       "    .dataframe tbody tr th:only-of-type {\n",
       "        vertical-align: middle;\n",
       "    }\n",
       "\n",
       "    .dataframe tbody tr th {\n",
       "        vertical-align: top;\n",
       "    }\n",
       "\n",
       "    .dataframe thead th {\n",
       "        text-align: right;\n",
       "    }\n",
       "</style>\n",
       "<table border=\"1\" class=\"dataframe\">\n",
       "  <thead>\n",
       "    <tr style=\"text-align: right;\">\n",
       "      <th></th>\n",
       "      <th>client_id</th>\n",
       "      <th>default</th>\n",
       "    </tr>\n",
       "  </thead>\n",
       "  <tbody>\n",
       "    <tr>\n",
       "      <th>0</th>\n",
       "      <td>74835</td>\n",
       "      <td>0.244162</td>\n",
       "    </tr>\n",
       "    <tr>\n",
       "      <th>1</th>\n",
       "      <td>17527</td>\n",
       "      <td>0.787958</td>\n",
       "    </tr>\n",
       "    <tr>\n",
       "      <th>2</th>\n",
       "      <td>75683</td>\n",
       "      <td>0.350011</td>\n",
       "    </tr>\n",
       "    <tr>\n",
       "      <th>3</th>\n",
       "      <td>26883</td>\n",
       "      <td>0.401657</td>\n",
       "    </tr>\n",
       "    <tr>\n",
       "      <th>4</th>\n",
       "      <td>28862</td>\n",
       "      <td>0.111315</td>\n",
       "    </tr>\n",
       "  </tbody>\n",
       "</table>\n",
       "</div>"
      ],
      "text/plain": [
       "   client_id   default\n",
       "0      74835  0.244162\n",
       "1      17527  0.787958\n",
       "2      75683  0.350011\n",
       "3      26883  0.401657\n",
       "4      28862  0.111315"
      ]
     },
     "execution_count": 92,
     "metadata": {},
     "output_type": "execute_result"
    }
   ],
   "source": [
    "submission.head(5)"
   ]
  }
 ],
 "metadata": {
  "kernelspec": {
   "display_name": "Python 3",
   "language": "python",
   "name": "python3"
  },
  "language_info": {
   "codemirror_mode": {
    "name": "ipython",
    "version": 3
   },
   "file_extension": ".py",
   "mimetype": "text/x-python",
   "name": "python",
   "nbconvert_exporter": "python",
   "pygments_lexer": "ipython3",
   "version": "3.8.3"
  },
  "papermill": {
   "default_parameters": {},
   "duration": 203.227267,
   "end_time": "2021-04-28T18:26:31.185167",
   "environment_variables": {},
   "exception": null,
   "input_path": "__notebook__.ipynb",
   "output_path": "__notebook__.ipynb",
   "parameters": {},
   "start_time": "2021-04-28T18:23:07.957900",
   "version": "2.3.3"
  }
 },
 "nbformat": 4,
 "nbformat_minor": 5
}
